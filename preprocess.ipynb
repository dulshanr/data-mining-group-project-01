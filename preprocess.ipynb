{
 "cells": [
  {
   "cell_type": "code",
   "execution_count": 1,
   "metadata": {},
   "outputs": [],
   "source": [
    "import numpy as np\n",
    "import pandas as pd"
   ]
  },
  {
   "cell_type": "code",
   "execution_count": null,
   "metadata": {},
   "outputs": [],
   "source": [
    "df_feature_def = pd.read_csv('/kaggle/input/home-credit-credit-risk-model-stability/feature_definitions.csv')\n",
    "df_feature_def[df_feature_def['Variable']=='opencred_647L']"
   ]
  },
  {
   "cell_type": "code",
   "execution_count": null,
   "metadata": {},
   "outputs": [],
   "source": [
    "# selects only depth=0 train tables\n",
    "\n",
    "# base\n",
    "df_train_base = pd.read_csv('/kaggle/input/home-credit-credit-risk-model-stability/csv_files/train/train_base.csv')\n",
    "\n",
    "# statics\n",
    "df_train_static_0_0 = pd.read_csv('/kaggle/input/home-credit-credit-risk-model-stability/csv_files/train/train_static_0_0.csv')\n",
    "df_train_static_0_1 = pd.read_csv('/kaggle/input/home-credit-credit-risk-model-stability/csv_files/train/train_static_0_1.csv')\n",
    "\n",
    "## tharaka: CB columns are not in the cleaning sheet. need to omit this\n",
    "# statics cb\n",
    "# df_train_static_cb_0 = pd.read_csv('/kaggle/input/home-credit-credit-risk-model-stability/csv_files/train/train_static_cb_0.csv')\n"
   ]
  },
  {
   "cell_type": "code",
   "execution_count": null,
   "metadata": {},
   "outputs": [],
   "source": [
    "print(df_train_base.shape)\n",
    "print(df_train_base.head(2))"
   ]
  },
  {
   "cell_type": "code",
   "execution_count": null,
   "metadata": {},
   "outputs": [],
   "source": [
    "print(df_train_static_0_1.shape)\n",
    "print(df_train_static_0_0.shape)"
   ]
  },
  {
   "cell_type": "code",
   "execution_count": null,
   "metadata": {},
   "outputs": [],
   "source": [
    "# concat train static tables\n",
    "df_train_static = pd.concat([df_train_static_0_0,df_train_static_0_1])\n",
    "\n",
    "# merge basetable with static table\n",
    "df = pd.merge(df_train_base,df_train_static,how='left',on='case_id')\n",
    "\n",
    "# create final dataframe\n",
    "# df = pd.merge(df,df_train_static_cb_0,how='left',on='case_id')"
   ]
  },
  {
   "cell_type": "markdown",
   "metadata": {},
   "source": [
    "##### Missing Data Handeling"
   ]
  },
  {
   "cell_type": "code",
   "execution_count": null,
   "metadata": {},
   "outputs": [],
   "source": [
    "base_cols = [ 'case_id','date_decision','MONTH','WEEK_NUM','target']\n",
    "sel_non_imputated_cols = ['actualdpdtolerance_344P','amtinstpaidbefduel24m_4187115A','annuity_780A','annuitynextmonth_57A','applicationcnt_361L','applications30d_658L','applicationscnt_1086L','applicationscnt_464L','applicationscnt_629L','applicationscnt_867L','avgdbddpdlast24m_3658932P','avgdbddpdlast3m_4187120P','avgdbdtollast24m_4525197P','avgdpdtolclosure24_3658938P','avginstallast24m_3658937A','avgmaxdpdlast9m_3716943P','avgoutstandbalancel6m_4187114A','avgpmtlast12m_4525200A','clientscnt_100L','clientscnt_1022L','clientscnt_1071L','clientscnt_1130L','clientscnt_157L','clientscnt_257L','clientscnt_304L','clientscnt_360L','clientscnt_493L','clientscnt_533L','clientscnt_887L','clientscnt_946L','clientscnt12m_3712952L','clientscnt3m_3712950L','clientscnt6m_3712949L','credamount_770A','credtype_322L','currdebt_22A','currdebtcredtyperange_828A','daysoverduetolerancedd_3976961L','deferredmnthsnum_166L','disbursedcredamount_1113A','disbursementtype_67L','downpmt_116A','isbidproduct_1095L','lastapprcommoditycat_1041M','lastapprcommoditytypec_5251766M','lastcancelreason_561M','lastrejectcommoditycat_161M','lastrejectcommodtypec_5251769M','lastrejectreason_759M','lastrejectreasonclient_4145040M','mobilephncnt_593L','numactivecreds_622L','numactivecredschannel_414L','numactiverelcontr_750L','numcontrs3months_479L','numnotactivated_1143L','numpmtchanneldd_318L','numrejects9m_859L','previouscontdistrict_112M','sellerplacecnt_915L','sellerplacescnt_216L']\n",
    "sel_imputated_cols = ['bankacctype_710L','cardtype_51L','cntincpaycont9m_3716944L','cntpmts24_3658933L','commnoinclast6m_3546845L','eir_270L','inittransactioncode_186L','interestrate_311L','lastapprcredamount_781A','lastrejectcredamount_222A','lastst_736L','maininc_215A','maxannuity_159A','maxdbddpdtollast6m_4187119P','numinstls_657L','numinstlsallpaid_934L','numinstpaidearly_338L','numinstregularpaid_973L','numinsttopaygr_769L','numinstunpaidmax_3546851L','opencred_647L','pmtnum_254L','posfpd30lastmonth_3976960P','price_1097A','sumoutstandtotal_3546847A','totaldebt_9A','totalsettled_863A']\n",
    "imputate_with_zero_cols = ['cntincpaycont9m_3716944L','cntpmts24_3658933L','commnoinclast6m_3546845L','lastapprcredamount_781A','lastrejectcredamount_222A','maininc_215A','maxannuity_159A','numinstls_657L','numinstlsallpaid_934L','numinstpaidearly_338L','numinstregularpaid_973L','numinsttopaygr_769L','numinstunpaidmax_3546851L','pmtnum_254L','posfpd30lastmonth_3976960P','price_1097A','sumoutstandtotal_3546847A','totaldebt_9A','totalsettled_863A']"
   ]
  },
  {
   "cell_type": "code",
   "execution_count": null,
   "metadata": {},
   "outputs": [],
   "source": [
    "def impute_with_zero(column):\n",
    "    df[column] = df[column].fillna(0.0)\n",
    "    \n",
    "# imputation with zero\n",
    "impute_with_zero(imputate_with_zero_cols)"
   ]
  },
  {
   "cell_type": "code",
   "execution_count": null,
   "metadata": {},
   "outputs": [],
   "source": [
    "# manual imputation\n",
    "\n",
    "# bankacctype_710L\n",
    "df['bankacctype_710L'] = df['bankacctype_710L'].fillna('NA')\n",
    "\n",
    "# cardtype_51L\n",
    "df['cardtype_51L'] = df['cardtype_51L'].fillna('NOCARD')\n",
    "\n",
    "# eir_270L\n",
    "df['eir_270L'] = df['eir_270L'].fillna(0.2)\n",
    "\n",
    "# inittransactioncode_186L\n",
    "df['inittransactioncode_186L'] = df['inittransactioncode_186L'].fillna(df['inittransactioncode_186L'].mode()[0])\n",
    "\n",
    "# interestrate_311L\n",
    "df['interestrate_311L'] = df['interestrate_311L'].fillna(df['interestrate_311L'].mean())\n",
    "\n",
    "# lastst_736L\n",
    "df['lastst_736L'] = df['lastst_736L'].fillna(df['lastst_736L'].mode()[0])\n",
    "\n",
    "# opencred_647L\n",
    "df['opencred_647L'] = df['opencred_647L'].fillna(df['opencred_647L'].mode()[0])\n"
   ]
  },
  {
   "cell_type": "code",
   "execution_count": null,
   "metadata": {},
   "outputs": [],
   "source": [
    "# selected columns for the final dataframe\n",
    "final_cols = base_cols + sel_imputated_cols + sel_non_imputated_cols"
   ]
  },
  {
   "cell_type": "code",
   "execution_count": null,
   "metadata": {},
   "outputs": [],
   "source": [
    "len(final_cols)"
   ]
  },
  {
   "cell_type": "code",
   "execution_count": null,
   "metadata": {},
   "outputs": [],
   "source": [
    "cleaned_frame = df[final_cols]"
   ]
  },
  {
   "cell_type": "code",
   "execution_count": null,
   "metadata": {},
   "outputs": [],
   "source": [
    "cleaned_frame.count()"
   ]
  },
  {
   "cell_type": "code",
   "execution_count": null,
   "metadata": {},
   "outputs": [],
   "source": [
    "cleaned_frame.to_csv('cleaned_joined_static.csv.gz', compression='gzip', index=False)"
   ]
  }
 ],
 "metadata": {
  "kernelspec": {
   "display_name": "base",
   "language": "python",
   "name": "python3"
  },
  "language_info": {
   "codemirror_mode": {
    "name": "ipython",
    "version": 3
   },
   "file_extension": ".py",
   "mimetype": "text/x-python",
   "name": "python",
   "nbconvert_exporter": "python",
   "pygments_lexer": "ipython3",
   "version": "3.11.5"
  }
 },
 "nbformat": 4,
 "nbformat_minor": 2
}
