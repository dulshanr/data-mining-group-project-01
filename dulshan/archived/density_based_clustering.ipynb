{
 "cells": [
  {
   "cell_type": "code",
   "execution_count": 1,
   "id": "13851713-b4a6-42c8-8922-09f27fc07f5e",
   "metadata": {},
   "outputs": [],
   "source": [
    "import pandas as pd\n",
    "import numpy as np"
   ]
  },
  {
   "cell_type": "code",
   "execution_count": 2,
   "id": "034357c8-3970-4884-b14a-8c7b824e7ba5",
   "metadata": {},
   "outputs": [],
   "source": [
    "df_1 = pd.read_parquet('./heir_raw.parquet')"
   ]
  },
  {
   "cell_type": "code",
   "execution_count": 7,
   "id": "f240102e-887a-4c21-a7f6-7cf1c0a77e1a",
   "metadata": {},
   "outputs": [],
   "source": [
    "df_2 = pd.read_parquet('./actual.parquet')"
   ]
  },
  {
   "cell_type": "code",
   "execution_count": 8,
   "id": "fd607823-eaa1-41ca-bf95-722edc6a60eb",
   "metadata": {},
   "outputs": [
    {
     "data": {
      "text/html": [
       "<div>\n",
       "<style scoped>\n",
       "    .dataframe tbody tr th:only-of-type {\n",
       "        vertical-align: middle;\n",
       "    }\n",
       "\n",
       "    .dataframe tbody tr th {\n",
       "        vertical-align: top;\n",
       "    }\n",
       "\n",
       "    .dataframe thead th {\n",
       "        text-align: right;\n",
       "    }\n",
       "</style>\n",
       "<table border=\"1\" class=\"dataframe\">\n",
       "  <thead>\n",
       "    <tr style=\"text-align: right;\">\n",
       "      <th></th>\n",
       "      <th>actual</th>\n",
       "    </tr>\n",
       "  </thead>\n",
       "  <tbody>\n",
       "    <tr>\n",
       "      <th>0</th>\n",
       "      <td>0</td>\n",
       "    </tr>\n",
       "    <tr>\n",
       "      <th>1</th>\n",
       "      <td>0</td>\n",
       "    </tr>\n",
       "    <tr>\n",
       "      <th>2</th>\n",
       "      <td>0</td>\n",
       "    </tr>\n",
       "    <tr>\n",
       "      <th>3</th>\n",
       "      <td>1</td>\n",
       "    </tr>\n",
       "    <tr>\n",
       "      <th>4</th>\n",
       "      <td>1</td>\n",
       "    </tr>\n",
       "    <tr>\n",
       "      <th>...</th>\n",
       "      <td>...</td>\n",
       "    </tr>\n",
       "    <tr>\n",
       "      <th>67186</th>\n",
       "      <td>1</td>\n",
       "    </tr>\n",
       "    <tr>\n",
       "      <th>67187</th>\n",
       "      <td>0</td>\n",
       "    </tr>\n",
       "    <tr>\n",
       "      <th>67188</th>\n",
       "      <td>0</td>\n",
       "    </tr>\n",
       "    <tr>\n",
       "      <th>67189</th>\n",
       "      <td>1</td>\n",
       "    </tr>\n",
       "    <tr>\n",
       "      <th>67190</th>\n",
       "      <td>1</td>\n",
       "    </tr>\n",
       "  </tbody>\n",
       "</table>\n",
       "<p>67191 rows × 1 columns</p>\n",
       "</div>"
      ],
      "text/plain": [
       "       actual\n",
       "0           0\n",
       "1           0\n",
       "2           0\n",
       "3           1\n",
       "4           1\n",
       "...       ...\n",
       "67186       1\n",
       "67187       0\n",
       "67188       0\n",
       "67189       1\n",
       "67190       1\n",
       "\n",
       "[67191 rows x 1 columns]"
      ]
     },
     "execution_count": 8,
     "metadata": {},
     "output_type": "execute_result"
    }
   ],
   "source": [
    "df_2"
   ]
  },
  {
   "cell_type": "code",
   "execution_count": 3,
   "id": "47b16e83-a5d0-4319-80e8-d5627f862577",
   "metadata": {},
   "outputs": [
    {
     "data": {
      "text/html": [
       "<div>\n",
       "<style scoped>\n",
       "    .dataframe tbody tr th:only-of-type {\n",
       "        vertical-align: middle;\n",
       "    }\n",
       "\n",
       "    .dataframe tbody tr th {\n",
       "        vertical-align: top;\n",
       "    }\n",
       "\n",
       "    .dataframe thead th {\n",
       "        text-align: right;\n",
       "    }\n",
       "</style>\n",
       "<table border=\"1\" class=\"dataframe\">\n",
       "  <thead>\n",
       "    <tr style=\"text-align: right;\">\n",
       "      <th></th>\n",
       "      <th>MONTH</th>\n",
       "      <th>WEEK_NUM</th>\n",
       "      <th>cntincpaycont9m_3716944L</th>\n",
       "      <th>cntpmts24_3658933L</th>\n",
       "      <th>commnoinclast6m_3546845L</th>\n",
       "      <th>eir_270L</th>\n",
       "      <th>interestrate_311L</th>\n",
       "      <th>lastapprcredamount_781A</th>\n",
       "      <th>lastrejectcredamount_222A</th>\n",
       "      <th>maininc_215A</th>\n",
       "      <th>...</th>\n",
       "      <th>disbursementtype_67L</th>\n",
       "      <th>isbidproduct_1095L</th>\n",
       "      <th>lastapprcommoditycat_1041M</th>\n",
       "      <th>lastapprcommoditytypec_5251766M</th>\n",
       "      <th>lastcancelreason_561M</th>\n",
       "      <th>lastrejectcommoditycat_161M</th>\n",
       "      <th>lastrejectcommodtypec_5251769M</th>\n",
       "      <th>lastrejectreason_759M</th>\n",
       "      <th>lastrejectreasonclient_4145040M</th>\n",
       "      <th>previouscontdistrict_112M</th>\n",
       "    </tr>\n",
       "    <tr>\n",
       "      <th>case_id</th>\n",
       "      <th></th>\n",
       "      <th></th>\n",
       "      <th></th>\n",
       "      <th></th>\n",
       "      <th></th>\n",
       "      <th></th>\n",
       "      <th></th>\n",
       "      <th></th>\n",
       "      <th></th>\n",
       "      <th></th>\n",
       "      <th></th>\n",
       "      <th></th>\n",
       "      <th></th>\n",
       "      <th></th>\n",
       "      <th></th>\n",
       "      <th></th>\n",
       "      <th></th>\n",
       "      <th></th>\n",
       "      <th></th>\n",
       "      <th></th>\n",
       "      <th></th>\n",
       "    </tr>\n",
       "  </thead>\n",
       "  <tbody>\n",
       "    <tr>\n",
       "      <th>105588.0</th>\n",
       "      <td>201901.0</td>\n",
       "      <td>2.0</td>\n",
       "      <td>0.138437</td>\n",
       "      <td>-0.123999</td>\n",
       "      <td>0.0</td>\n",
       "      <td>0.934709</td>\n",
       "      <td>0.894569</td>\n",
       "      <td>2.095303</td>\n",
       "      <td>-0.616854</td>\n",
       "      <td>0.788424</td>\n",
       "      <td>...</td>\n",
       "      <td>1.0</td>\n",
       "      <td>0.0</td>\n",
       "      <td>33.0</td>\n",
       "      <td>85.0</td>\n",
       "      <td>57.0</td>\n",
       "      <td>35.0</td>\n",
       "      <td>84.0</td>\n",
       "      <td>17.0</td>\n",
       "      <td>10.0</td>\n",
       "      <td>136.0</td>\n",
       "    </tr>\n",
       "    <tr>\n",
       "      <th>2608648.0</th>\n",
       "      <td>201908.0</td>\n",
       "      <td>32.0</td>\n",
       "      <td>-0.731513</td>\n",
       "      <td>-0.885906</td>\n",
       "      <td>0.0</td>\n",
       "      <td>0.771123</td>\n",
       "      <td>0.728891</td>\n",
       "      <td>0.115756</td>\n",
       "      <td>0.600801</td>\n",
       "      <td>-0.829664</td>\n",
       "      <td>...</td>\n",
       "      <td>1.0</td>\n",
       "      <td>1.0</td>\n",
       "      <td>33.0</td>\n",
       "      <td>85.0</td>\n",
       "      <td>57.0</td>\n",
       "      <td>35.0</td>\n",
       "      <td>84.0</td>\n",
       "      <td>17.0</td>\n",
       "      <td>10.0</td>\n",
       "      <td>8.0</td>\n",
       "    </tr>\n",
       "    <tr>\n",
       "      <th>2583138.0</th>\n",
       "      <td>201906.0</td>\n",
       "      <td>23.0</td>\n",
       "      <td>0.660408</td>\n",
       "      <td>2.288709</td>\n",
       "      <td>0.0</td>\n",
       "      <td>0.771123</td>\n",
       "      <td>0.728891</td>\n",
       "      <td>2.095303</td>\n",
       "      <td>-0.089203</td>\n",
       "      <td>2.049867</td>\n",
       "      <td>...</td>\n",
       "      <td>1.0</td>\n",
       "      <td>1.0</td>\n",
       "      <td>33.0</td>\n",
       "      <td>85.0</td>\n",
       "      <td>18.0</td>\n",
       "      <td>35.0</td>\n",
       "      <td>84.0</td>\n",
       "      <td>17.0</td>\n",
       "      <td>10.0</td>\n",
       "      <td>171.0</td>\n",
       "    </tr>\n",
       "    <tr>\n",
       "      <th>1358817.0</th>\n",
       "      <td>201905.0</td>\n",
       "      <td>17.0</td>\n",
       "      <td>-0.731513</td>\n",
       "      <td>-0.758922</td>\n",
       "      <td>0.0</td>\n",
       "      <td>0.825652</td>\n",
       "      <td>0.784117</td>\n",
       "      <td>-0.370647</td>\n",
       "      <td>-0.464485</td>\n",
       "      <td>-0.272336</td>\n",
       "      <td>...</td>\n",
       "      <td>2.0</td>\n",
       "      <td>0.0</td>\n",
       "      <td>6.0</td>\n",
       "      <td>85.0</td>\n",
       "      <td>57.0</td>\n",
       "      <td>29.0</td>\n",
       "      <td>84.0</td>\n",
       "      <td>15.0</td>\n",
       "      <td>9.0</td>\n",
       "      <td>168.0</td>\n",
       "    </tr>\n",
       "    <tr>\n",
       "      <th>1314891.0</th>\n",
       "      <td>201903.0</td>\n",
       "      <td>11.0</td>\n",
       "      <td>0.834398</td>\n",
       "      <td>0.256955</td>\n",
       "      <td>0.0</td>\n",
       "      <td>0.607537</td>\n",
       "      <td>0.563213</td>\n",
       "      <td>-0.376868</td>\n",
       "      <td>-0.616854</td>\n",
       "      <td>-0.243666</td>\n",
       "      <td>...</td>\n",
       "      <td>2.0</td>\n",
       "      <td>0.0</td>\n",
       "      <td>6.0</td>\n",
       "      <td>85.0</td>\n",
       "      <td>57.0</td>\n",
       "      <td>35.0</td>\n",
       "      <td>84.0</td>\n",
       "      <td>17.0</td>\n",
       "      <td>10.0</td>\n",
       "      <td>85.0</td>\n",
       "    </tr>\n",
       "    <tr>\n",
       "      <th>...</th>\n",
       "      <td>...</td>\n",
       "      <td>...</td>\n",
       "      <td>...</td>\n",
       "      <td>...</td>\n",
       "      <td>...</td>\n",
       "      <td>...</td>\n",
       "      <td>...</td>\n",
       "      <td>...</td>\n",
       "      <td>...</td>\n",
       "      <td>...</td>\n",
       "      <td>...</td>\n",
       "      <td>...</td>\n",
       "      <td>...</td>\n",
       "      <td>...</td>\n",
       "      <td>...</td>\n",
       "      <td>...</td>\n",
       "      <td>...</td>\n",
       "      <td>...</td>\n",
       "      <td>...</td>\n",
       "      <td>...</td>\n",
       "      <td>...</td>\n",
       "    </tr>\n",
       "    <tr>\n",
       "      <th>214133.0</th>\n",
       "      <td>202003.0</td>\n",
       "      <td>61.0</td>\n",
       "      <td>1.182378</td>\n",
       "      <td>0.256955</td>\n",
       "      <td>0.0</td>\n",
       "      <td>0.934709</td>\n",
       "      <td>0.894569</td>\n",
       "      <td>1.360043</td>\n",
       "      <td>0.194916</td>\n",
       "      <td>0.845762</td>\n",
       "      <td>...</td>\n",
       "      <td>1.0</td>\n",
       "      <td>0.0</td>\n",
       "      <td>33.0</td>\n",
       "      <td>85.0</td>\n",
       "      <td>52.0</td>\n",
       "      <td>35.0</td>\n",
       "      <td>84.0</td>\n",
       "      <td>7.0</td>\n",
       "      <td>9.0</td>\n",
       "      <td>25.0</td>\n",
       "    </tr>\n",
       "    <tr>\n",
       "      <th>749026.0</th>\n",
       "      <td>201907.0</td>\n",
       "      <td>28.0</td>\n",
       "      <td>-0.731513</td>\n",
       "      <td>-0.885906</td>\n",
       "      <td>0.0</td>\n",
       "      <td>0.607537</td>\n",
       "      <td>0.563213</td>\n",
       "      <td>-0.732621</td>\n",
       "      <td>-0.616854</td>\n",
       "      <td>-0.931727</td>\n",
       "      <td>...</td>\n",
       "      <td>2.0</td>\n",
       "      <td>0.0</td>\n",
       "      <td>33.0</td>\n",
       "      <td>85.0</td>\n",
       "      <td>57.0</td>\n",
       "      <td>35.0</td>\n",
       "      <td>84.0</td>\n",
       "      <td>17.0</td>\n",
       "      <td>10.0</td>\n",
       "      <td>221.0</td>\n",
       "    </tr>\n",
       "    <tr>\n",
       "      <th>1770557.0</th>\n",
       "      <td>202002.0</td>\n",
       "      <td>56.0</td>\n",
       "      <td>1.182378</td>\n",
       "      <td>0.129970</td>\n",
       "      <td>0.0</td>\n",
       "      <td>0.607537</td>\n",
       "      <td>0.563213</td>\n",
       "      <td>-0.280153</td>\n",
       "      <td>-0.616854</td>\n",
       "      <td>0.215040</td>\n",
       "      <td>...</td>\n",
       "      <td>2.0</td>\n",
       "      <td>0.0</td>\n",
       "      <td>33.0</td>\n",
       "      <td>85.0</td>\n",
       "      <td>57.0</td>\n",
       "      <td>35.0</td>\n",
       "      <td>84.0</td>\n",
       "      <td>17.0</td>\n",
       "      <td>10.0</td>\n",
       "      <td>35.0</td>\n",
       "    </tr>\n",
       "    <tr>\n",
       "      <th>30218.0</th>\n",
       "      <td>201909.0</td>\n",
       "      <td>36.0</td>\n",
       "      <td>-0.731513</td>\n",
       "      <td>-0.885906</td>\n",
       "      <td>0.0</td>\n",
       "      <td>-0.428507</td>\n",
       "      <td>-0.060213</td>\n",
       "      <td>-0.732621</td>\n",
       "      <td>0.194916</td>\n",
       "      <td>-0.931727</td>\n",
       "      <td>...</td>\n",
       "      <td>0.0</td>\n",
       "      <td>0.0</td>\n",
       "      <td>33.0</td>\n",
       "      <td>85.0</td>\n",
       "      <td>52.0</td>\n",
       "      <td>35.0</td>\n",
       "      <td>84.0</td>\n",
       "      <td>7.0</td>\n",
       "      <td>9.0</td>\n",
       "      <td>221.0</td>\n",
       "    </tr>\n",
       "    <tr>\n",
       "      <th>895178.0</th>\n",
       "      <td>201912.0</td>\n",
       "      <td>49.0</td>\n",
       "      <td>-0.731513</td>\n",
       "      <td>-0.885906</td>\n",
       "      <td>0.0</td>\n",
       "      <td>0.934709</td>\n",
       "      <td>0.894569</td>\n",
       "      <td>-0.732621</td>\n",
       "      <td>-0.616854</td>\n",
       "      <td>-0.931727</td>\n",
       "      <td>...</td>\n",
       "      <td>2.0</td>\n",
       "      <td>0.0</td>\n",
       "      <td>33.0</td>\n",
       "      <td>85.0</td>\n",
       "      <td>57.0</td>\n",
       "      <td>35.0</td>\n",
       "      <td>84.0</td>\n",
       "      <td>17.0</td>\n",
       "      <td>10.0</td>\n",
       "      <td>221.0</td>\n",
       "    </tr>\n",
       "  </tbody>\n",
       "</table>\n",
       "<p>67191 rows × 120 columns</p>\n",
       "</div>"
      ],
      "text/plain": [
       "              MONTH  WEEK_NUM  cntincpaycont9m_3716944L  cntpmts24_3658933L  \\\n",
       "case_id                                                                       \n",
       "105588.0   201901.0       2.0                  0.138437           -0.123999   \n",
       "2608648.0  201908.0      32.0                 -0.731513           -0.885906   \n",
       "2583138.0  201906.0      23.0                  0.660408            2.288709   \n",
       "1358817.0  201905.0      17.0                 -0.731513           -0.758922   \n",
       "1314891.0  201903.0      11.0                  0.834398            0.256955   \n",
       "...             ...       ...                       ...                 ...   \n",
       "214133.0   202003.0      61.0                  1.182378            0.256955   \n",
       "749026.0   201907.0      28.0                 -0.731513           -0.885906   \n",
       "1770557.0  202002.0      56.0                  1.182378            0.129970   \n",
       "30218.0    201909.0      36.0                 -0.731513           -0.885906   \n",
       "895178.0   201912.0      49.0                 -0.731513           -0.885906   \n",
       "\n",
       "           commnoinclast6m_3546845L  eir_270L  interestrate_311L  \\\n",
       "case_id                                                            \n",
       "105588.0                        0.0  0.934709           0.894569   \n",
       "2608648.0                       0.0  0.771123           0.728891   \n",
       "2583138.0                       0.0  0.771123           0.728891   \n",
       "1358817.0                       0.0  0.825652           0.784117   \n",
       "1314891.0                       0.0  0.607537           0.563213   \n",
       "...                             ...       ...                ...   \n",
       "214133.0                        0.0  0.934709           0.894569   \n",
       "749026.0                        0.0  0.607537           0.563213   \n",
       "1770557.0                       0.0  0.607537           0.563213   \n",
       "30218.0                         0.0 -0.428507          -0.060213   \n",
       "895178.0                        0.0  0.934709           0.894569   \n",
       "\n",
       "           lastapprcredamount_781A  lastrejectcredamount_222A  maininc_215A  \\\n",
       "case_id                                                                       \n",
       "105588.0                  2.095303                  -0.616854      0.788424   \n",
       "2608648.0                 0.115756                   0.600801     -0.829664   \n",
       "2583138.0                 2.095303                  -0.089203      2.049867   \n",
       "1358817.0                -0.370647                  -0.464485     -0.272336   \n",
       "1314891.0                -0.376868                  -0.616854     -0.243666   \n",
       "...                            ...                        ...           ...   \n",
       "214133.0                  1.360043                   0.194916      0.845762   \n",
       "749026.0                 -0.732621                  -0.616854     -0.931727   \n",
       "1770557.0                -0.280153                  -0.616854      0.215040   \n",
       "30218.0                  -0.732621                   0.194916     -0.931727   \n",
       "895178.0                 -0.732621                  -0.616854     -0.931727   \n",
       "\n",
       "           ...  disbursementtype_67L  isbidproduct_1095L  \\\n",
       "case_id    ...                                             \n",
       "105588.0   ...                   1.0                 0.0   \n",
       "2608648.0  ...                   1.0                 1.0   \n",
       "2583138.0  ...                   1.0                 1.0   \n",
       "1358817.0  ...                   2.0                 0.0   \n",
       "1314891.0  ...                   2.0                 0.0   \n",
       "...        ...                   ...                 ...   \n",
       "214133.0   ...                   1.0                 0.0   \n",
       "749026.0   ...                   2.0                 0.0   \n",
       "1770557.0  ...                   2.0                 0.0   \n",
       "30218.0    ...                   0.0                 0.0   \n",
       "895178.0   ...                   2.0                 0.0   \n",
       "\n",
       "           lastapprcommoditycat_1041M  lastapprcommoditytypec_5251766M  \\\n",
       "case_id                                                                  \n",
       "105588.0                         33.0                             85.0   \n",
       "2608648.0                        33.0                             85.0   \n",
       "2583138.0                        33.0                             85.0   \n",
       "1358817.0                         6.0                             85.0   \n",
       "1314891.0                         6.0                             85.0   \n",
       "...                               ...                              ...   \n",
       "214133.0                         33.0                             85.0   \n",
       "749026.0                         33.0                             85.0   \n",
       "1770557.0                        33.0                             85.0   \n",
       "30218.0                          33.0                             85.0   \n",
       "895178.0                         33.0                             85.0   \n",
       "\n",
       "           lastcancelreason_561M  lastrejectcommoditycat_161M  \\\n",
       "case_id                                                         \n",
       "105588.0                    57.0                         35.0   \n",
       "2608648.0                   57.0                         35.0   \n",
       "2583138.0                   18.0                         35.0   \n",
       "1358817.0                   57.0                         29.0   \n",
       "1314891.0                   57.0                         35.0   \n",
       "...                          ...                          ...   \n",
       "214133.0                    52.0                         35.0   \n",
       "749026.0                    57.0                         35.0   \n",
       "1770557.0                   57.0                         35.0   \n",
       "30218.0                     52.0                         35.0   \n",
       "895178.0                    57.0                         35.0   \n",
       "\n",
       "           lastrejectcommodtypec_5251769M  lastrejectreason_759M  \\\n",
       "case_id                                                            \n",
       "105588.0                             84.0                   17.0   \n",
       "2608648.0                            84.0                   17.0   \n",
       "2583138.0                            84.0                   17.0   \n",
       "1358817.0                            84.0                   15.0   \n",
       "1314891.0                            84.0                   17.0   \n",
       "...                                   ...                    ...   \n",
       "214133.0                             84.0                    7.0   \n",
       "749026.0                             84.0                   17.0   \n",
       "1770557.0                            84.0                   17.0   \n",
       "30218.0                              84.0                    7.0   \n",
       "895178.0                             84.0                   17.0   \n",
       "\n",
       "           lastrejectreasonclient_4145040M  previouscontdistrict_112M  \n",
       "case_id                                                                \n",
       "105588.0                              10.0                      136.0  \n",
       "2608648.0                             10.0                        8.0  \n",
       "2583138.0                             10.0                      171.0  \n",
       "1358817.0                              9.0                      168.0  \n",
       "1314891.0                             10.0                       85.0  \n",
       "...                                    ...                        ...  \n",
       "214133.0                               9.0                       25.0  \n",
       "749026.0                              10.0                      221.0  \n",
       "1770557.0                             10.0                       35.0  \n",
       "30218.0                                9.0                      221.0  \n",
       "895178.0                              10.0                      221.0  \n",
       "\n",
       "[67191 rows x 120 columns]"
      ]
     },
     "execution_count": 3,
     "metadata": {},
     "output_type": "execute_result"
    }
   ],
   "source": [
    "df_1"
   ]
  },
  {
   "cell_type": "code",
   "execution_count": 4,
   "id": "7e217ad9-5304-44e0-83fa-b9ae9825c688",
   "metadata": {},
   "outputs": [],
   "source": [
    "from sklearn.cluster import DBSCAN\n",
    "from sklearn.datasets import make_moons\n",
    "import matplotlib.pyplot as plt\n",
    "\n"
   ]
  },
  {
   "cell_type": "code",
   "execution_count": 5,
   "id": "b1354fbb-75b4-49a6-963c-fdb3255de956",
   "metadata": {},
   "outputs": [
    {
     "data": {
      "text/plain": [
       "(67191, 120)"
      ]
     },
     "execution_count": 5,
     "metadata": {},
     "output_type": "execute_result"
    }
   ],
   "source": [
    "df_1.shape"
   ]
  },
  {
   "cell_type": "code",
   "execution_count": 42,
   "id": "8e427ed3-ec31-4604-b89c-a1de1ff1c30b",
   "metadata": {},
   "outputs": [],
   "source": [
    "db = DBSCAN(eps=40, min_samples=240).fit(df_1)"
   ]
  },
  {
   "cell_type": "code",
   "execution_count": 43,
   "id": "8c4dad5f-2d35-4858-8cbf-85df43fb21f5",
   "metadata": {},
   "outputs": [],
   "source": [
    "cluster_labels = db.labels_"
   ]
  },
  {
   "cell_type": "code",
   "execution_count": 44,
   "id": "e2522aeb-52c6-4372-97b3-3ea1ac2b0fbb",
   "metadata": {},
   "outputs": [
    {
     "data": {
      "text/plain": [
       "array([0, 0, 0, ..., 1, 0, 0], dtype=int64)"
      ]
     },
     "execution_count": 44,
     "metadata": {},
     "output_type": "execute_result"
    }
   ],
   "source": [
    "cluster_labels"
   ]
  },
  {
   "cell_type": "code",
   "execution_count": 45,
   "id": "0bd7078c-f9a0-4f35-9d44-4a23d7fa753f",
   "metadata": {},
   "outputs": [],
   "source": [
    "n_clusters = len(set(cluster_labels)) - (1 if -1 in cluster_labels else 0)  # Exclude noise points\n"
   ]
  },
  {
   "cell_type": "code",
   "execution_count": 46,
   "id": "65ccc3ce-6235-4c94-916c-f516b31f9692",
   "metadata": {},
   "outputs": [
    {
     "data": {
      "text/plain": [
       "2"
      ]
     },
     "execution_count": 46,
     "metadata": {},
     "output_type": "execute_result"
    }
   ],
   "source": [
    "n_clusters"
   ]
  },
  {
   "cell_type": "code",
   "execution_count": 47,
   "id": "85b3bb60-bd9d-42b5-9df4-ae680d1d2e38",
   "metadata": {},
   "outputs": [
    {
     "data": {
      "text/plain": [
       "67191"
      ]
     },
     "execution_count": 47,
     "metadata": {},
     "output_type": "execute_result"
    }
   ],
   "source": [
    "len(cluster_labels)"
   ]
  },
  {
   "cell_type": "code",
   "execution_count": 48,
   "id": "e0dc220e-090d-4dc1-8669-f60bdd848848",
   "metadata": {},
   "outputs": [
    {
     "data": {
      "text/plain": [
       "array([0, 0, 0, ..., 1, 0, 0], dtype=int64)"
      ]
     },
     "execution_count": 48,
     "metadata": {},
     "output_type": "execute_result"
    }
   ],
   "source": [
    "cluster_labels"
   ]
  },
  {
   "cell_type": "code",
   "execution_count": 52,
   "id": "fa150404-65cf-4c53-a718-ed2968d9c47b",
   "metadata": {},
   "outputs": [],
   "source": [
    "y_labels = pd.DataFrame({'pred': cluster_labels})"
   ]
  },
  {
   "cell_type": "code",
   "execution_count": 53,
   "id": "4ded2439-000c-4420-8490-bddc9fa0b338",
   "metadata": {},
   "outputs": [
    {
     "data": {
      "text/html": [
       "<div>\n",
       "<style scoped>\n",
       "    .dataframe tbody tr th:only-of-type {\n",
       "        vertical-align: middle;\n",
       "    }\n",
       "\n",
       "    .dataframe tbody tr th {\n",
       "        vertical-align: top;\n",
       "    }\n",
       "\n",
       "    .dataframe thead th {\n",
       "        text-align: right;\n",
       "    }\n",
       "</style>\n",
       "<table border=\"1\" class=\"dataframe\">\n",
       "  <thead>\n",
       "    <tr style=\"text-align: right;\">\n",
       "      <th></th>\n",
       "      <th>pred</th>\n",
       "    </tr>\n",
       "  </thead>\n",
       "  <tbody>\n",
       "    <tr>\n",
       "      <th>0</th>\n",
       "      <td>0</td>\n",
       "    </tr>\n",
       "    <tr>\n",
       "      <th>1</th>\n",
       "      <td>0</td>\n",
       "    </tr>\n",
       "    <tr>\n",
       "      <th>2</th>\n",
       "      <td>0</td>\n",
       "    </tr>\n",
       "    <tr>\n",
       "      <th>3</th>\n",
       "      <td>0</td>\n",
       "    </tr>\n",
       "    <tr>\n",
       "      <th>4</th>\n",
       "      <td>0</td>\n",
       "    </tr>\n",
       "    <tr>\n",
       "      <th>...</th>\n",
       "      <td>...</td>\n",
       "    </tr>\n",
       "    <tr>\n",
       "      <th>67186</th>\n",
       "      <td>1</td>\n",
       "    </tr>\n",
       "    <tr>\n",
       "      <th>67187</th>\n",
       "      <td>0</td>\n",
       "    </tr>\n",
       "    <tr>\n",
       "      <th>67188</th>\n",
       "      <td>1</td>\n",
       "    </tr>\n",
       "    <tr>\n",
       "      <th>67189</th>\n",
       "      <td>0</td>\n",
       "    </tr>\n",
       "    <tr>\n",
       "      <th>67190</th>\n",
       "      <td>0</td>\n",
       "    </tr>\n",
       "  </tbody>\n",
       "</table>\n",
       "<p>67191 rows × 1 columns</p>\n",
       "</div>"
      ],
      "text/plain": [
       "       pred\n",
       "0         0\n",
       "1         0\n",
       "2         0\n",
       "3         0\n",
       "4         0\n",
       "...     ...\n",
       "67186     1\n",
       "67187     0\n",
       "67188     1\n",
       "67189     0\n",
       "67190     0\n",
       "\n",
       "[67191 rows x 1 columns]"
      ]
     },
     "execution_count": 53,
     "metadata": {},
     "output_type": "execute_result"
    }
   ],
   "source": [
    "y_labels"
   ]
  },
  {
   "cell_type": "code",
   "execution_count": 55,
   "id": "0ad02501-2ca8-4e3e-ac96-7652aa3d9398",
   "metadata": {},
   "outputs": [
    {
     "data": {
      "text/html": [
       "<div>\n",
       "<style scoped>\n",
       "    .dataframe tbody tr th:only-of-type {\n",
       "        vertical-align: middle;\n",
       "    }\n",
       "\n",
       "    .dataframe tbody tr th {\n",
       "        vertical-align: top;\n",
       "    }\n",
       "\n",
       "    .dataframe thead th {\n",
       "        text-align: right;\n",
       "    }\n",
       "</style>\n",
       "<table border=\"1\" class=\"dataframe\">\n",
       "  <thead>\n",
       "    <tr style=\"text-align: right;\">\n",
       "      <th></th>\n",
       "      <th>actual</th>\n",
       "    </tr>\n",
       "  </thead>\n",
       "  <tbody>\n",
       "    <tr>\n",
       "      <th>0</th>\n",
       "      <td>0</td>\n",
       "    </tr>\n",
       "    <tr>\n",
       "      <th>1</th>\n",
       "      <td>0</td>\n",
       "    </tr>\n",
       "    <tr>\n",
       "      <th>2</th>\n",
       "      <td>0</td>\n",
       "    </tr>\n",
       "    <tr>\n",
       "      <th>3</th>\n",
       "      <td>1</td>\n",
       "    </tr>\n",
       "    <tr>\n",
       "      <th>4</th>\n",
       "      <td>1</td>\n",
       "    </tr>\n",
       "    <tr>\n",
       "      <th>...</th>\n",
       "      <td>...</td>\n",
       "    </tr>\n",
       "    <tr>\n",
       "      <th>67186</th>\n",
       "      <td>1</td>\n",
       "    </tr>\n",
       "    <tr>\n",
       "      <th>67187</th>\n",
       "      <td>0</td>\n",
       "    </tr>\n",
       "    <tr>\n",
       "      <th>67188</th>\n",
       "      <td>0</td>\n",
       "    </tr>\n",
       "    <tr>\n",
       "      <th>67189</th>\n",
       "      <td>1</td>\n",
       "    </tr>\n",
       "    <tr>\n",
       "      <th>67190</th>\n",
       "      <td>1</td>\n",
       "    </tr>\n",
       "  </tbody>\n",
       "</table>\n",
       "<p>67191 rows × 1 columns</p>\n",
       "</div>"
      ],
      "text/plain": [
       "       actual\n",
       "0           0\n",
       "1           0\n",
       "2           0\n",
       "3           1\n",
       "4           1\n",
       "...       ...\n",
       "67186       1\n",
       "67187       0\n",
       "67188       0\n",
       "67189       1\n",
       "67190       1\n",
       "\n",
       "[67191 rows x 1 columns]"
      ]
     },
     "execution_count": 55,
     "metadata": {},
     "output_type": "execute_result"
    }
   ],
   "source": [
    "df_2"
   ]
  },
  {
   "cell_type": "code",
   "execution_count": 60,
   "id": "86ed5a13-8df6-48a2-8cbd-156bb4ad9409",
   "metadata": {},
   "outputs": [],
   "source": [
    "df_results = pd.concat([y_labels, df_2], axis=1, join=\"inner\")"
   ]
  },
  {
   "cell_type": "code",
   "execution_count": 62,
   "id": "48a1ffdb-f34d-497d-8e06-336e23cef6d7",
   "metadata": {},
   "outputs": [],
   "source": [
    "df_filtered = df_results[df_results['pred'] != -1]"
   ]
  },
  {
   "cell_type": "code",
   "execution_count": 63,
   "id": "52058a10-2f10-488e-abb1-3843ba43e460",
   "metadata": {},
   "outputs": [
    {
     "data": {
      "text/html": [
       "<div>\n",
       "<style scoped>\n",
       "    .dataframe tbody tr th:only-of-type {\n",
       "        vertical-align: middle;\n",
       "    }\n",
       "\n",
       "    .dataframe tbody tr th {\n",
       "        vertical-align: top;\n",
       "    }\n",
       "\n",
       "    .dataframe thead th {\n",
       "        text-align: right;\n",
       "    }\n",
       "</style>\n",
       "<table border=\"1\" class=\"dataframe\">\n",
       "  <thead>\n",
       "    <tr style=\"text-align: right;\">\n",
       "      <th></th>\n",
       "      <th>pred</th>\n",
       "      <th>actual</th>\n",
       "    </tr>\n",
       "  </thead>\n",
       "  <tbody>\n",
       "    <tr>\n",
       "      <th>0</th>\n",
       "      <td>0</td>\n",
       "      <td>0</td>\n",
       "    </tr>\n",
       "    <tr>\n",
       "      <th>1</th>\n",
       "      <td>0</td>\n",
       "      <td>0</td>\n",
       "    </tr>\n",
       "    <tr>\n",
       "      <th>2</th>\n",
       "      <td>0</td>\n",
       "      <td>0</td>\n",
       "    </tr>\n",
       "    <tr>\n",
       "      <th>3</th>\n",
       "      <td>0</td>\n",
       "      <td>1</td>\n",
       "    </tr>\n",
       "    <tr>\n",
       "      <th>4</th>\n",
       "      <td>0</td>\n",
       "      <td>1</td>\n",
       "    </tr>\n",
       "    <tr>\n",
       "      <th>...</th>\n",
       "      <td>...</td>\n",
       "      <td>...</td>\n",
       "    </tr>\n",
       "    <tr>\n",
       "      <th>67186</th>\n",
       "      <td>1</td>\n",
       "      <td>1</td>\n",
       "    </tr>\n",
       "    <tr>\n",
       "      <th>67187</th>\n",
       "      <td>0</td>\n",
       "      <td>0</td>\n",
       "    </tr>\n",
       "    <tr>\n",
       "      <th>67188</th>\n",
       "      <td>1</td>\n",
       "      <td>0</td>\n",
       "    </tr>\n",
       "    <tr>\n",
       "      <th>67189</th>\n",
       "      <td>0</td>\n",
       "      <td>1</td>\n",
       "    </tr>\n",
       "    <tr>\n",
       "      <th>67190</th>\n",
       "      <td>0</td>\n",
       "      <td>1</td>\n",
       "    </tr>\n",
       "  </tbody>\n",
       "</table>\n",
       "<p>66831 rows × 2 columns</p>\n",
       "</div>"
      ],
      "text/plain": [
       "       pred  actual\n",
       "0         0       0\n",
       "1         0       0\n",
       "2         0       0\n",
       "3         0       1\n",
       "4         0       1\n",
       "...     ...     ...\n",
       "67186     1       1\n",
       "67187     0       0\n",
       "67188     1       0\n",
       "67189     0       1\n",
       "67190     0       1\n",
       "\n",
       "[66831 rows x 2 columns]"
      ]
     },
     "execution_count": 63,
     "metadata": {},
     "output_type": "execute_result"
    }
   ],
   "source": [
    "df_filtered"
   ]
  },
  {
   "cell_type": "code",
   "execution_count": 64,
   "id": "ed697e8e-d92c-4e66-b302-1911703f9e22",
   "metadata": {},
   "outputs": [],
   "source": [
    "import pandas as pd\n",
    "from sklearn.metrics import accuracy_score, precision_score, recall_score"
   ]
  },
  {
   "cell_type": "code",
   "execution_count": 66,
   "id": "59e93432-ea20-49be-9388-1b7e732daf10",
   "metadata": {},
   "outputs": [],
   "source": [
    "predicted = df_filtered['pred']\n",
    "actual = df_filtered['actual']"
   ]
  },
  {
   "cell_type": "code",
   "execution_count": 67,
   "id": "2db5a89d-93c7-4483-acbd-03aa2dab1cba",
   "metadata": {},
   "outputs": [
    {
     "name": "stdout",
     "output_type": "stream",
     "text": [
      "Accuracy: 0.5077434124882165\n",
      "Precision: 0.509093002851205\n",
      "Recall: 0.5077434124882165\n"
     ]
    }
   ],
   "source": [
    "# Calculating accuracy\n",
    "accuracy = accuracy_score(actual, predicted)\n",
    "\n",
    "# Calculating precision\n",
    "precision = precision_score(actual, predicted, average='weighted')\n",
    "\n",
    "# Calculating recall\n",
    "recall = recall_score(actual, predicted, average='weighted')\n",
    "\n",
    "print(\"Accuracy:\", accuracy)\n",
    "print(\"Precision:\", precision)\n",
    "print(\"Recall:\", recall)"
   ]
  },
  {
   "cell_type": "code",
   "execution_count": 39,
   "id": "7ce21512-dbbe-47e5-9c55-79c24efa3664",
   "metadata": {},
   "outputs": [],
   "source": [
    "from sklearn.neighbors import NearestNeighbors\n",
    "from matplotlib import pyplot as plt"
   ]
  },
  {
   "cell_type": "code",
   "execution_count": 40,
   "id": "94aa5289-21e3-40f4-bfe8-a4bba4c3d081",
   "metadata": {},
   "outputs": [],
   "source": [
    "neighbors = NearestNeighbors(n_neighbors=240)\n",
    "neighbors_fit = neighbors.fit(df_1)\n",
    "distances, indices = neighbors_fit.kneighbors(df_1)"
   ]
  },
  {
   "cell_type": "code",
   "execution_count": 41,
   "id": "d421a2c4-b0a2-4a5e-b18c-03a7de55dc97",
   "metadata": {},
   "outputs": [
    {
     "data": {
      "text/plain": [
       "[<matplotlib.lines.Line2D at 0x27c117488e0>]"
      ]
     },
     "execution_count": 41,
     "metadata": {},
     "output_type": "execute_result"
    },
    {
     "data": {
      "image/png": "[encoded data removed]",
      "text/plain": [
       "<Figure size 640x480 with 1 Axes>"
      ]
     },
     "metadata": {},
     "output_type": "display_data"
    }
   ],
   "source": [
    "distances = np.sort(distances, axis=0)\n",
    "distances = distances[:,1]\n",
    "plt.plot(distances)"
   ]
  },
  {
   "cell_type": "code",
   "execution_count": 80,
   "id": "7664b243-579f-49d1-9223-1a7b718fe343",
   "metadata": {},
   "outputs": [],
   "source": [
    "df_formatted = df_1.reset_index(inplace=False).drop(columns=['case_id'], inplace=False)"
   ]
  },
  {
   "cell_type": "code",
   "execution_count": 84,
   "id": "5a773334-8b9e-43e1-b59a-7a1b652ab54b",
   "metadata": {},
   "outputs": [],
   "source": [
    "focused_raw = df_formatted.iloc[predicted.index]"
   ]
  },
  {
   "cell_type": "code",
   "execution_count": 85,
   "id": "779e63fa-fc53-441c-bdf4-2d7c880a4217",
   "metadata": {},
   "outputs": [
    {
     "name": "stdout",
     "output_type": "stream",
     "text": [
      "Silhouette Score: 0.3438706596745518\n"
     ]
    }
   ],
   "source": [
    "from sklearn.metrics import silhouette_score\n",
    "silhouette_avg = silhouette_score(focused_raw, predicted)\n",
    "print(\"Silhouette Score:\", silhouette_avg)"
   ]
  },
  {
   "cell_type": "code",
   "execution_count": 86,
   "id": "7c2ee1c8-9ca5-4383-b89e-199200b8bb46",
   "metadata": {},
   "outputs": [],
   "source": [
    "import numpy as np\n",
    "import matplotlib.pyplot as plt\n",
    "from sklearn.decomposition import PCA"
   ]
  },
  {
   "cell_type": "code",
   "execution_count": 87,
   "id": "dae660b0-e7fa-4005-84b1-f55b8ad7dcd1",
   "metadata": {},
   "outputs": [],
   "source": [
    "pca = PCA(n_components=2)\n",
    "reduced_data = pca.fit_transform(focused_raw)"
   ]
  },
  {
   "cell_type": "code",
   "execution_count": 97,
   "id": "7c5ff85b-5ea8-4830-be62-c44ac6d877e7",
   "metadata": {},
   "outputs": [],
   "source": [
    "numped_arry = predicted.to_numpy()"
   ]
  },
  {
   "cell_type": "code",
   "execution_count": 99,
   "id": "8c22e76b-5410-4190-8789-994e2d3f5e09",
   "metadata": {},
   "outputs": [
    {
     "data": {
      "text/plain": [
       "array([0, 0, 0, ..., 1, 0, 0], dtype=int64)"
      ]
     },
     "execution_count": 99,
     "metadata": {},
     "output_type": "execute_result"
    }
   ],
   "source": [
    "numped_arry"
   ]
  },
  {
   "cell_type": "code",
   "execution_count": 100,
   "id": "b3f3a3f7-9696-4f23-90ff-f68bd8e5796a",
   "metadata": {},
   "outputs": [
    {
     "data": {
      "image/png": "[encoded data removed]",
      "text/plain": [
       "<Figure size 640x480 with 1 Axes>"
      ]
     },
     "metadata": {},
     "output_type": "display_data"
    }
   ],
   "source": [
    "plt.scatter(reduced_data[numped_arry == 0, 0], reduced_data[numped_arry == 0, 1], color='red', label='Class 0')\n",
    "plt.scatter(reduced_data[numped_arry == 1, 0], reduced_data[numped_arry == 1, 1], color='blue', label='Class 1')\n",
    "plt.title('PCA Visualization of Data Points (2D)')\n",
    "plt.xlabel('Principal Component 1')\n",
    "plt.ylabel('Principal Component 2')\n",
    "plt.show()"
   ]
  },
  {
   "cell_type": "code",
   "execution_count": 91,
   "id": "34a3f2fb-7d8a-4132-9048-61a1aa2d25ec",
   "metadata": {},
   "outputs": [
    {
     "data": {
      "text/plain": [
       "array([[  0.7953523 , -47.97914314],\n",
       "       [129.24473503, -35.3114628 ],\n",
       "       [-33.00781016, -32.81528549],\n",
       "       ...,\n",
       "       [106.95531836,  61.38202841],\n",
       "       [-83.02276444, -22.83108061],\n",
       "       [-82.69021038, -14.94857426]])"
      ]
     },
     "execution_count": 91,
     "metadata": {},
     "output_type": "execute_result"
    }
   ],
   "source": [
    "reduced_data"
   ]
  },
  {
   "cell_type": "code",
   "execution_count": 90,
   "id": "6c02f122-33ee-4c6b-a4bb-f2a48a7bca8d",
   "metadata": {},
   "outputs": [
    {
     "data": {
      "text/plain": [
       "array([  0.7953523 , 129.24473503, -33.00781016, ..., 106.95531836,\n",
       "       -83.02276444, -82.69021038])"
      ]
     },
     "execution_count": 90,
     "metadata": {},
     "output_type": "execute_result"
    }
   ],
   "source": [
    "reduced_data[:, 0]"
   ]
  },
  {
   "cell_type": "code",
   "execution_count": 92,
   "id": "4d019141-f0ff-4af7-bcd4-6245fe8a1d37",
   "metadata": {},
   "outputs": [
    {
     "ename": "NameError",
     "evalue": "name 'labels' is not defined",
     "output_type": "error",
     "traceback": [
      "\u001b[1;31m---------------------------------------------------------------------------\u001b[0m",
      "\u001b[1;31mNameError\u001b[0m                                 Traceback (most recent call last)",
      "Cell \u001b[1;32mIn[92], line 1\u001b[0m\n\u001b[1;32m----> 1\u001b[0m plt\u001b[38;5;241m.\u001b[39mscatter(reduced_data[\u001b[43mlabels\u001b[49m \u001b[38;5;241m==\u001b[39m \u001b[38;5;241m0\u001b[39m, \u001b[38;5;241m0\u001b[39m], reduced_data[labels \u001b[38;5;241m==\u001b[39m \u001b[38;5;241m0\u001b[39m, \u001b[38;5;241m1\u001b[39m], color\u001b[38;5;241m=\u001b[39m\u001b[38;5;124m'\u001b[39m\u001b[38;5;124mred\u001b[39m\u001b[38;5;124m'\u001b[39m, label\u001b[38;5;241m=\u001b[39m\u001b[38;5;124m'\u001b[39m\u001b[38;5;124mClass 0\u001b[39m\u001b[38;5;124m'\u001b[39m)\n",
      "\u001b[1;31mNameError\u001b[0m: name 'labels' is not defined"
     ]
    }
   ],
   "source": [
    "plt.scatter(reduced_data[predicted == 0, 0], reduced_data[predicted == 0, 1], color='red', label='Class 0')\n"
   ]
  },
  {
   "cell_type": "code",
   "execution_count": 93,
   "id": "3b62a350-c1eb-4758-8cd0-e83ec111c4a1",
   "metadata": {},
   "outputs": [
    {
     "data": {
      "text/plain": [
       "0        0\n",
       "1        0\n",
       "2        0\n",
       "3        0\n",
       "4        0\n",
       "        ..\n",
       "67186    1\n",
       "67187    0\n",
       "67188    1\n",
       "67189    0\n",
       "67190    0\n",
       "Name: pred, Length: 66831, dtype: int64"
      ]
     },
     "execution_count": 93,
     "metadata": {},
     "output_type": "execute_result"
    }
   ],
   "source": [
    "predicted"
   ]
  },
  {
   "cell_type": "code",
   "execution_count": null,
   "id": "b3c6fa47-654a-466b-9384-57b39cd856db",
   "metadata": {},
   "outputs": [],
   "source": []
  }
 ],
 "metadata": {
  "kernelspec": {
   "display_name": "Python 3 (ipykernel)",
   "language": "python",
   "name": "python3"
  },
  "language_info": {
   "codemirror_mode": {
    "name": "ipython",
    "version": 3
   },
   "file_extension": ".py",
   "mimetype": "text/x-python",
   "name": "python",
   "nbconvert_exporter": "python",
   "pygments_lexer": "ipython3",
   "version": "3.8.10"
  }
 },
 "nbformat": 4,
 "nbformat_minor": 5
}
