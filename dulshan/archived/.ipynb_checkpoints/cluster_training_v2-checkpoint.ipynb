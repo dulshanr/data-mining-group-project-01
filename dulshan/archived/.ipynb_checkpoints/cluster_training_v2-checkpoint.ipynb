{
 "cells": [
  {
   "cell_type": "code",
   "execution_count": 44,
   "id": "936980eb-e150-4d46-9714-53e516e16e3e",
   "metadata": {},
   "outputs": [],
   "source": [
    " \n",
    "import numpy as np\n",
    "import pandas as pd\n",
    "import matplotlib.pyplot as plt\n",
    "from sklearn import preprocessing\n",
    "import scipy.cluster.hierarchy as sch\n",
    "from sklearn.cluster import AgglomerativeClustering\n",
    "from sklearn.metrics import silhouette_score"
   ]
  },
  {
   "cell_type": "code",
   "execution_count": 43,
   "id": "2c6e66e2-4862-4f12-8651-df47cfcc6073",
   "metadata": {},
   "outputs": [],
   "source": [
    "df = pd.read_parquet('./out/cleaned_1.parquet')"
   ]
  },
  {
   "cell_type": "code",
   "execution_count": 45,
   "id": "8372a810-a7f5-4582-a8f2-2faa95c802f5",
   "metadata": {},
   "outputs": [],
   "source": [
    "num_columns = df.select_dtypes(include=['int', 'float']).columns"
   ]
  },
  {
   "cell_type": "code",
   "execution_count": 46,
   "id": "5b77191f-df2d-40c7-90b8-1a0f4db2bd21",
   "metadata": {},
   "outputs": [],
   "source": [
    "scaler = preprocessing.StandardScaler()"
   ]
  },
  {
   "cell_type": "code",
   "execution_count": 47,
   "id": "57fdc4e8-bc6f-4133-ac60-a603c45e6b6d",
   "metadata": {},
   "outputs": [],
   "source": [
    "df[num_columns] = scaler.fit_transform(df[num_columns])"
   ]
  },
  {
   "cell_type": "code",
   "execution_count": 48,
   "id": "448c1ef8-fc0a-4a10-a69c-3f28b0a99316",
   "metadata": {},
   "outputs": [],
   "source": [
    "df=df[num_columns]"
   ]
  },
  {
   "cell_type": "code",
   "execution_count": 49,
   "id": "5aef22c4-ff03-4c13-a044-8efbb4045cb7",
   "metadata": {},
   "outputs": [
    {
     "data": {
      "text/html": [
       "<div>\n",
       "<style scoped>\n",
       "    .dataframe tbody tr th:only-of-type {\n",
       "        vertical-align: middle;\n",
       "    }\n",
       "\n",
       "    .dataframe tbody tr th {\n",
       "        vertical-align: top;\n",
       "    }\n",
       "\n",
       "    .dataframe thead th {\n",
       "        text-align: right;\n",
       "    }\n",
       "</style>\n",
       "<table border=\"1\" class=\"dataframe\">\n",
       "  <thead>\n",
       "    <tr style=\"text-align: right;\">\n",
       "      <th></th>\n",
       "      <th>actualdpdtolerance_344P</th>\n",
       "      <th>annuity_780A</th>\n",
       "      <th>annuitynextmonth_57A</th>\n",
       "      <th>applicationcnt_361L</th>\n",
       "      <th>applications30d_658L</th>\n",
       "      <th>applicationscnt_1086L</th>\n",
       "      <th>applicationscnt_464L</th>\n",
       "      <th>applicationscnt_629L</th>\n",
       "      <th>applicationscnt_867L</th>\n",
       "      <th>clientscnt_100L</th>\n",
       "      <th>...</th>\n",
       "      <th>mobilephncnt_593L</th>\n",
       "      <th>numactivecreds_622L</th>\n",
       "      <th>numactivecredschannel_414L</th>\n",
       "      <th>numactiverelcontr_750L</th>\n",
       "      <th>numcontrs3months_479L</th>\n",
       "      <th>numnotactivated_1143L</th>\n",
       "      <th>numpmtchanneldd_318L</th>\n",
       "      <th>numrejects9m_859L</th>\n",
       "      <th>sellerplacecnt_915L</th>\n",
       "      <th>sellerplacescnt_216L</th>\n",
       "    </tr>\n",
       "    <tr>\n",
       "      <th>case_id</th>\n",
       "      <th></th>\n",
       "      <th></th>\n",
       "      <th></th>\n",
       "      <th></th>\n",
       "      <th></th>\n",
       "      <th></th>\n",
       "      <th></th>\n",
       "      <th></th>\n",
       "      <th></th>\n",
       "      <th></th>\n",
       "      <th></th>\n",
       "      <th></th>\n",
       "      <th></th>\n",
       "      <th></th>\n",
       "      <th></th>\n",
       "      <th></th>\n",
       "      <th></th>\n",
       "      <th></th>\n",
       "      <th></th>\n",
       "      <th></th>\n",
       "      <th></th>\n",
       "    </tr>\n",
       "  </thead>\n",
       "  <tbody>\n",
       "    <tr>\n",
       "      <th>0</th>\n",
       "      <td>0.000000</td>\n",
       "      <td>-0.705648</td>\n",
       "      <td>-0.511495</td>\n",
       "      <td>-0.002658</td>\n",
       "      <td>-0.282714</td>\n",
       "      <td>-0.135708</td>\n",
       "      <td>-0.110498</td>\n",
       "      <td>-0.109047</td>\n",
       "      <td>-0.662689</td>\n",
       "      <td>-0.1141</td>\n",
       "      <td>...</td>\n",
       "      <td>-0.681915</td>\n",
       "      <td>-0.664353</td>\n",
       "      <td>-0.312971</td>\n",
       "      <td>-0.515930</td>\n",
       "      <td>-0.342928</td>\n",
       "      <td>-0.138029</td>\n",
       "      <td>-0.150746</td>\n",
       "      <td>-0.295418</td>\n",
       "      <td>-0.361677</td>\n",
       "      <td>-0.783808</td>\n",
       "    </tr>\n",
       "    <tr>\n",
       "      <th>1</th>\n",
       "      <td>0.000000</td>\n",
       "      <td>-0.301073</td>\n",
       "      <td>-0.511495</td>\n",
       "      <td>-0.002658</td>\n",
       "      <td>-0.282714</td>\n",
       "      <td>-0.135708</td>\n",
       "      <td>-0.110498</td>\n",
       "      <td>-0.109047</td>\n",
       "      <td>-0.662689</td>\n",
       "      <td>-0.1141</td>\n",
       "      <td>...</td>\n",
       "      <td>-0.681915</td>\n",
       "      <td>-0.664353</td>\n",
       "      <td>-0.312971</td>\n",
       "      <td>-0.515930</td>\n",
       "      <td>-0.342928</td>\n",
       "      <td>-0.138029</td>\n",
       "      <td>-0.150746</td>\n",
       "      <td>-0.295418</td>\n",
       "      <td>-0.361677</td>\n",
       "      <td>-0.783808</td>\n",
       "    </tr>\n",
       "    <tr>\n",
       "      <th>2</th>\n",
       "      <td>0.000000</td>\n",
       "      <td>0.298607</td>\n",
       "      <td>-0.511495</td>\n",
       "      <td>-0.002658</td>\n",
       "      <td>-0.282714</td>\n",
       "      <td>-0.135708</td>\n",
       "      <td>-0.110498</td>\n",
       "      <td>-0.109047</td>\n",
       "      <td>-0.662689</td>\n",
       "      <td>-0.1141</td>\n",
       "      <td>...</td>\n",
       "      <td>0.200667</td>\n",
       "      <td>-0.664353</td>\n",
       "      <td>-0.312971</td>\n",
       "      <td>-0.515930</td>\n",
       "      <td>-0.342928</td>\n",
       "      <td>-0.138029</td>\n",
       "      <td>-0.150746</td>\n",
       "      <td>-0.295418</td>\n",
       "      <td>-0.361677</td>\n",
       "      <td>-0.783808</td>\n",
       "    </tr>\n",
       "    <tr>\n",
       "      <th>3</th>\n",
       "      <td>0.000000</td>\n",
       "      <td>0.201022</td>\n",
       "      <td>-0.511495</td>\n",
       "      <td>-0.002658</td>\n",
       "      <td>1.763686</td>\n",
       "      <td>-0.135708</td>\n",
       "      <td>0.095352</td>\n",
       "      <td>-0.109047</td>\n",
       "      <td>-0.432618</td>\n",
       "      <td>-0.1141</td>\n",
       "      <td>...</td>\n",
       "      <td>-0.681915</td>\n",
       "      <td>-0.664353</td>\n",
       "      <td>-0.312971</td>\n",
       "      <td>-0.515930</td>\n",
       "      <td>0.922488</td>\n",
       "      <td>-0.138029</td>\n",
       "      <td>-0.150746</td>\n",
       "      <td>0.505687</td>\n",
       "      <td>1.859311</td>\n",
       "      <td>-0.298642</td>\n",
       "    </tr>\n",
       "    <tr>\n",
       "      <th>4</th>\n",
       "      <td>0.000000</td>\n",
       "      <td>-0.215860</td>\n",
       "      <td>-0.511495</td>\n",
       "      <td>-0.002658</td>\n",
       "      <td>1.763686</td>\n",
       "      <td>-0.135708</td>\n",
       "      <td>-0.110498</td>\n",
       "      <td>-0.109047</td>\n",
       "      <td>-0.432618</td>\n",
       "      <td>-0.1141</td>\n",
       "      <td>...</td>\n",
       "      <td>-0.681915</td>\n",
       "      <td>-0.664353</td>\n",
       "      <td>-0.312971</td>\n",
       "      <td>-0.515930</td>\n",
       "      <td>-0.342928</td>\n",
       "      <td>-0.138029</td>\n",
       "      <td>-0.150746</td>\n",
       "      <td>-0.295418</td>\n",
       "      <td>-0.361677</td>\n",
       "      <td>-0.783808</td>\n",
       "    </tr>\n",
       "    <tr>\n",
       "      <th>...</th>\n",
       "      <td>...</td>\n",
       "      <td>...</td>\n",
       "      <td>...</td>\n",
       "      <td>...</td>\n",
       "      <td>...</td>\n",
       "      <td>...</td>\n",
       "      <td>...</td>\n",
       "      <td>...</td>\n",
       "      <td>...</td>\n",
       "      <td>...</td>\n",
       "      <td>...</td>\n",
       "      <td>...</td>\n",
       "      <td>...</td>\n",
       "      <td>...</td>\n",
       "      <td>...</td>\n",
       "      <td>...</td>\n",
       "      <td>...</td>\n",
       "      <td>...</td>\n",
       "      <td>...</td>\n",
       "      <td>...</td>\n",
       "      <td>...</td>\n",
       "    </tr>\n",
       "    <tr>\n",
       "      <th>2703450</th>\n",
       "      <td>-0.008297</td>\n",
       "      <td>-0.121003</td>\n",
       "      <td>-0.511495</td>\n",
       "      <td>-0.002658</td>\n",
       "      <td>-0.282714</td>\n",
       "      <td>-0.135708</td>\n",
       "      <td>-0.110498</td>\n",
       "      <td>-0.109047</td>\n",
       "      <td>1.638028</td>\n",
       "      <td>-0.1141</td>\n",
       "      <td>...</td>\n",
       "      <td>1.083249</td>\n",
       "      <td>0.747418</td>\n",
       "      <td>-0.312971</td>\n",
       "      <td>1.602939</td>\n",
       "      <td>-0.342928</td>\n",
       "      <td>-0.138029</td>\n",
       "      <td>-0.150746</td>\n",
       "      <td>-0.295418</td>\n",
       "      <td>-0.361677</td>\n",
       "      <td>3.097518</td>\n",
       "    </tr>\n",
       "    <tr>\n",
       "      <th>2703451</th>\n",
       "      <td>-0.008297</td>\n",
       "      <td>1.014231</td>\n",
       "      <td>1.694263</td>\n",
       "      <td>-0.002658</td>\n",
       "      <td>-0.282714</td>\n",
       "      <td>1.462701</td>\n",
       "      <td>-0.110498</td>\n",
       "      <td>-0.109047</td>\n",
       "      <td>0.487669</td>\n",
       "      <td>-0.1141</td>\n",
       "      <td>...</td>\n",
       "      <td>0.200667</td>\n",
       "      <td>2.159189</td>\n",
       "      <td>-0.312971</td>\n",
       "      <td>1.602939</td>\n",
       "      <td>-0.342928</td>\n",
       "      <td>-0.138029</td>\n",
       "      <td>-0.150746</td>\n",
       "      <td>-0.295418</td>\n",
       "      <td>-0.361677</td>\n",
       "      <td>0.671689</td>\n",
       "    </tr>\n",
       "    <tr>\n",
       "      <th>2703452</th>\n",
       "      <td>-0.008297</td>\n",
       "      <td>1.247118</td>\n",
       "      <td>-0.511495</td>\n",
       "      <td>-0.002658</td>\n",
       "      <td>-0.282714</td>\n",
       "      <td>-0.135708</td>\n",
       "      <td>-0.110498</td>\n",
       "      <td>-0.109047</td>\n",
       "      <td>0.027526</td>\n",
       "      <td>-0.1141</td>\n",
       "      <td>...</td>\n",
       "      <td>-0.681915</td>\n",
       "      <td>-0.664353</td>\n",
       "      <td>-0.312971</td>\n",
       "      <td>-0.515930</td>\n",
       "      <td>0.922488</td>\n",
       "      <td>-0.138029</td>\n",
       "      <td>-0.150746</td>\n",
       "      <td>-0.295418</td>\n",
       "      <td>-0.361677</td>\n",
       "      <td>-0.298642</td>\n",
       "    </tr>\n",
       "    <tr>\n",
       "      <th>2703453</th>\n",
       "      <td>-0.008297</td>\n",
       "      <td>-0.945853</td>\n",
       "      <td>0.495695</td>\n",
       "      <td>-0.002658</td>\n",
       "      <td>-0.282714</td>\n",
       "      <td>11.372839</td>\n",
       "      <td>-0.110498</td>\n",
       "      <td>-0.109047</td>\n",
       "      <td>1.407956</td>\n",
       "      <td>-0.1141</td>\n",
       "      <td>...</td>\n",
       "      <td>0.200667</td>\n",
       "      <td>2.159189</td>\n",
       "      <td>2.760762</td>\n",
       "      <td>1.602939</td>\n",
       "      <td>-0.342928</td>\n",
       "      <td>-0.138029</td>\n",
       "      <td>-0.150746</td>\n",
       "      <td>-0.295418</td>\n",
       "      <td>-0.361677</td>\n",
       "      <td>1.156855</td>\n",
       "    </tr>\n",
       "    <tr>\n",
       "      <th>2703454</th>\n",
       "      <td>-0.008297</td>\n",
       "      <td>0.164502</td>\n",
       "      <td>0.552553</td>\n",
       "      <td>-0.002658</td>\n",
       "      <td>-0.282714</td>\n",
       "      <td>-0.135708</td>\n",
       "      <td>-0.110498</td>\n",
       "      <td>-0.109047</td>\n",
       "      <td>-0.662689</td>\n",
       "      <td>-0.1141</td>\n",
       "      <td>...</td>\n",
       "      <td>1.083249</td>\n",
       "      <td>0.747418</td>\n",
       "      <td>-0.312971</td>\n",
       "      <td>-0.515930</td>\n",
       "      <td>-0.342928</td>\n",
       "      <td>-0.138029</td>\n",
       "      <td>-0.150746</td>\n",
       "      <td>-0.295418</td>\n",
       "      <td>-0.361677</td>\n",
       "      <td>-0.783808</td>\n",
       "    </tr>\n",
       "  </tbody>\n",
       "</table>\n",
       "<p>1526659 rows × 41 columns</p>\n",
       "</div>"
      ],
      "text/plain": [
       "         actualdpdtolerance_344P  annuity_780A  annuitynextmonth_57A  \\\n",
       "case_id                                                                \n",
       "0                       0.000000     -0.705648             -0.511495   \n",
       "1                       0.000000     -0.301073             -0.511495   \n",
       "2                       0.000000      0.298607             -0.511495   \n",
       "3                       0.000000      0.201022             -0.511495   \n",
       "4                       0.000000     -0.215860             -0.511495   \n",
       "...                          ...           ...                   ...   \n",
       "2703450                -0.008297     -0.121003             -0.511495   \n",
       "2703451                -0.008297      1.014231              1.694263   \n",
       "2703452                -0.008297      1.247118             -0.511495   \n",
       "2703453                -0.008297     -0.945853              0.495695   \n",
       "2703454                -0.008297      0.164502              0.552553   \n",
       "\n",
       "         applicationcnt_361L  applications30d_658L  applicationscnt_1086L  \\\n",
       "case_id                                                                     \n",
       "0                  -0.002658             -0.282714              -0.135708   \n",
       "1                  -0.002658             -0.282714              -0.135708   \n",
       "2                  -0.002658             -0.282714              -0.135708   \n",
       "3                  -0.002658              1.763686              -0.135708   \n",
       "4                  -0.002658              1.763686              -0.135708   \n",
       "...                      ...                   ...                    ...   \n",
       "2703450            -0.002658             -0.282714              -0.135708   \n",
       "2703451            -0.002658             -0.282714               1.462701   \n",
       "2703452            -0.002658             -0.282714              -0.135708   \n",
       "2703453            -0.002658             -0.282714              11.372839   \n",
       "2703454            -0.002658             -0.282714              -0.135708   \n",
       "\n",
       "         applicationscnt_464L  applicationscnt_629L  applicationscnt_867L  \\\n",
       "case_id                                                                     \n",
       "0                   -0.110498             -0.109047             -0.662689   \n",
       "1                   -0.110498             -0.109047             -0.662689   \n",
       "2                   -0.110498             -0.109047             -0.662689   \n",
       "3                    0.095352             -0.109047             -0.432618   \n",
       "4                   -0.110498             -0.109047             -0.432618   \n",
       "...                       ...                   ...                   ...   \n",
       "2703450             -0.110498             -0.109047              1.638028   \n",
       "2703451             -0.110498             -0.109047              0.487669   \n",
       "2703452             -0.110498             -0.109047              0.027526   \n",
       "2703453             -0.110498             -0.109047              1.407956   \n",
       "2703454             -0.110498             -0.109047             -0.662689   \n",
       "\n",
       "         clientscnt_100L  ...  mobilephncnt_593L  numactivecreds_622L  \\\n",
       "case_id                   ...                                           \n",
       "0                -0.1141  ...          -0.681915            -0.664353   \n",
       "1                -0.1141  ...          -0.681915            -0.664353   \n",
       "2                -0.1141  ...           0.200667            -0.664353   \n",
       "3                -0.1141  ...          -0.681915            -0.664353   \n",
       "4                -0.1141  ...          -0.681915            -0.664353   \n",
       "...                  ...  ...                ...                  ...   \n",
       "2703450          -0.1141  ...           1.083249             0.747418   \n",
       "2703451          -0.1141  ...           0.200667             2.159189   \n",
       "2703452          -0.1141  ...          -0.681915            -0.664353   \n",
       "2703453          -0.1141  ...           0.200667             2.159189   \n",
       "2703454          -0.1141  ...           1.083249             0.747418   \n",
       "\n",
       "         numactivecredschannel_414L  numactiverelcontr_750L  \\\n",
       "case_id                                                       \n",
       "0                         -0.312971               -0.515930   \n",
       "1                         -0.312971               -0.515930   \n",
       "2                         -0.312971               -0.515930   \n",
       "3                         -0.312971               -0.515930   \n",
       "4                         -0.312971               -0.515930   \n",
       "...                             ...                     ...   \n",
       "2703450                   -0.312971                1.602939   \n",
       "2703451                   -0.312971                1.602939   \n",
       "2703452                   -0.312971               -0.515930   \n",
       "2703453                    2.760762                1.602939   \n",
       "2703454                   -0.312971               -0.515930   \n",
       "\n",
       "         numcontrs3months_479L  numnotactivated_1143L  numpmtchanneldd_318L  \\\n",
       "case_id                                                                       \n",
       "0                    -0.342928              -0.138029             -0.150746   \n",
       "1                    -0.342928              -0.138029             -0.150746   \n",
       "2                    -0.342928              -0.138029             -0.150746   \n",
       "3                     0.922488              -0.138029             -0.150746   \n",
       "4                    -0.342928              -0.138029             -0.150746   \n",
       "...                        ...                    ...                   ...   \n",
       "2703450              -0.342928              -0.138029             -0.150746   \n",
       "2703451              -0.342928              -0.138029             -0.150746   \n",
       "2703452               0.922488              -0.138029             -0.150746   \n",
       "2703453              -0.342928              -0.138029             -0.150746   \n",
       "2703454              -0.342928              -0.138029             -0.150746   \n",
       "\n",
       "         numrejects9m_859L  sellerplacecnt_915L  sellerplacescnt_216L  \n",
       "case_id                                                                \n",
       "0                -0.295418            -0.361677             -0.783808  \n",
       "1                -0.295418            -0.361677             -0.783808  \n",
       "2                -0.295418            -0.361677             -0.783808  \n",
       "3                 0.505687             1.859311             -0.298642  \n",
       "4                -0.295418            -0.361677             -0.783808  \n",
       "...                    ...                  ...                   ...  \n",
       "2703450          -0.295418            -0.361677              3.097518  \n",
       "2703451          -0.295418            -0.361677              0.671689  \n",
       "2703452          -0.295418            -0.361677             -0.298642  \n",
       "2703453          -0.295418            -0.361677              1.156855  \n",
       "2703454          -0.295418            -0.361677             -0.783808  \n",
       "\n",
       "[1526659 rows x 41 columns]"
      ]
     },
     "execution_count": 49,
     "metadata": {},
     "output_type": "execute_result"
    }
   ],
   "source": [
    "df"
   ]
  },
  {
   "cell_type": "code",
   "execution_count": 50,
   "id": "7c751297-c63f-4d55-af6e-54816e4f060a",
   "metadata": {},
   "outputs": [],
   "source": [
    "df_x = df.sample(n=10000, random_state=5)"
   ]
  },
  {
   "cell_type": "code",
   "execution_count": 57,
   "id": "39de997b-b207-45c7-80ca-d93077ff509a",
   "metadata": {},
   "outputs": [],
   "source": [
    "def cluster_agg(df, k):\n",
    "    cluster_model = AgglomerativeClustering(n_clusters=k,\n",
    "                                            linkage='ward')\n",
    " \n",
    "    clusters = cluster_model.fit_predict(df)\n",
    " \n",
    "    score = silhouette_score(df,\n",
    "                             cluster_model.labels_,\n",
    "                             metric='euclidean')\n",
    "    return clusters, score, cluster_model.labels_"
   ]
  },
  {
   "cell_type": "code",
   "execution_count": 62,
   "id": "8c652aac-a4af-4746-ac9e-5ced9aa29935",
   "metadata": {},
   "outputs": [
    {
     "data": {
      "text/plain": [
       "0.19828091419903052"
      ]
     },
     "execution_count": 62,
     "metadata": {},
     "output_type": "execute_result"
    }
   ],
   "source": [
    "y_hd_euclidean, euclidean_score_hd, euc_label = cluster_agg(df_x, 15)\n",
    "euclidean_score_hd"
   ]
  },
  {
   "cell_type": "code",
   "execution_count": 63,
   "id": "800df73d-3738-41a4-bd9a-b328804d9ebb",
   "metadata": {},
   "outputs": [
    {
     "data": {
      "text/plain": [
       "0.19828091419903052"
      ]
     },
     "execution_count": 63,
     "metadata": {},
     "output_type": "execute_result"
    }
   ],
   "source": [
    "euclidean_score_hd"
   ]
  },
  {
   "cell_type": "code",
   "execution_count": 64,
   "id": "ab20224f-0759-46ee-812e-14dc828860ae",
   "metadata": {},
   "outputs": [
    {
     "data": {
      "text/plain": [
       "1     5979\n",
       "0     1771\n",
       "2      995\n",
       "6      397\n",
       "13     262\n",
       "5      194\n",
       "8      184\n",
       "10      74\n",
       "4       70\n",
       "11      28\n",
       "14      27\n",
       "3       15\n",
       "12       2\n",
       "7        1\n",
       "9        1\n",
       "dtype: int64"
      ]
     },
     "execution_count": 64,
     "metadata": {},
     "output_type": "execute_result"
    }
   ],
   "source": [
    "pd.DataFrame(data=euc_label).value_counts()"
   ]
  },
  {
   "cell_type": "code",
   "execution_count": 54,
   "id": "c5d3c61d-fc7c-4e1c-92fe-56a51d9c6a44",
   "metadata": {},
   "outputs": [],
   "source": [
    "clustering_model = AgglomerativeClustering(n_clusters=10, linkage=\"ward\")\n",
    "clustering_model.fit(df_x)\n",
    "labels = clustering_model.labels_"
   ]
  },
  {
   "cell_type": "code",
   "execution_count": 55,
   "id": "e90ccf8f-ecab-4fd5-8010-eefe8c1989ba",
   "metadata": {},
   "outputs": [
    {
     "data": {
      "text/plain": [
       "0    6053\n",
       "6    2168\n",
       "2     997\n",
       "1     317\n",
       "5     194\n",
       "8     184\n",
       "4      70\n",
       "3      15\n",
       "9       1\n",
       "7       1\n",
       "dtype: int64"
      ]
     },
     "execution_count": 55,
     "metadata": {},
     "output_type": "execute_result"
    }
   ],
   "source": [
    "pd.Series(labels).value_counts()"
   ]
  },
  {
   "cell_type": "code",
   "execution_count": null,
   "id": "b78c8645-dcbc-406b-98f9-c67c3983fa90",
   "metadata": {},
   "outputs": [],
   "source": []
  },
  {
   "cell_type": "code",
   "execution_count": 22,
   "id": "ebbe4213-0f25-43ae-af68-c3a0d26b8590",
   "metadata": {},
   "outputs": [],
   "source": [
    "import matplotlib.pyplot as plt\n",
    "from kneed import KneeLocator\n",
    "from sklearn.datasets import make_blobs\n",
    "from sklearn.cluster import KMeans\n",
    "from sklearn.metrics import silhouette_score\n",
    "from sklearn.preprocessing import StandardScaler"
   ]
  },
  {
   "cell_type": "code",
   "execution_count": 23,
   "id": "007aa219-a2c5-4758-a193-4dc4660d7a46",
   "metadata": {},
   "outputs": [],
   "source": [
    "kmeans_params = {\n",
    "    \"init\": \"random\",\n",
    "    \"n_init\": 15,\n",
    "    \"max_iter\": 100,\n",
    "    \"random_state\": 42,\n",
    "}"
   ]
  },
  {
   "cell_type": "code",
   "execution_count": 24,
   "id": "6066ea9f-97f5-447b-9247-caf50067a0b2",
   "metadata": {},
   "outputs": [],
   "source": [
    "sum_of_squared_error = []\n",
    "for k in range(1, 11):\n",
    "    kmeans = KMeans(n_clusters=k, **kmeans_params)\n",
    "    kmeans.fit(df)\n",
    "    sum_of_squared_error.append(kmeans.inertia_)"
   ]
  },
  {
   "cell_type": "code",
   "execution_count": 25,
   "id": "3d1b2801-4e72-4443-af6c-f87361ee3839",
   "metadata": {},
   "outputs": [
    {
     "data": {
      "text/plain": [
       "[61066360.0000001,\n",
       " 56701130.9862579,\n",
       " 51455977.93422201,\n",
       " 52680780.76626983,\n",
       " 50588512.19944513,\n",
       " 48863577.615093574,\n",
       " 46056338.66835823,\n",
       " 44016312.53849203,\n",
       " 41645456.200593464,\n",
       " 41711213.97577915]"
      ]
     },
     "execution_count": 25,
     "metadata": {},
     "output_type": "execute_result"
    }
   ],
   "source": [
    "sum_of_squared_error"
   ]
  },
  {
   "cell_type": "code",
   "execution_count": 26,
   "id": "2a4bcee6-5e70-4f92-aca8-4c93def8dad4",
   "metadata": {},
   "outputs": [],
   "source": [
    "xpoints = np.array([i for i in range(1,11)])"
   ]
  },
  {
   "cell_type": "code",
   "execution_count": 27,
   "id": "d9715f9d-998c-467e-8aad-40c14e7c2ec2",
   "metadata": {},
   "outputs": [
    {
     "data": {
      "text/plain": [
       "array([ 1,  2,  3,  4,  5,  6,  7,  8,  9, 10])"
      ]
     },
     "execution_count": 27,
     "metadata": {},
     "output_type": "execute_result"
    }
   ],
   "source": [
    "xpoints"
   ]
  },
  {
   "cell_type": "code",
   "execution_count": 28,
   "id": "2a576117-03e4-4aff-ac4a-360d2064ee6c",
   "metadata": {},
   "outputs": [
    {
     "data": {
      "text/plain": [
       "Text(0, 0.5, 'sum_of_squared_error')"
      ]
     },
     "execution_count": 28,
     "metadata": {},
     "output_type": "execute_result"
    },
    {
     "data": {
      "image/png": "[encoded data removed]",
      "text/plain": [
       "<Figure size 640x480 with 1 Axes>"
      ]
     },
     "metadata": {},
     "output_type": "display_data"
    }
   ],
   "source": [
    "plt.xticks(range(1, 11))\n",
    "plt.plot(xpoints, sum_of_squared_error)\n",
    "plt.xlabel(\"Number of Clusters\")\n",
    "plt.ylabel(\"sum_of_squared_error\")"
   ]
  },
  {
   "cell_type": "code",
   "execution_count": 29,
   "id": "b7cda55d-5295-4539-b8b2-7ab3332cea35",
   "metadata": {},
   "outputs": [],
   "source": [
    " kmeans_chosen_9 = KMeans(n_clusters=9, **kmeans_params)"
   ]
  },
  {
   "cell_type": "code",
   "execution_count": 32,
   "id": "42eee3eb-de09-4488-a2a0-f29be729a5d4",
   "metadata": {},
   "outputs": [
    {
     "data": {
      "text/html": [
       "<style>#sk-container-id-1 {color: black;background-color: white;}#sk-container-id-1 pre{padding: 0;}#sk-container-id-1 div.sk-toggleable {background-color: white;}#sk-container-id-1 label.sk-toggleable__label {cursor: pointer;display: block;width: 100%;margin-bottom: 0;padding: 0.3em;box-sizing: border-box;text-align: center;}#sk-container-id-1 label.sk-toggleable__label-arrow:before {content: \"▸\";float: left;margin-right: 0.25em;color: #696969;}#sk-container-id-1 label.sk-toggleable__label-arrow:hover:before {color: black;}#sk-container-id-1 div.sk-estimator:hover label.sk-toggleable__label-arrow:before {color: black;}#sk-container-id-1 div.sk-toggleable__content {max-height: 0;max-width: 0;overflow: hidden;text-align: left;background-color: #f0f8ff;}#sk-container-id-1 div.sk-toggleable__content pre {margin: 0.2em;color: black;border-radius: 0.25em;background-color: #f0f8ff;}#sk-container-id-1 input.sk-toggleable__control:checked~div.sk-toggleable__content {max-height: 200px;max-width: 100%;overflow: auto;}#sk-container-id-1 input.sk-toggleable__control:checked~label.sk-toggleable__label-arrow:before {content: \"▾\";}#sk-container-id-1 div.sk-estimator input.sk-toggleable__control:checked~label.sk-toggleable__label {background-color: #d4ebff;}#sk-container-id-1 div.sk-label input.sk-toggleable__control:checked~label.sk-toggleable__label {background-color: #d4ebff;}#sk-container-id-1 input.sk-hidden--visually {border: 0;clip: rect(1px 1px 1px 1px);clip: rect(1px, 1px, 1px, 1px);height: 1px;margin: -1px;overflow: hidden;padding: 0;position: absolute;width: 1px;}#sk-container-id-1 div.sk-estimator {font-family: monospace;background-color: #f0f8ff;border: 1px dotted black;border-radius: 0.25em;box-sizing: border-box;margin-bottom: 0.5em;}#sk-container-id-1 div.sk-estimator:hover {background-color: #d4ebff;}#sk-container-id-1 div.sk-parallel-item::after {content: \"\";width: 100%;border-bottom: 1px solid gray;flex-grow: 1;}#sk-container-id-1 div.sk-label:hover label.sk-toggleable__label {background-color: #d4ebff;}#sk-container-id-1 div.sk-serial::before {content: \"\";position: absolute;border-left: 1px solid gray;box-sizing: border-box;top: 0;bottom: 0;left: 50%;z-index: 0;}#sk-container-id-1 div.sk-serial {display: flex;flex-direction: column;align-items: center;background-color: white;padding-right: 0.2em;padding-left: 0.2em;position: relative;}#sk-container-id-1 div.sk-item {position: relative;z-index: 1;}#sk-container-id-1 div.sk-parallel {display: flex;align-items: stretch;justify-content: center;background-color: white;position: relative;}#sk-container-id-1 div.sk-item::before, #sk-container-id-1 div.sk-parallel-item::before {content: \"\";position: absolute;border-left: 1px solid gray;box-sizing: border-box;top: 0;bottom: 0;left: 50%;z-index: -1;}#sk-container-id-1 div.sk-parallel-item {display: flex;flex-direction: column;z-index: 1;position: relative;background-color: white;}#sk-container-id-1 div.sk-parallel-item:first-child::after {align-self: flex-end;width: 50%;}#sk-container-id-1 div.sk-parallel-item:last-child::after {align-self: flex-start;width: 50%;}#sk-container-id-1 div.sk-parallel-item:only-child::after {width: 0;}#sk-container-id-1 div.sk-dashed-wrapped {border: 1px dashed gray;margin: 0 0.4em 0.5em 0.4em;box-sizing: border-box;padding-bottom: 0.4em;background-color: white;}#sk-container-id-1 div.sk-label label {font-family: monospace;font-weight: bold;display: inline-block;line-height: 1.2em;}#sk-container-id-1 div.sk-label-container {text-align: center;}#sk-container-id-1 div.sk-container {/* jupyter's `normalize.less` sets `[hidden] { display: none; }` but bootstrap.min.css set `[hidden] { display: none !important; }` so we also need the `!important` here to be able to override the default hidden behavior on the sphinx rendered scikit-learn.org. See: https://github.com/scikit-learn/scikit-learn/issues/21755 */display: inline-block !important;position: relative;}#sk-container-id-1 div.sk-text-repr-fallback {display: none;}</style><div id=\"sk-container-id-1\" class=\"sk-top-container\"><div class=\"sk-text-repr-fallback\"><pre>KMeans(init=&#x27;random&#x27;, max_iter=100, n_clusters=9, n_init=15, random_state=42)</pre><b>In a Jupyter environment, please rerun this cell to show the HTML representation or trust the notebook. <br />On GitHub, the HTML representation is unable to render, please try loading this page with nbviewer.org.</b></div><div class=\"sk-container\" hidden><div class=\"sk-item\"><div class=\"sk-estimator sk-toggleable\"><input class=\"sk-toggleable__control sk-hidden--visually\" id=\"sk-estimator-id-1\" type=\"checkbox\" checked><label for=\"sk-estimator-id-1\" class=\"sk-toggleable__label sk-toggleable__label-arrow\">KMeans</label><div class=\"sk-toggleable__content\"><pre>KMeans(init=&#x27;random&#x27;, max_iter=100, n_clusters=9, n_init=15, random_state=42)</pre></div></div></div></div></div>"
      ],
      "text/plain": [
       "KMeans(init='random', max_iter=100, n_clusters=9, n_init=15, random_state=42)"
      ]
     },
     "execution_count": 32,
     "metadata": {},
     "output_type": "execute_result"
    }
   ],
   "source": [
    "kmeans_chosen_9.fit(df)"
   ]
  },
  {
   "cell_type": "code",
   "execution_count": 33,
   "id": "825de2b1-1fb5-4e72-89be-82117638d3eb",
   "metadata": {},
   "outputs": [],
   "source": [
    "predicted_label = kmeans_chosen_9.predict(df)"
   ]
  },
  {
   "cell_type": "code",
   "execution_count": 40,
   "id": "76807e07-93fb-4f6b-a53a-5867b4511f78",
   "metadata": {},
   "outputs": [
    {
     "data": {
      "text/plain": [
       "8    768714\n",
       "5    246414\n",
       "1    188884\n",
       "3    115622\n",
       "2    102437\n",
       "4     83818\n",
       "6     14107\n",
       "0      6611\n",
       "7        52\n",
       "dtype: int64"
      ]
     },
     "execution_count": 40,
     "metadata": {},
     "output_type": "execute_result"
    }
   ],
   "source": [
    "pd.Series(predicted_label).value_counts()"
   ]
  },
  {
   "cell_type": "code",
   "execution_count": 41,
   "id": "f9e4d885-0dd3-4e00-93f9-3ea8c198c5bc",
   "metadata": {},
   "outputs": [
    {
     "ename": "KeyboardInterrupt",
     "evalue": "",
     "output_type": "error",
     "traceback": [
      "\u001b[1;31m---------------------------------------------------------------------------\u001b[0m",
      "\u001b[1;31mKeyboardInterrupt\u001b[0m                         Traceback (most recent call last)",
      "Cell \u001b[1;32mIn[41], line 1\u001b[0m\n\u001b[1;32m----> 1\u001b[0m \u001b[38;5;28mprint\u001b[39m(\u001b[38;5;124mf\u001b[39m\u001b[38;5;124m'\u001b[39m\u001b[38;5;124mSilhouette Score for k=3: \u001b[39m\u001b[38;5;132;01m{\u001b[39;00msilhouette_score(df,\u001b[38;5;250m \u001b[39mpredicted_label\u001b[38;5;250m \u001b[39m)\u001b[38;5;132;01m}\u001b[39;00m\u001b[38;5;124m'\u001b[39m)\n",
      "File \u001b[1;32m~\\PycharmProjects\\jupyter\\.venv\\lib\\site-packages\\sklearn\\metrics\\cluster\\_unsupervised.py:117\u001b[0m, in \u001b[0;36msilhouette_score\u001b[1;34m(X, labels, metric, sample_size, random_state, **kwds)\u001b[0m\n\u001b[0;32m    115\u001b[0m     \u001b[38;5;28;01melse\u001b[39;00m:\n\u001b[0;32m    116\u001b[0m         X, labels \u001b[38;5;241m=\u001b[39m X[indices], labels[indices]\n\u001b[1;32m--> 117\u001b[0m \u001b[38;5;28;01mreturn\u001b[39;00m np\u001b[38;5;241m.\u001b[39mmean(\u001b[43msilhouette_samples\u001b[49m\u001b[43m(\u001b[49m\u001b[43mX\u001b[49m\u001b[43m,\u001b[49m\u001b[43m \u001b[49m\u001b[43mlabels\u001b[49m\u001b[43m,\u001b[49m\u001b[43m \u001b[49m\u001b[43mmetric\u001b[49m\u001b[38;5;241;43m=\u001b[39;49m\u001b[43mmetric\u001b[49m\u001b[43m,\u001b[49m\u001b[43m \u001b[49m\u001b[38;5;241;43m*\u001b[39;49m\u001b[38;5;241;43m*\u001b[39;49m\u001b[43mkwds\u001b[49m\u001b[43m)\u001b[49m)\n",
      "File \u001b[1;32m~\\PycharmProjects\\jupyter\\.venv\\lib\\site-packages\\sklearn\\metrics\\cluster\\_unsupervised.py:237\u001b[0m, in \u001b[0;36msilhouette_samples\u001b[1;34m(X, labels, metric, **kwds)\u001b[0m\n\u001b[0;32m    233\u001b[0m kwds[\u001b[38;5;124m\"\u001b[39m\u001b[38;5;124mmetric\u001b[39m\u001b[38;5;124m\"\u001b[39m] \u001b[38;5;241m=\u001b[39m metric\n\u001b[0;32m    234\u001b[0m reduce_func \u001b[38;5;241m=\u001b[39m functools\u001b[38;5;241m.\u001b[39mpartial(\n\u001b[0;32m    235\u001b[0m     _silhouette_reduce, labels\u001b[38;5;241m=\u001b[39mlabels, label_freqs\u001b[38;5;241m=\u001b[39mlabel_freqs\n\u001b[0;32m    236\u001b[0m )\n\u001b[1;32m--> 237\u001b[0m results \u001b[38;5;241m=\u001b[39m \u001b[38;5;28;43mzip\u001b[39;49m\u001b[43m(\u001b[49m\u001b[38;5;241;43m*\u001b[39;49m\u001b[43mpairwise_distances_chunked\u001b[49m\u001b[43m(\u001b[49m\u001b[43mX\u001b[49m\u001b[43m,\u001b[49m\u001b[43m \u001b[49m\u001b[43mreduce_func\u001b[49m\u001b[38;5;241;43m=\u001b[39;49m\u001b[43mreduce_func\u001b[49m\u001b[43m,\u001b[49m\u001b[43m \u001b[49m\u001b[38;5;241;43m*\u001b[39;49m\u001b[38;5;241;43m*\u001b[39;49m\u001b[43mkwds\u001b[49m\u001b[43m)\u001b[49m\u001b[43m)\u001b[49m\n\u001b[0;32m    238\u001b[0m intra_clust_dists, inter_clust_dists \u001b[38;5;241m=\u001b[39m results\n\u001b[0;32m    239\u001b[0m intra_clust_dists \u001b[38;5;241m=\u001b[39m np\u001b[38;5;241m.\u001b[39mconcatenate(intra_clust_dists)\n",
      "File \u001b[1;32m~\\PycharmProjects\\jupyter\\.venv\\lib\\site-packages\\sklearn\\metrics\\pairwise.py:1867\u001b[0m, in \u001b[0;36mpairwise_distances_chunked\u001b[1;34m(X, Y, reduce_func, metric, n_jobs, working_memory, **kwds)\u001b[0m\n\u001b[0;32m   1865\u001b[0m \u001b[38;5;28;01melse\u001b[39;00m:\n\u001b[0;32m   1866\u001b[0m     X_chunk \u001b[38;5;241m=\u001b[39m X[sl]\n\u001b[1;32m-> 1867\u001b[0m D_chunk \u001b[38;5;241m=\u001b[39m \u001b[43mpairwise_distances\u001b[49m\u001b[43m(\u001b[49m\u001b[43mX_chunk\u001b[49m\u001b[43m,\u001b[49m\u001b[43m \u001b[49m\u001b[43mY\u001b[49m\u001b[43m,\u001b[49m\u001b[43m \u001b[49m\u001b[43mmetric\u001b[49m\u001b[38;5;241;43m=\u001b[39;49m\u001b[43mmetric\u001b[49m\u001b[43m,\u001b[49m\u001b[43m \u001b[49m\u001b[43mn_jobs\u001b[49m\u001b[38;5;241;43m=\u001b[39;49m\u001b[43mn_jobs\u001b[49m\u001b[43m,\u001b[49m\u001b[43m \u001b[49m\u001b[38;5;241;43m*\u001b[39;49m\u001b[38;5;241;43m*\u001b[39;49m\u001b[43mkwds\u001b[49m\u001b[43m)\u001b[49m\n\u001b[0;32m   1868\u001b[0m \u001b[38;5;28;01mif\u001b[39;00m (X \u001b[38;5;129;01mis\u001b[39;00m Y \u001b[38;5;129;01mor\u001b[39;00m Y \u001b[38;5;129;01mis\u001b[39;00m \u001b[38;5;28;01mNone\u001b[39;00m) \u001b[38;5;129;01mand\u001b[39;00m PAIRWISE_DISTANCE_FUNCTIONS\u001b[38;5;241m.\u001b[39mget(\n\u001b[0;32m   1869\u001b[0m     metric, \u001b[38;5;28;01mNone\u001b[39;00m\n\u001b[0;32m   1870\u001b[0m ) \u001b[38;5;129;01mis\u001b[39;00m euclidean_distances:\n\u001b[0;32m   1871\u001b[0m     \u001b[38;5;66;03m# zeroing diagonal, taking care of aliases of \"euclidean\",\u001b[39;00m\n\u001b[0;32m   1872\u001b[0m     \u001b[38;5;66;03m# i.e. \"l2\"\u001b[39;00m\n\u001b[0;32m   1873\u001b[0m     D_chunk\u001b[38;5;241m.\u001b[39mflat[sl\u001b[38;5;241m.\u001b[39mstart :: _num_samples(X) \u001b[38;5;241m+\u001b[39m \u001b[38;5;241m1\u001b[39m] \u001b[38;5;241m=\u001b[39m \u001b[38;5;241m0\u001b[39m\n",
      "File \u001b[1;32m~\\PycharmProjects\\jupyter\\.venv\\lib\\site-packages\\sklearn\\metrics\\pairwise.py:2039\u001b[0m, in \u001b[0;36mpairwise_distances\u001b[1;34m(X, Y, metric, n_jobs, force_all_finite, **kwds)\u001b[0m\n\u001b[0;32m   2036\u001b[0m         \u001b[38;5;28;01mreturn\u001b[39;00m distance\u001b[38;5;241m.\u001b[39msquareform(distance\u001b[38;5;241m.\u001b[39mpdist(X, metric\u001b[38;5;241m=\u001b[39mmetric, \u001b[38;5;241m*\u001b[39m\u001b[38;5;241m*\u001b[39mkwds))\n\u001b[0;32m   2037\u001b[0m     func \u001b[38;5;241m=\u001b[39m partial(distance\u001b[38;5;241m.\u001b[39mcdist, metric\u001b[38;5;241m=\u001b[39mmetric, \u001b[38;5;241m*\u001b[39m\u001b[38;5;241m*\u001b[39mkwds)\n\u001b[1;32m-> 2039\u001b[0m \u001b[38;5;28;01mreturn\u001b[39;00m \u001b[43m_parallel_pairwise\u001b[49m\u001b[43m(\u001b[49m\u001b[43mX\u001b[49m\u001b[43m,\u001b[49m\u001b[43m \u001b[49m\u001b[43mY\u001b[49m\u001b[43m,\u001b[49m\u001b[43m \u001b[49m\u001b[43mfunc\u001b[49m\u001b[43m,\u001b[49m\u001b[43m \u001b[49m\u001b[43mn_jobs\u001b[49m\u001b[43m,\u001b[49m\u001b[43m \u001b[49m\u001b[38;5;241;43m*\u001b[39;49m\u001b[38;5;241;43m*\u001b[39;49m\u001b[43mkwds\u001b[49m\u001b[43m)\u001b[49m\n",
      "File \u001b[1;32m~\\PycharmProjects\\jupyter\\.venv\\lib\\site-packages\\sklearn\\metrics\\pairwise.py:1579\u001b[0m, in \u001b[0;36m_parallel_pairwise\u001b[1;34m(X, Y, func, n_jobs, **kwds)\u001b[0m\n\u001b[0;32m   1576\u001b[0m X, Y, dtype \u001b[38;5;241m=\u001b[39m _return_float_dtype(X, Y)\n\u001b[0;32m   1578\u001b[0m \u001b[38;5;28;01mif\u001b[39;00m effective_n_jobs(n_jobs) \u001b[38;5;241m==\u001b[39m \u001b[38;5;241m1\u001b[39m:\n\u001b[1;32m-> 1579\u001b[0m     \u001b[38;5;28;01mreturn\u001b[39;00m \u001b[43mfunc\u001b[49m\u001b[43m(\u001b[49m\u001b[43mX\u001b[49m\u001b[43m,\u001b[49m\u001b[43m \u001b[49m\u001b[43mY\u001b[49m\u001b[43m,\u001b[49m\u001b[43m \u001b[49m\u001b[38;5;241;43m*\u001b[39;49m\u001b[38;5;241;43m*\u001b[39;49m\u001b[43mkwds\u001b[49m\u001b[43m)\u001b[49m\n\u001b[0;32m   1581\u001b[0m \u001b[38;5;66;03m# enforce a threading backend to prevent data communication overhead\u001b[39;00m\n\u001b[0;32m   1582\u001b[0m fd \u001b[38;5;241m=\u001b[39m delayed(_dist_wrapper)\n",
      "File \u001b[1;32m~\\PycharmProjects\\jupyter\\.venv\\lib\\site-packages\\sklearn\\metrics\\pairwise.py:328\u001b[0m, in \u001b[0;36meuclidean_distances\u001b[1;34m(X, Y, Y_norm_squared, squared, X_norm_squared)\u001b[0m\n\u001b[0;32m    322\u001b[0m     \u001b[38;5;28;01mif\u001b[39;00m Y_norm_squared\u001b[38;5;241m.\u001b[39mshape \u001b[38;5;241m!=\u001b[39m (\u001b[38;5;241m1\u001b[39m, Y\u001b[38;5;241m.\u001b[39mshape[\u001b[38;5;241m0\u001b[39m]):\n\u001b[0;32m    323\u001b[0m         \u001b[38;5;28;01mraise\u001b[39;00m \u001b[38;5;167;01mValueError\u001b[39;00m(\n\u001b[0;32m    324\u001b[0m             \u001b[38;5;124mf\u001b[39m\u001b[38;5;124m\"\u001b[39m\u001b[38;5;124mIncompatible dimensions for Y of shape \u001b[39m\u001b[38;5;132;01m{\u001b[39;00mY\u001b[38;5;241m.\u001b[39mshape\u001b[38;5;132;01m}\u001b[39;00m\u001b[38;5;124m and \u001b[39m\u001b[38;5;124m\"\u001b[39m\n\u001b[0;32m    325\u001b[0m             \u001b[38;5;124mf\u001b[39m\u001b[38;5;124m\"\u001b[39m\u001b[38;5;124mY_norm_squared of shape \u001b[39m\u001b[38;5;132;01m{\u001b[39;00moriginal_shape\u001b[38;5;132;01m}\u001b[39;00m\u001b[38;5;124m.\u001b[39m\u001b[38;5;124m\"\u001b[39m\n\u001b[0;32m    326\u001b[0m         )\n\u001b[1;32m--> 328\u001b[0m \u001b[38;5;28;01mreturn\u001b[39;00m \u001b[43m_euclidean_distances\u001b[49m\u001b[43m(\u001b[49m\u001b[43mX\u001b[49m\u001b[43m,\u001b[49m\u001b[43m \u001b[49m\u001b[43mY\u001b[49m\u001b[43m,\u001b[49m\u001b[43m \u001b[49m\u001b[43mX_norm_squared\u001b[49m\u001b[43m,\u001b[49m\u001b[43m \u001b[49m\u001b[43mY_norm_squared\u001b[49m\u001b[43m,\u001b[49m\u001b[43m \u001b[49m\u001b[43msquared\u001b[49m\u001b[43m)\u001b[49m\n",
      "File \u001b[1;32m~\\PycharmProjects\\jupyter\\.venv\\lib\\site-packages\\sklearn\\metrics\\pairwise.py:369\u001b[0m, in \u001b[0;36m_euclidean_distances\u001b[1;34m(X, Y, X_norm_squared, Y_norm_squared, squared)\u001b[0m\n\u001b[0;32m    366\u001b[0m     distances \u001b[38;5;241m=\u001b[39m _euclidean_distances_upcast(X, XX, Y, YY)\n\u001b[0;32m    367\u001b[0m \u001b[38;5;28;01melse\u001b[39;00m:\n\u001b[0;32m    368\u001b[0m     \u001b[38;5;66;03m# if dtype is already float64, no need to chunk and upcast\u001b[39;00m\n\u001b[1;32m--> 369\u001b[0m     distances \u001b[38;5;241m=\u001b[39m \u001b[38;5;241m-\u001b[39m\u001b[38;5;241m2\u001b[39m \u001b[38;5;241m*\u001b[39m \u001b[43msafe_sparse_dot\u001b[49m\u001b[43m(\u001b[49m\u001b[43mX\u001b[49m\u001b[43m,\u001b[49m\u001b[43m \u001b[49m\u001b[43mY\u001b[49m\u001b[38;5;241;43m.\u001b[39;49m\u001b[43mT\u001b[49m\u001b[43m,\u001b[49m\u001b[43m \u001b[49m\u001b[43mdense_output\u001b[49m\u001b[38;5;241;43m=\u001b[39;49m\u001b[38;5;28;43;01mTrue\u001b[39;49;00m\u001b[43m)\u001b[49m\n\u001b[0;32m    370\u001b[0m     distances \u001b[38;5;241m+\u001b[39m\u001b[38;5;241m=\u001b[39m XX\n\u001b[0;32m    371\u001b[0m     distances \u001b[38;5;241m+\u001b[39m\u001b[38;5;241m=\u001b[39m YY\n",
      "File \u001b[1;32m~\\PycharmProjects\\jupyter\\.venv\\lib\\site-packages\\sklearn\\utils\\extmath.py:189\u001b[0m, in \u001b[0;36msafe_sparse_dot\u001b[1;34m(a, b, dense_output)\u001b[0m\n\u001b[0;32m    187\u001b[0m         ret \u001b[38;5;241m=\u001b[39m np\u001b[38;5;241m.\u001b[39mdot(a, b)\n\u001b[0;32m    188\u001b[0m \u001b[38;5;28;01melse\u001b[39;00m:\n\u001b[1;32m--> 189\u001b[0m     ret \u001b[38;5;241m=\u001b[39m \u001b[43ma\u001b[49m\u001b[43m \u001b[49m\u001b[38;5;241;43m@\u001b[39;49m\u001b[43m \u001b[49m\u001b[43mb\u001b[49m\n\u001b[0;32m    191\u001b[0m \u001b[38;5;28;01mif\u001b[39;00m (\n\u001b[0;32m    192\u001b[0m     sparse\u001b[38;5;241m.\u001b[39missparse(a)\n\u001b[0;32m    193\u001b[0m     \u001b[38;5;129;01mand\u001b[39;00m sparse\u001b[38;5;241m.\u001b[39missparse(b)\n\u001b[0;32m    194\u001b[0m     \u001b[38;5;129;01mand\u001b[39;00m dense_output\n\u001b[0;32m    195\u001b[0m     \u001b[38;5;129;01mand\u001b[39;00m \u001b[38;5;28mhasattr\u001b[39m(ret, \u001b[38;5;124m\"\u001b[39m\u001b[38;5;124mtoarray\u001b[39m\u001b[38;5;124m\"\u001b[39m)\n\u001b[0;32m    196\u001b[0m ):\n\u001b[0;32m    197\u001b[0m     \u001b[38;5;28;01mreturn\u001b[39;00m ret\u001b[38;5;241m.\u001b[39mtoarray()\n",
      "\u001b[1;31mKeyboardInterrupt\u001b[0m: "
     ]
    }
   ],
   "source": [
    "print(f'Silhouette Score for k=3: {silhouette_score(df, predicted_label )}')"
   ]
  },
  {
   "cell_type": "code",
   "execution_count": null,
   "id": "182ea5d1-7330-42e4-9421-1e930f2279df",
   "metadata": {},
   "outputs": [],
   "source": [
    "df"
   ]
  },
  {
   "cell_type": "code",
   "execution_count": null,
   "id": "d8f448cb-f19d-4706-9463-46dd93cf5df3",
   "metadata": {},
   "outputs": [],
   "source": []
  }
 ],
 "metadata": {
  "kernelspec": {
   "display_name": "Python 3 (ipykernel)",
   "language": "python",
   "name": "python3"
  },
  "language_info": {
   "codemirror_mode": {
    "name": "ipython",
    "version": 3
   },
   "file_extension": ".py",
   "mimetype": "text/x-python",
   "name": "python",
   "nbconvert_exporter": "python",
   "pygments_lexer": "ipython3",
   "version": "3.8.10"
  }
 },
 "nbformat": 4,
 "nbformat_minor": 5
}
