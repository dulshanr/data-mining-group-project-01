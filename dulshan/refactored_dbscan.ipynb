{
 "cells": [
  {
   "cell_type": "code",
   "execution_count": 54,
   "id": "3f8169b1-4139-4dda-a6c8-0bca2dc1cc7e",
   "metadata": {},
   "outputs": [],
   "source": [
    "import pandas as pd\n",
    "import numpy as np"
   ]
  },
  {
   "cell_type": "code",
   "execution_count": 55,
   "id": "e0cb00ac-8b02-44b4-89ef-aa67d2540a7b",
   "metadata": {},
   "outputs": [],
   "source": [
    "df_raw = pd.read_parquet('./heir_raw.parquet')\n",
    "df_y_actual = pd.read_parquet('./actual.parquet')"
   ]
  },
  {
   "cell_type": "code",
   "execution_count": 56,
   "id": "7bf1e006-c8e4-45e3-921e-8d0cdc3912fe",
   "metadata": {},
   "outputs": [],
   "source": [
    "# selected_cols = [\n",
    "#  'MONTH',\n",
    "#  'lastrejectcredamount_222A',\n",
    "#  'numinstlsallpaid_934L',\n",
    "#  'numinstpaidearly_338L',\n",
    "#  'daysoverduetolerancedd_3976961L',\n",
    "#  'mobilephncnt_593L',\n",
    "#  'numcontrs3months_479L',\n",
    "#  'numrejects9m_859L',\n",
    "#  'sellerplacecnt_915L',\n",
    "#  'lastrejectcredamount_222A.1',\n",
    "#  'numinstlsallpaid_934L.1',\n",
    "#  'numinstpaidearly_338L.1',\n",
    "#  'lastapprcommoditytypec_5251766M',\n",
    "#  'lastcancelreason_561M',\n",
    "#  'lastrejectcommoditycat_161M',\n",
    "#  'lastrejectcommodtypec_5251769M',\n",
    "#  'lastrejectreason_759M',\n",
    "#  'lastrejectreasonclient_4145040M',\n",
    "#  'previouscontdistrict_112M']"
   ]
  },
  {
   "cell_type": "code",
   "execution_count": 57,
   "id": "39046bd0-7110-4664-b079-9b0a454247fe",
   "metadata": {},
   "outputs": [],
   "source": [
    "# df_raw = df_raw[selected_cols]"
   ]
  },
  {
   "cell_type": "code",
   "execution_count": 58,
   "id": "4c9a15c5-a47e-4105-b46a-23235a0747d8",
   "metadata": {},
   "outputs": [
    {
     "data": {
      "text/html": [
       "<div>\n",
       "<style scoped>\n",
       "    .dataframe tbody tr th:only-of-type {\n",
       "        vertical-align: middle;\n",
       "    }\n",
       "\n",
       "    .dataframe tbody tr th {\n",
       "        vertical-align: top;\n",
       "    }\n",
       "\n",
       "    .dataframe thead th {\n",
       "        text-align: right;\n",
       "    }\n",
       "</style>\n",
       "<table border=\"1\" class=\"dataframe\">\n",
       "  <thead>\n",
       "    <tr style=\"text-align: right;\">\n",
       "      <th></th>\n",
       "      <th>actual</th>\n",
       "    </tr>\n",
       "  </thead>\n",
       "  <tbody>\n",
       "    <tr>\n",
       "      <th>0</th>\n",
       "      <td>0</td>\n",
       "    </tr>\n",
       "    <tr>\n",
       "      <th>1</th>\n",
       "      <td>0</td>\n",
       "    </tr>\n",
       "    <tr>\n",
       "      <th>2</th>\n",
       "      <td>0</td>\n",
       "    </tr>\n",
       "    <tr>\n",
       "      <th>3</th>\n",
       "      <td>1</td>\n",
       "    </tr>\n",
       "    <tr>\n",
       "      <th>4</th>\n",
       "      <td>1</td>\n",
       "    </tr>\n",
       "    <tr>\n",
       "      <th>...</th>\n",
       "      <td>...</td>\n",
       "    </tr>\n",
       "    <tr>\n",
       "      <th>67186</th>\n",
       "      <td>1</td>\n",
       "    </tr>\n",
       "    <tr>\n",
       "      <th>67187</th>\n",
       "      <td>0</td>\n",
       "    </tr>\n",
       "    <tr>\n",
       "      <th>67188</th>\n",
       "      <td>0</td>\n",
       "    </tr>\n",
       "    <tr>\n",
       "      <th>67189</th>\n",
       "      <td>1</td>\n",
       "    </tr>\n",
       "    <tr>\n",
       "      <th>67190</th>\n",
       "      <td>1</td>\n",
       "    </tr>\n",
       "  </tbody>\n",
       "</table>\n",
       "<p>67191 rows × 1 columns</p>\n",
       "</div>"
      ],
      "text/plain": [
       "       actual\n",
       "0           0\n",
       "1           0\n",
       "2           0\n",
       "3           1\n",
       "4           1\n",
       "...       ...\n",
       "67186       1\n",
       "67187       0\n",
       "67188       0\n",
       "67189       1\n",
       "67190       1\n",
       "\n",
       "[67191 rows x 1 columns]"
      ]
     },
     "execution_count": 58,
     "metadata": {},
     "output_type": "execute_result"
    }
   ],
   "source": [
    "df_y_actual"
   ]
  },
  {
   "cell_type": "code",
   "execution_count": 59,
   "id": "edb07c32-6042-469c-8c52-b7b122fa3adb",
   "metadata": {},
   "outputs": [],
   "source": [
    "from sklearn.neighbors import NearestNeighbors\n",
    "from matplotlib import pyplot as plt"
   ]
  },
  {
   "cell_type": "code",
   "execution_count": 94,
   "id": "c00f8907-b897-4a20-82d4-55a17db41aa7",
   "metadata": {},
   "outputs": [],
   "source": [
    "neighbors = NearestNeighbors(n_neighbors=240)\n",
    "neighbors_fit = neighbors.fit(df_raw)\n",
    "distances, indices = neighbors_fit.kneighbors(df_raw)"
   ]
  },
  {
   "cell_type": "code",
   "execution_count": 115,
   "id": "ff0c6070-beea-4d38-b2dd-dac304a622ff",
   "metadata": {},
   "outputs": [
    {
     "data": {
      "text/plain": [
       "[<matplotlib.lines.Line2D at 0x1f333b04490>]"
      ]
     },
     "execution_count": 115,
     "metadata": {},
     "output_type": "execute_result"
    },
    {
     "data": {
      "image/png": "[encoded data removed]",
      "text/plain": [
       "<Figure size 640x480 with 1 Axes>"
      ]
     },
     "metadata": {},
     "output_type": "display_data"
    }
   ],
   "source": [
    "# distances = np.sort(distances, axis=0)\n",
    "# distances = distances[:,1]\n",
    "plt.plot(distances)\n",
    "# plt.axhline(y=30, color='r', linestyle='--')"
   ]
  },
  {
   "cell_type": "code",
   "execution_count": 96,
   "id": "0a74b1fc-bf6f-4eda-aec8-929d116e2bf2",
   "metadata": {},
   "outputs": [],
   "source": [
    "from sklearn.cluster import DBSCAN\n",
    "from sklearn.datasets import make_moons\n",
    "import matplotlib.pyplot as plt\n",
    "\n",
    "db = DBSCAN(eps=30, min_samples=240).fit(df_raw)"
   ]
  },
  {
   "cell_type": "code",
   "execution_count": 97,
   "id": "31ddef08-2db1-4ed2-b2e2-35e30f59a157",
   "metadata": {},
   "outputs": [],
   "source": [
    "cluster_labels = db.labels_"
   ]
  },
  {
   "cell_type": "code",
   "execution_count": 98,
   "id": "e3890980-e390-47e1-94d9-c974aeb7f2b2",
   "metadata": {},
   "outputs": [
    {
     "data": {
      "text/plain": [
       "array([0, 0, 0, ..., 1, 0, 0], dtype=int64)"
      ]
     },
     "execution_count": 98,
     "metadata": {},
     "output_type": "execute_result"
    }
   ],
   "source": [
    "cluster_labels"
   ]
  },
  {
   "cell_type": "code",
   "execution_count": 99,
   "id": "65d70772-3d86-46c9-8c0e-3154d7227dba",
   "metadata": {},
   "outputs": [
    {
     "data": {
      "text/plain": [
       "2"
      ]
     },
     "execution_count": 99,
     "metadata": {},
     "output_type": "execute_result"
    }
   ],
   "source": [
    "n_clusters = len(set(cluster_labels)) - (1 if -1 in cluster_labels else 0)  # Exclude noise points\n",
    "n_clusters"
   ]
  },
  {
   "cell_type": "code",
   "execution_count": 100,
   "id": "2b7a16d7-9723-40c3-996c-d071a7cd6038",
   "metadata": {},
   "outputs": [],
   "source": [
    "y_labels = pd.DataFrame({'pred': cluster_labels})"
   ]
  },
  {
   "cell_type": "code",
   "execution_count": 101,
   "id": "e23ed0c2-a276-4500-b3d7-b77609e4f14c",
   "metadata": {},
   "outputs": [],
   "source": [
    "df_results = pd.concat([y_labels, df_y_actual], axis=1, join=\"inner\")"
   ]
  },
  {
   "cell_type": "code",
   "execution_count": 102,
   "id": "a5698f1b-b1c3-473e-9402-b86c9bc481ca",
   "metadata": {},
   "outputs": [],
   "source": [
    "df_filtered = df_results[df_results['pred'] != -1]"
   ]
  },
  {
   "cell_type": "code",
   "execution_count": 103,
   "id": "ab548e44-68c4-48bc-bc56-9e62f439dc09",
   "metadata": {},
   "outputs": [
    {
     "data": {
      "text/html": [
       "<div>\n",
       "<style scoped>\n",
       "    .dataframe tbody tr th:only-of-type {\n",
       "        vertical-align: middle;\n",
       "    }\n",
       "\n",
       "    .dataframe tbody tr th {\n",
       "        vertical-align: top;\n",
       "    }\n",
       "\n",
       "    .dataframe thead th {\n",
       "        text-align: right;\n",
       "    }\n",
       "</style>\n",
       "<table border=\"1\" class=\"dataframe\">\n",
       "  <thead>\n",
       "    <tr style=\"text-align: right;\">\n",
       "      <th></th>\n",
       "      <th>pred</th>\n",
       "      <th>actual</th>\n",
       "    </tr>\n",
       "  </thead>\n",
       "  <tbody>\n",
       "    <tr>\n",
       "      <th>0</th>\n",
       "      <td>0</td>\n",
       "      <td>0</td>\n",
       "    </tr>\n",
       "    <tr>\n",
       "      <th>1</th>\n",
       "      <td>0</td>\n",
       "      <td>0</td>\n",
       "    </tr>\n",
       "    <tr>\n",
       "      <th>2</th>\n",
       "      <td>0</td>\n",
       "      <td>0</td>\n",
       "    </tr>\n",
       "    <tr>\n",
       "      <th>3</th>\n",
       "      <td>0</td>\n",
       "      <td>1</td>\n",
       "    </tr>\n",
       "    <tr>\n",
       "      <th>4</th>\n",
       "      <td>0</td>\n",
       "      <td>1</td>\n",
       "    </tr>\n",
       "    <tr>\n",
       "      <th>...</th>\n",
       "      <td>...</td>\n",
       "      <td>...</td>\n",
       "    </tr>\n",
       "    <tr>\n",
       "      <th>67186</th>\n",
       "      <td>1</td>\n",
       "      <td>1</td>\n",
       "    </tr>\n",
       "    <tr>\n",
       "      <th>67187</th>\n",
       "      <td>0</td>\n",
       "      <td>0</td>\n",
       "    </tr>\n",
       "    <tr>\n",
       "      <th>67188</th>\n",
       "      <td>1</td>\n",
       "      <td>0</td>\n",
       "    </tr>\n",
       "    <tr>\n",
       "      <th>67189</th>\n",
       "      <td>0</td>\n",
       "      <td>1</td>\n",
       "    </tr>\n",
       "    <tr>\n",
       "      <th>67190</th>\n",
       "      <td>0</td>\n",
       "      <td>1</td>\n",
       "    </tr>\n",
       "  </tbody>\n",
       "</table>\n",
       "<p>66286 rows × 2 columns</p>\n",
       "</div>"
      ],
      "text/plain": [
       "       pred  actual\n",
       "0         0       0\n",
       "1         0       0\n",
       "2         0       0\n",
       "3         0       1\n",
       "4         0       1\n",
       "...     ...     ...\n",
       "67186     1       1\n",
       "67187     0       0\n",
       "67188     1       0\n",
       "67189     0       1\n",
       "67190     0       1\n",
       "\n",
       "[66286 rows x 2 columns]"
      ]
     },
     "execution_count": 103,
     "metadata": {},
     "output_type": "execute_result"
    }
   ],
   "source": [
    "df_filtered"
   ]
  },
  {
   "cell_type": "code",
   "execution_count": 104,
   "id": "82b5e283-331a-48b3-81ce-f51e7a2de547",
   "metadata": {},
   "outputs": [],
   "source": [
    "df_formatted = df_raw.reset_index(inplace=False).drop(columns=['case_id'], inplace=False)"
   ]
  },
  {
   "cell_type": "code",
   "execution_count": 105,
   "id": "3374b1e5-3663-4d53-924d-ae30f88c61ae",
   "metadata": {},
   "outputs": [],
   "source": [
    "predicted = df_filtered['pred']\n",
    "actual = df_filtered['actual']"
   ]
  },
  {
   "cell_type": "code",
   "execution_count": 106,
   "id": "685f6aa8-8d2a-4600-9243-9fc7a986562e",
   "metadata": {},
   "outputs": [],
   "source": [
    "focused_raw = df_formatted.iloc[predicted.index]"
   ]
  },
  {
   "cell_type": "code",
   "execution_count": 107,
   "id": "65e73d94-7e32-4f9e-8445-81e111b33821",
   "metadata": {},
   "outputs": [
    {
     "name": "stdout",
     "output_type": "stream",
     "text": [
      "Accuracy: 0.5084482394472437\n",
      "Precision: 0.5100243670618488\n",
      "Recall: 0.5084482394472437\n"
     ]
    }
   ],
   "source": [
    "import pandas as pd\n",
    "from sklearn.metrics import accuracy_score, precision_score, recall_score\n",
    "\n",
    "# Calculating accuracy\n",
    "accuracy = accuracy_score(actual, predicted)\n",
    "\n",
    "# Calculating precision\n",
    "precision = precision_score(actual, predicted, average='weighted')\n",
    "\n",
    "# Calculating recall\n",
    "recall = recall_score(actual, predicted, average='weighted')\n",
    "\n",
    "print(\"Accuracy:\", accuracy)\n",
    "print(\"Precision:\", precision)\n",
    "print(\"Recall:\", recall)"
   ]
  },
  {
   "cell_type": "code",
   "execution_count": 108,
   "id": "c2add33b-45a9-4d67-9a0b-5a6b3e4966c3",
   "metadata": {},
   "outputs": [
    {
     "name": "stdout",
     "output_type": "stream",
     "text": [
      "Silhouette Score: 0.34422151774303855\n"
     ]
    }
   ],
   "source": [
    "from sklearn.metrics import silhouette_score\n",
    "silhouette_avg = silhouette_score(focused_raw, predicted)\n",
    "print(\"Silhouette Score:\", silhouette_avg)"
   ]
  },
  {
   "cell_type": "code",
   "execution_count": 109,
   "id": "403690d5-d72a-463e-ac86-72d7e432e454",
   "metadata": {},
   "outputs": [],
   "source": [
    "import numpy as np\n",
    "import matplotlib.pyplot as plt\n",
    "from sklearn.decomposition import PCA"
   ]
  },
  {
   "cell_type": "code",
   "execution_count": 110,
   "id": "9af41c21-2b00-458d-a38b-ddd7e5a52cf8",
   "metadata": {},
   "outputs": [],
   "source": [
    "pca = PCA(n_components=2)\n",
    "reduced_data = pca.fit_transform(focused_raw)\n",
    "numped_arry = predicted.to_numpy()"
   ]
  },
  {
   "cell_type": "code",
   "execution_count": 111,
   "id": "2ba61335-e417-4ec7-9f4c-9c58fa12bed8",
   "metadata": {},
   "outputs": [
    {
     "data": {
      "image/png": "[encoded data removed]",
      "text/plain": [
       "<Figure size 640x480 with 1 Axes>"
      ]
     },
     "metadata": {},
     "output_type": "display_data"
    }
   ],
   "source": [
    "plt.scatter(reduced_data[numped_arry == 0, 0], reduced_data[numped_arry == 0, 1], color='red', label='Class 0')\n",
    "plt.scatter(reduced_data[numped_arry == 1, 0], reduced_data[numped_arry == 1, 1], color='blue', label='Class 1')\n",
    "plt.title('PCA Visualization of Data Points (2D)')\n",
    "plt.xlabel('Principal Component 1')\n",
    "plt.ylabel('Principal Component 2')\n",
    "plt.show()"
   ]
  },
  {
   "cell_type": "code",
   "execution_count": 112,
   "id": "6e69665a-4a60-40b1-a85f-868c69e5f8bd",
   "metadata": {},
   "outputs": [],
   "source": [
    "from sklearn.metrics import rand_score, adjusted_rand_score\n",
    "\n",
    "RI = rand_score(actual, predicted)\n",
    "ARI = adjusted_rand_score(actual, predicted)"
   ]
  },
  {
   "cell_type": "code",
   "execution_count": 113,
   "id": "96a82af5-4899-4913-a10e-111aa80a54f9",
   "metadata": {},
   "outputs": [
    {
     "data": {
      "text/plain": [
       "0.5001352044682947"
      ]
     },
     "execution_count": 113,
     "metadata": {},
     "output_type": "execute_result"
    }
   ],
   "source": [
    "RI"
   ]
  },
  {
   "cell_type": "code",
   "execution_count": null,
   "id": "f723c603-0750-42e4-80d1-f31e9d50fa35",
   "metadata": {},
   "outputs": [],
   "source": []
  }
 ],
 "metadata": {
  "kernelspec": {
   "display_name": "Python 3 (ipykernel)",
   "language": "python",
   "name": "python3"
  },
  "language_info": {
   "codemirror_mode": {
    "name": "ipython",
    "version": 3
   },
   "file_extension": ".py",
   "mimetype": "text/x-python",
   "name": "python",
   "nbconvert_exporter": "python",
   "pygments_lexer": "ipython3",
   "version": "3.8.10"
  }
 },
 "nbformat": 4,
 "nbformat_minor": 5
}
