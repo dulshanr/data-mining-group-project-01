{
 "cells": [
  {
   "cell_type": "code",
   "execution_count": 1,
   "metadata": {},
   "outputs": [],
   "source": [
    "import pandas as pd"
   ]
  },
  {
   "cell_type": "code",
   "execution_count": 2,
   "metadata": {},
   "outputs": [
    {
     "name": "stderr",
     "output_type": "stream",
     "text": [
      "C:\\Users\\tharaka_50498.DIALOG\\AppData\\Local\\Temp\\1\\ipykernel_11692\\1402481.py:1: DtypeWarning: Columns (24,49,50,57,60,61,88,150,171,172,173,174,175,177,178,184,185,186,205,206,216,217,218,219,220) have mixed types. Specify dtype option on import or set low_memory=False.\n",
      "  df_raw = pd.read_csv('../data/raw/cleaned_joined_static_x.csv.gz', compression='gzip')\n"
     ]
    },
    {
     "name": "stdout",
     "output_type": "stream",
     "text": [
      "(1526659, 224)\n"
     ]
    },
    {
     "data": {
      "text/html": [
       "<div>\n",
       "<style scoped>\n",
       "    .dataframe tbody tr th:only-of-type {\n",
       "        vertical-align: middle;\n",
       "    }\n",
       "\n",
       "    .dataframe tbody tr th {\n",
       "        vertical-align: top;\n",
       "    }\n",
       "\n",
       "    .dataframe thead th {\n",
       "        text-align: right;\n",
       "    }\n",
       "</style>\n",
       "<table border=\"1\" class=\"dataframe\">\n",
       "  <thead>\n",
       "    <tr style=\"text-align: right;\">\n",
       "      <th></th>\n",
       "      <th>case_id</th>\n",
       "      <th>date_decision</th>\n",
       "      <th>MONTH</th>\n",
       "      <th>WEEK_NUM</th>\n",
       "      <th>target</th>\n",
       "      <th>actualdpdtolerance_344P</th>\n",
       "      <th>amtinstpaidbefduel24m_4187115A</th>\n",
       "      <th>annuity_780A</th>\n",
       "      <th>annuitynextmonth_57A</th>\n",
       "      <th>applicationcnt_361L</th>\n",
       "      <th>...</th>\n",
       "      <th>pmtscount_423L</th>\n",
       "      <th>pmtssum_45A</th>\n",
       "      <th>requesttype_4525192L</th>\n",
       "      <th>responsedate_1012D</th>\n",
       "      <th>responsedate_4527233D</th>\n",
       "      <th>responsedate_4917613D</th>\n",
       "      <th>riskassesment_302T</th>\n",
       "      <th>riskassesment_940T</th>\n",
       "      <th>secondquarter_766L</th>\n",
       "      <th>thirdquarter_1082L</th>\n",
       "    </tr>\n",
       "  </thead>\n",
       "  <tbody>\n",
       "    <tr>\n",
       "      <th>0</th>\n",
       "      <td>0</td>\n",
       "      <td>2019-01-03</td>\n",
       "      <td>201901</td>\n",
       "      <td>0</td>\n",
       "      <td>0</td>\n",
       "      <td>NaN</td>\n",
       "      <td>NaN</td>\n",
       "      <td>1917.6</td>\n",
       "      <td>0.0</td>\n",
       "      <td>0.0</td>\n",
       "      <td>...</td>\n",
       "      <td>NaN</td>\n",
       "      <td>NaN</td>\n",
       "      <td>NaN</td>\n",
       "      <td>NaN</td>\n",
       "      <td>NaN</td>\n",
       "      <td>NaN</td>\n",
       "      <td>NaN</td>\n",
       "      <td>NaN</td>\n",
       "      <td>NaN</td>\n",
       "      <td>NaN</td>\n",
       "    </tr>\n",
       "    <tr>\n",
       "      <th>1</th>\n",
       "      <td>1</td>\n",
       "      <td>2019-01-03</td>\n",
       "      <td>201901</td>\n",
       "      <td>0</td>\n",
       "      <td>0</td>\n",
       "      <td>NaN</td>\n",
       "      <td>NaN</td>\n",
       "      <td>3134.0</td>\n",
       "      <td>0.0</td>\n",
       "      <td>0.0</td>\n",
       "      <td>...</td>\n",
       "      <td>NaN</td>\n",
       "      <td>NaN</td>\n",
       "      <td>NaN</td>\n",
       "      <td>NaN</td>\n",
       "      <td>NaN</td>\n",
       "      <td>NaN</td>\n",
       "      <td>NaN</td>\n",
       "      <td>NaN</td>\n",
       "      <td>NaN</td>\n",
       "      <td>NaN</td>\n",
       "    </tr>\n",
       "    <tr>\n",
       "      <th>2</th>\n",
       "      <td>2</td>\n",
       "      <td>2019-01-04</td>\n",
       "      <td>201901</td>\n",
       "      <td>0</td>\n",
       "      <td>0</td>\n",
       "      <td>NaN</td>\n",
       "      <td>NaN</td>\n",
       "      <td>4937.0</td>\n",
       "      <td>0.0</td>\n",
       "      <td>0.0</td>\n",
       "      <td>...</td>\n",
       "      <td>NaN</td>\n",
       "      <td>NaN</td>\n",
       "      <td>NaN</td>\n",
       "      <td>NaN</td>\n",
       "      <td>NaN</td>\n",
       "      <td>NaN</td>\n",
       "      <td>NaN</td>\n",
       "      <td>NaN</td>\n",
       "      <td>NaN</td>\n",
       "      <td>NaN</td>\n",
       "    </tr>\n",
       "    <tr>\n",
       "      <th>3</th>\n",
       "      <td>3</td>\n",
       "      <td>2019-01-03</td>\n",
       "      <td>201901</td>\n",
       "      <td>0</td>\n",
       "      <td>0</td>\n",
       "      <td>NaN</td>\n",
       "      <td>NaN</td>\n",
       "      <td>4643.6</td>\n",
       "      <td>0.0</td>\n",
       "      <td>0.0</td>\n",
       "      <td>...</td>\n",
       "      <td>NaN</td>\n",
       "      <td>NaN</td>\n",
       "      <td>NaN</td>\n",
       "      <td>NaN</td>\n",
       "      <td>NaN</td>\n",
       "      <td>NaN</td>\n",
       "      <td>NaN</td>\n",
       "      <td>NaN</td>\n",
       "      <td>NaN</td>\n",
       "      <td>NaN</td>\n",
       "    </tr>\n",
       "    <tr>\n",
       "      <th>4</th>\n",
       "      <td>4</td>\n",
       "      <td>2019-01-04</td>\n",
       "      <td>201901</td>\n",
       "      <td>0</td>\n",
       "      <td>1</td>\n",
       "      <td>NaN</td>\n",
       "      <td>NaN</td>\n",
       "      <td>3390.2</td>\n",
       "      <td>0.0</td>\n",
       "      <td>0.0</td>\n",
       "      <td>...</td>\n",
       "      <td>NaN</td>\n",
       "      <td>NaN</td>\n",
       "      <td>NaN</td>\n",
       "      <td>NaN</td>\n",
       "      <td>NaN</td>\n",
       "      <td>NaN</td>\n",
       "      <td>NaN</td>\n",
       "      <td>NaN</td>\n",
       "      <td>NaN</td>\n",
       "      <td>NaN</td>\n",
       "    </tr>\n",
       "  </tbody>\n",
       "</table>\n",
       "<p>5 rows × 224 columns</p>\n",
       "</div>"
      ],
      "text/plain": [
       "   case_id date_decision   MONTH  WEEK_NUM  target  actualdpdtolerance_344P  \\\n",
       "0        0    2019-01-03  201901         0       0                      NaN   \n",
       "1        1    2019-01-03  201901         0       0                      NaN   \n",
       "2        2    2019-01-04  201901         0       0                      NaN   \n",
       "3        3    2019-01-03  201901         0       0                      NaN   \n",
       "4        4    2019-01-04  201901         0       1                      NaN   \n",
       "\n",
       "   amtinstpaidbefduel24m_4187115A  annuity_780A  annuitynextmonth_57A  \\\n",
       "0                             NaN        1917.6                   0.0   \n",
       "1                             NaN        3134.0                   0.0   \n",
       "2                             NaN        4937.0                   0.0   \n",
       "3                             NaN        4643.6                   0.0   \n",
       "4                             NaN        3390.2                   0.0   \n",
       "\n",
       "   applicationcnt_361L  ...  pmtscount_423L  pmtssum_45A  \\\n",
       "0                  0.0  ...             NaN          NaN   \n",
       "1                  0.0  ...             NaN          NaN   \n",
       "2                  0.0  ...             NaN          NaN   \n",
       "3                  0.0  ...             NaN          NaN   \n",
       "4                  0.0  ...             NaN          NaN   \n",
       "\n",
       "   requesttype_4525192L  responsedate_1012D  responsedate_4527233D  \\\n",
       "0                   NaN                 NaN                    NaN   \n",
       "1                   NaN                 NaN                    NaN   \n",
       "2                   NaN                 NaN                    NaN   \n",
       "3                   NaN                 NaN                    NaN   \n",
       "4                   NaN                 NaN                    NaN   \n",
       "\n",
       "   responsedate_4917613D  riskassesment_302T  riskassesment_940T  \\\n",
       "0                    NaN                 NaN                 NaN   \n",
       "1                    NaN                 NaN                 NaN   \n",
       "2                    NaN                 NaN                 NaN   \n",
       "3                    NaN                 NaN                 NaN   \n",
       "4                    NaN                 NaN                 NaN   \n",
       "\n",
       "   secondquarter_766L  thirdquarter_1082L  \n",
       "0                 NaN                 NaN  \n",
       "1                 NaN                 NaN  \n",
       "2                 NaN                 NaN  \n",
       "3                 NaN                 NaN  \n",
       "4                 NaN                 NaN  \n",
       "\n",
       "[5 rows x 224 columns]"
      ]
     },
     "execution_count": 2,
     "metadata": {},
     "output_type": "execute_result"
    }
   ],
   "source": [
    "df_raw = pd.read_csv('../data/raw/cleaned_joined_static_x.csv.gz', compression='gzip')\n",
    "print(df_raw.shape)\n",
    "df_raw.head()"
   ]
  },
  {
   "cell_type": "code",
   "execution_count": 3,
   "metadata": {},
   "outputs": [
    {
     "data": {
      "text/plain": [
       "Index(['case_id', 'date_decision', 'MONTH', 'WEEK_NUM', 'target',\n",
       "       'actualdpdtolerance_344P', 'amtinstpaidbefduel24m_4187115A',\n",
       "       'annuity_780A', 'annuitynextmonth_57A', 'applicationcnt_361L',\n",
       "       ...\n",
       "       'pmtscount_423L', 'pmtssum_45A', 'requesttype_4525192L',\n",
       "       'responsedate_1012D', 'responsedate_4527233D', 'responsedate_4917613D',\n",
       "       'riskassesment_302T', 'riskassesment_940T', 'secondquarter_766L',\n",
       "       'thirdquarter_1082L'],\n",
       "      dtype='object', length=224)"
      ]
     },
     "execution_count": 3,
     "metadata": {},
     "output_type": "execute_result"
    }
   ],
   "source": [
    "df_raw.columns"
   ]
  },
  {
   "cell_type": "code",
   "execution_count": 4,
   "metadata": {},
   "outputs": [
    {
     "data": {
      "text/plain": [
       "['date_decision',\n",
       " 'datefirstoffer_1144D',\n",
       " 'datelastinstal40dpd_247D',\n",
       " 'datelastunpaid_3546854D',\n",
       " 'firstdatedue_489D',\n",
       " 'lastactivateddate_801D',\n",
       " 'lastapplicationdate_877D',\n",
       " 'lastapprdate_640D',\n",
       " 'lastdelinqdate_224D',\n",
       " 'lastrejectdate_50D',\n",
       " 'lastrepayingdate_696D',\n",
       " 'maxdpdinstldate_3546855D',\n",
       " 'assignmentdate_238D',\n",
       " 'assignmentdate_4527235D',\n",
       " 'assignmentdate_4955616D',\n",
       " 'birthdate_574D',\n",
       " 'dateofbirth_337D',\n",
       " 'dateofbirth_342D',\n",
       " 'responsedate_1012D',\n",
       " 'responsedate_4527233D',\n",
       " 'responsedate_4917613D']"
      ]
     },
     "execution_count": 4,
     "metadata": {},
     "output_type": "execute_result"
    }
   ],
   "source": [
    "# Using filter() function\n",
    "matching_items = list(filter(lambda x: 'date' in x, df_raw.columns))\n",
    "matching_items"
   ]
  },
  {
   "cell_type": "code",
   "execution_count": 5,
   "metadata": {},
   "outputs": [
    {
     "name": "stdout",
     "output_type": "stream",
     "text": [
      "date_decision: 1526659 (100.00%)\n",
      "datefirstoffer_1144D: 692924 (45.39%)\n",
      "datelastinstal40dpd_247D: 133818 (8.77%)\n",
      "datelastunpaid_3546854D: 639000 (41.86%)\n",
      "firstdatedue_489D: 1044556 (68.42%)\n",
      "lastactivateddate_801D: 1073072 (70.29%)\n",
      "lastapplicationdate_877D: 1221522 (80.01%)\n",
      "lastapprdate_640D: 1084618 (71.05%)\n",
      "lastdelinqdate_224D: 548684 (35.94%)\n",
      "lastrejectdate_50D: 757613 (49.63%)\n",
      "lastrepayingdate_696D: 2377 (0.16%)\n",
      "maxdpdinstldate_3546855D: 700659 (45.89%)\n",
      "assignmentdate_238D: 136996 (8.97%)\n",
      "assignmentdate_4527235D: 114978 (7.53%)\n",
      "assignmentdate_4955616D: 71633 (4.69%)\n",
      "birthdate_574D: 607871 (39.82%)\n",
      "dateofbirth_337D: 1385691 (90.77%)\n",
      "dateofbirth_342D: 36500 (2.39%)\n",
      "responsedate_1012D: 720000 (47.16%)\n",
      "responsedate_4527233D: 660327 (43.25%)\n",
      "responsedate_4917613D: 224912 (14.73%)\n"
     ]
    }
   ],
   "source": [
    "total_length = len(df_raw)\n",
    "\n",
    "for col in matching_items:\n",
    "    non_null_count = df_raw[col].notnull().sum()\n",
    "    percentage = (non_null_count / total_length) * 100\n",
    "    print(f\"{col}: {non_null_count} ({percentage:.2f}%)\")"
   ]
  },
  {
   "cell_type": "code",
   "execution_count": 6,
   "metadata": {},
   "outputs": [],
   "source": [
    "test = df_raw[['target','datelastunpaid_3546854D']]"
   ]
  },
  {
   "cell_type": "code",
   "execution_count": 7,
   "metadata": {},
   "outputs": [
    {
     "data": {
      "text/plain": [
       "20763"
      ]
     },
     "execution_count": 7,
     "metadata": {},
     "output_type": "execute_result"
    }
   ],
   "source": [
    "test[test['target']==1]['datelastunpaid_3546854D'].isna().sum()"
   ]
  },
  {
   "cell_type": "markdown",
   "metadata": {},
   "source": [
    "* If datelastunpaid_3546854D is null, datelastunpaid_3546854D = date_decision\n",
    "* date_delta = (date_decision_max - datelastunpaid_3546854D)"
   ]
  },
  {
   "cell_type": "markdown",
   "metadata": {},
   "source": [
    "Missing Data Handeling"
   ]
  },
  {
   "cell_type": "code",
   "execution_count": 8,
   "metadata": {},
   "outputs": [],
   "source": [
    "base_cols = [ 'case_id','date_decision','MONTH','WEEK_NUM','target']\n",
    "sel_non_imputated_cols = ['actualdpdtolerance_344P','amtinstpaidbefduel24m_4187115A','annuity_780A','annuitynextmonth_57A','applicationcnt_361L','applications30d_658L','applicationscnt_1086L','applicationscnt_464L','applicationscnt_629L','applicationscnt_867L','avgdbddpdlast24m_3658932P','avgdbddpdlast3m_4187120P','avgdbdtollast24m_4525197P','avgdpdtolclosure24_3658938P','avginstallast24m_3658937A','avgmaxdpdlast9m_3716943P','avgoutstandbalancel6m_4187114A','avgpmtlast12m_4525200A','clientscnt_100L','clientscnt_1022L','clientscnt_1071L','clientscnt_1130L','clientscnt_157L','clientscnt_257L','clientscnt_304L','clientscnt_360L','clientscnt_493L','clientscnt_533L','clientscnt_887L','clientscnt_946L','clientscnt12m_3712952L','clientscnt3m_3712950L','clientscnt6m_3712949L','credamount_770A','credtype_322L','currdebt_22A','currdebtcredtyperange_828A','daysoverduetolerancedd_3976961L','deferredmnthsnum_166L','disbursedcredamount_1113A','disbursementtype_67L','downpmt_116A','isbidproduct_1095L','lastapprcommoditycat_1041M','lastapprcommoditytypec_5251766M','lastcancelreason_561M','lastrejectcommoditycat_161M','lastrejectcommodtypec_5251769M','lastrejectreason_759M','lastrejectreasonclient_4145040M','mobilephncnt_593L','numactivecreds_622L','numactivecredschannel_414L','numactiverelcontr_750L','numcontrs3months_479L','numnotactivated_1143L','numpmtchanneldd_318L','numrejects9m_859L','previouscontdistrict_112M','sellerplacecnt_915L','sellerplacescnt_216L']\n",
    "sel_imputated_cols = ['datelastunpaid_3546854D','bankacctype_710L','cardtype_51L','cntincpaycont9m_3716944L','cntpmts24_3658933L','commnoinclast6m_3546845L','eir_270L','inittransactioncode_186L','interestrate_311L','lastapprcredamount_781A','lastrejectcredamount_222A','lastst_736L','maininc_215A','maxannuity_159A','maxdbddpdtollast6m_4187119P','numinstls_657L','numinstlsallpaid_934L','numinstpaidearly_338L','numinstregularpaid_973L','numinsttopaygr_769L','numinstunpaidmax_3546851L','opencred_647L','pmtnum_254L','posfpd30lastmonth_3976960P','price_1097A','sumoutstandtotal_3546847A','totaldebt_9A','totalsettled_863A']\n",
    "imputate_with_zero_cols = ['daysoverduetolerancedd_3976961L','avgpmtlast12m_4525200A','avgoutstandbalancel6m_4187114A','avgmaxdpdlast9m_3716943P','avginstallast24m_3658937A','avgdpdtolclosure24_3658938P','avgdbdtollast24m_4525197P','avgdbddpdlast3m_4187120P','avgdbddpdlast24m_3658932P','amtinstpaidbefduel24m_4187115A','actualdpdtolerance_344P','cntincpaycont9m_3716944L','cntpmts24_3658933L','commnoinclast6m_3546845L','lastapprcredamount_781A','lastrejectcredamount_222A','maininc_215A','maxannuity_159A','numinstls_657L','numinstlsallpaid_934L','numinstpaidearly_338L','numinstregularpaid_973L','numinsttopaygr_769L','numinstunpaidmax_3546851L','pmtnum_254L','posfpd30lastmonth_3976960P','price_1097A','sumoutstandtotal_3546847A','totaldebt_9A','totalsettled_863A']"
   ]
  },
  {
   "cell_type": "code",
   "execution_count": 9,
   "metadata": {},
   "outputs": [
    {
     "data": {
      "text/plain": [
       "124"
      ]
     },
     "execution_count": 9,
     "metadata": {},
     "output_type": "execute_result"
    }
   ],
   "source": [
    "len(base_cols) + len(sel_non_imputated_cols) + len(sel_imputated_cols) + len(imputate_with_zero_cols)"
   ]
  },
  {
   "cell_type": "markdown",
   "metadata": {},
   "source": [
    "These 123 columns are the final selected columns"
   ]
  },
  {
   "cell_type": "code",
   "execution_count": 10,
   "metadata": {},
   "outputs": [],
   "source": [
    "def impute_with_zero(column):\n",
    "    df_raw[column] = df_raw[column].fillna(0.0)\n",
    "    \n",
    "# imputation with zero\n",
    "impute_with_zero(imputate_with_zero_cols)\n",
    "\n",
    "# manual imputation\n",
    "\n",
    "# datelastunpaid_3546854D\n",
    "df_raw['datelastunpaid_3546854D'] = df_raw['datelastunpaid_3546854D'].fillna(df_raw['date_decision'])\n",
    "\n",
    "# bankacctype_710L\n",
    "df_raw['bankacctype_710L'] = df_raw['bankacctype_710L'].fillna('NA')\n",
    "\n",
    "# cardtype_51L\n",
    "df_raw['cardtype_51L'] = df_raw['cardtype_51L'].fillna('NOCARD')\n",
    "\n",
    "# eir_270L\n",
    "df_raw['eir_270L'] = df_raw['eir_270L'].fillna(0.2)\n",
    "\n",
    "# inittransactioncode_186L\n",
    "df_raw['inittransactioncode_186L'] = df_raw['inittransactioncode_186L'].fillna(df_raw['inittransactioncode_186L'].mode()[0])\n",
    "\n",
    "# interestrate_311L\n",
    "df_raw['interestrate_311L'] = df_raw['interestrate_311L'].fillna(df_raw['interestrate_311L'].mean())\n",
    "\n",
    "# lastst_736L\n",
    "df_raw['lastst_736L'] = df_raw['lastst_736L'].fillna(df_raw['lastst_736L'].mode()[0])\n",
    "\n",
    "# opencred_647L\n",
    "df_raw['opencred_647L'] = df_raw['opencred_647L'].fillna(df_raw['opencred_647L'].mode()[0])"
   ]
  },
  {
   "cell_type": "code",
   "execution_count": 11,
   "metadata": {},
   "outputs": [
    {
     "name": "stdout",
     "output_type": "stream",
     "text": [
      "Column count 124\n"
     ]
    }
   ],
   "source": [
    "# selected columns for the final dataframe\n",
    "final_cols = base_cols + sel_imputated_cols + sel_non_imputated_cols + imputate_with_zero_cols\n",
    "print('Column count', len(final_cols))\n",
    "cleaned_frame = df_raw[final_cols]"
   ]
  },
  {
   "cell_type": "code",
   "execution_count": 12,
   "metadata": {},
   "outputs": [
    {
     "name": "stdout",
     "output_type": "stream",
     "text": [
      "<class 'pandas.core.frame.DataFrame'>\n",
      "RangeIndex: 1526659 entries, 0 to 1526658\n",
      "Columns: 124 entries, case_id to totalsettled_863A\n",
      "dtypes: bool(2), float64(102), int64(4), object(16)\n",
      "memory usage: 1.4+ GB\n"
     ]
    }
   ],
   "source": [
    "cleaned_frame.info()"
   ]
  },
  {
   "cell_type": "code",
   "execution_count": 13,
   "metadata": {},
   "outputs": [
    {
     "data": {
      "text/html": [
       "<div>\n",
       "<style scoped>\n",
       "    .dataframe tbody tr th:only-of-type {\n",
       "        vertical-align: middle;\n",
       "    }\n",
       "\n",
       "    .dataframe tbody tr th {\n",
       "        vertical-align: top;\n",
       "    }\n",
       "\n",
       "    .dataframe thead th {\n",
       "        text-align: right;\n",
       "    }\n",
       "</style>\n",
       "<table border=\"1\" class=\"dataframe\">\n",
       "  <thead>\n",
       "    <tr style=\"text-align: right;\">\n",
       "      <th></th>\n",
       "      <th>case_id</th>\n",
       "      <th>date_decision</th>\n",
       "      <th>MONTH</th>\n",
       "      <th>WEEK_NUM</th>\n",
       "      <th>target</th>\n",
       "      <th>datelastunpaid_3546854D</th>\n",
       "      <th>bankacctype_710L</th>\n",
       "      <th>cardtype_51L</th>\n",
       "      <th>cntincpaycont9m_3716944L</th>\n",
       "      <th>cntpmts24_3658933L</th>\n",
       "      <th>...</th>\n",
       "      <th>numinstpaidearly_338L</th>\n",
       "      <th>numinstregularpaid_973L</th>\n",
       "      <th>numinsttopaygr_769L</th>\n",
       "      <th>numinstunpaidmax_3546851L</th>\n",
       "      <th>pmtnum_254L</th>\n",
       "      <th>posfpd30lastmonth_3976960P</th>\n",
       "      <th>price_1097A</th>\n",
       "      <th>sumoutstandtotal_3546847A</th>\n",
       "      <th>totaldebt_9A</th>\n",
       "      <th>totalsettled_863A</th>\n",
       "    </tr>\n",
       "  </thead>\n",
       "  <tbody>\n",
       "    <tr>\n",
       "      <th>0</th>\n",
       "      <td>0</td>\n",
       "      <td>2019-01-03</td>\n",
       "      <td>201901</td>\n",
       "      <td>0</td>\n",
       "      <td>0</td>\n",
       "      <td>2019-01-03</td>\n",
       "      <td>NA</td>\n",
       "      <td>NOCARD</td>\n",
       "      <td>0.0</td>\n",
       "      <td>0.0</td>\n",
       "      <td>...</td>\n",
       "      <td>0.0</td>\n",
       "      <td>0.0</td>\n",
       "      <td>0.0</td>\n",
       "      <td>0.0</td>\n",
       "      <td>24.0</td>\n",
       "      <td>0.0</td>\n",
       "      <td>0.0</td>\n",
       "      <td>0.0</td>\n",
       "      <td>0.0</td>\n",
       "      <td>0.0</td>\n",
       "    </tr>\n",
       "    <tr>\n",
       "      <th>1</th>\n",
       "      <td>1</td>\n",
       "      <td>2019-01-03</td>\n",
       "      <td>201901</td>\n",
       "      <td>0</td>\n",
       "      <td>0</td>\n",
       "      <td>2019-01-03</td>\n",
       "      <td>NA</td>\n",
       "      <td>NOCARD</td>\n",
       "      <td>0.0</td>\n",
       "      <td>0.0</td>\n",
       "      <td>...</td>\n",
       "      <td>0.0</td>\n",
       "      <td>0.0</td>\n",
       "      <td>0.0</td>\n",
       "      <td>0.0</td>\n",
       "      <td>18.0</td>\n",
       "      <td>0.0</td>\n",
       "      <td>0.0</td>\n",
       "      <td>0.0</td>\n",
       "      <td>0.0</td>\n",
       "      <td>0.0</td>\n",
       "    </tr>\n",
       "    <tr>\n",
       "      <th>2</th>\n",
       "      <td>2</td>\n",
       "      <td>2019-01-04</td>\n",
       "      <td>201901</td>\n",
       "      <td>0</td>\n",
       "      <td>0</td>\n",
       "      <td>2019-01-04</td>\n",
       "      <td>NA</td>\n",
       "      <td>NOCARD</td>\n",
       "      <td>0.0</td>\n",
       "      <td>0.0</td>\n",
       "      <td>...</td>\n",
       "      <td>0.0</td>\n",
       "      <td>0.0</td>\n",
       "      <td>0.0</td>\n",
       "      <td>0.0</td>\n",
       "      <td>36.0</td>\n",
       "      <td>0.0</td>\n",
       "      <td>0.0</td>\n",
       "      <td>0.0</td>\n",
       "      <td>0.0</td>\n",
       "      <td>0.0</td>\n",
       "    </tr>\n",
       "    <tr>\n",
       "      <th>3</th>\n",
       "      <td>3</td>\n",
       "      <td>2019-01-03</td>\n",
       "      <td>201901</td>\n",
       "      <td>0</td>\n",
       "      <td>0</td>\n",
       "      <td>2019-01-03</td>\n",
       "      <td>NA</td>\n",
       "      <td>NOCARD</td>\n",
       "      <td>0.0</td>\n",
       "      <td>0.0</td>\n",
       "      <td>...</td>\n",
       "      <td>0.0</td>\n",
       "      <td>0.0</td>\n",
       "      <td>0.0</td>\n",
       "      <td>0.0</td>\n",
       "      <td>12.0</td>\n",
       "      <td>0.0</td>\n",
       "      <td>0.0</td>\n",
       "      <td>0.0</td>\n",
       "      <td>0.0</td>\n",
       "      <td>0.0</td>\n",
       "    </tr>\n",
       "    <tr>\n",
       "      <th>4</th>\n",
       "      <td>4</td>\n",
       "      <td>2019-01-04</td>\n",
       "      <td>201901</td>\n",
       "      <td>0</td>\n",
       "      <td>1</td>\n",
       "      <td>2019-01-04</td>\n",
       "      <td>NA</td>\n",
       "      <td>NOCARD</td>\n",
       "      <td>0.0</td>\n",
       "      <td>0.0</td>\n",
       "      <td>...</td>\n",
       "      <td>0.0</td>\n",
       "      <td>0.0</td>\n",
       "      <td>0.0</td>\n",
       "      <td>0.0</td>\n",
       "      <td>24.0</td>\n",
       "      <td>0.0</td>\n",
       "      <td>0.0</td>\n",
       "      <td>0.0</td>\n",
       "      <td>0.0</td>\n",
       "      <td>0.0</td>\n",
       "    </tr>\n",
       "  </tbody>\n",
       "</table>\n",
       "<p>5 rows × 124 columns</p>\n",
       "</div>"
      ],
      "text/plain": [
       "   case_id date_decision   MONTH  WEEK_NUM  target datelastunpaid_3546854D  \\\n",
       "0        0    2019-01-03  201901         0       0              2019-01-03   \n",
       "1        1    2019-01-03  201901         0       0              2019-01-03   \n",
       "2        2    2019-01-04  201901         0       0              2019-01-04   \n",
       "3        3    2019-01-03  201901         0       0              2019-01-03   \n",
       "4        4    2019-01-04  201901         0       1              2019-01-04   \n",
       "\n",
       "  bankacctype_710L cardtype_51L  cntincpaycont9m_3716944L  cntpmts24_3658933L  \\\n",
       "0               NA       NOCARD                       0.0                 0.0   \n",
       "1               NA       NOCARD                       0.0                 0.0   \n",
       "2               NA       NOCARD                       0.0                 0.0   \n",
       "3               NA       NOCARD                       0.0                 0.0   \n",
       "4               NA       NOCARD                       0.0                 0.0   \n",
       "\n",
       "   ...  numinstpaidearly_338L  numinstregularpaid_973L numinsttopaygr_769L  \\\n",
       "0  ...                    0.0                      0.0                 0.0   \n",
       "1  ...                    0.0                      0.0                 0.0   \n",
       "2  ...                    0.0                      0.0                 0.0   \n",
       "3  ...                    0.0                      0.0                 0.0   \n",
       "4  ...                    0.0                      0.0                 0.0   \n",
       "\n",
       "   numinstunpaidmax_3546851L  pmtnum_254L  posfpd30lastmonth_3976960P  \\\n",
       "0                        0.0         24.0                         0.0   \n",
       "1                        0.0         18.0                         0.0   \n",
       "2                        0.0         36.0                         0.0   \n",
       "3                        0.0         12.0                         0.0   \n",
       "4                        0.0         24.0                         0.0   \n",
       "\n",
       "  price_1097A  sumoutstandtotal_3546847A  totaldebt_9A  totalsettled_863A  \n",
       "0         0.0                        0.0           0.0                0.0  \n",
       "1         0.0                        0.0           0.0                0.0  \n",
       "2         0.0                        0.0           0.0                0.0  \n",
       "3         0.0                        0.0           0.0                0.0  \n",
       "4         0.0                        0.0           0.0                0.0  \n",
       "\n",
       "[5 rows x 124 columns]"
      ]
     },
     "execution_count": 13,
     "metadata": {},
     "output_type": "execute_result"
    }
   ],
   "source": [
    "cleaned_frame.head()"
   ]
  },
  {
   "cell_type": "code",
   "execution_count": 14,
   "metadata": {},
   "outputs": [
    {
     "name": "stderr",
     "output_type": "stream",
     "text": [
      "C:\\Users\\tharaka_50498.DIALOG\\AppData\\Local\\Temp\\1\\ipykernel_11692\\762734398.py:1: SettingWithCopyWarning: \n",
      "A value is trying to be set on a copy of a slice from a DataFrame.\n",
      "Try using .loc[row_indexer,col_indexer] = value instead\n",
      "\n",
      "See the caveats in the documentation: https://pandas.pydata.org/pandas-docs/stable/user_guide/indexing.html#returning-a-view-versus-a-copy\n",
      "  cleaned_frame['date_decision'] = pd.to_datetime(cleaned_frame['date_decision'])\n",
      "C:\\Users\\tharaka_50498.DIALOG\\AppData\\Local\\Temp\\1\\ipykernel_11692\\762734398.py:2: SettingWithCopyWarning: \n",
      "A value is trying to be set on a copy of a slice from a DataFrame.\n",
      "Try using .loc[row_indexer,col_indexer] = value instead\n",
      "\n",
      "See the caveats in the documentation: https://pandas.pydata.org/pandas-docs/stable/user_guide/indexing.html#returning-a-view-versus-a-copy\n",
      "  cleaned_frame['datelastunpaid_3546854D'] = pd.to_datetime(cleaned_frame['datelastunpaid_3546854D'])\n"
     ]
    }
   ],
   "source": [
    "cleaned_frame['date_decision'] = pd.to_datetime(cleaned_frame['date_decision'])\n",
    "cleaned_frame['datelastunpaid_3546854D'] = pd.to_datetime(cleaned_frame['datelastunpaid_3546854D'])"
   ]
  },
  {
   "cell_type": "code",
   "execution_count": 15,
   "metadata": {},
   "outputs": [
    {
     "data": {
      "text/plain": [
       "Timestamp('2020-10-18 00:00:00')"
      ]
     },
     "execution_count": 15,
     "metadata": {},
     "output_type": "execute_result"
    }
   ],
   "source": [
    "cleaned_frame['datelastunpaid_3546854D'].max()"
   ]
  },
  {
   "cell_type": "code",
   "execution_count": 16,
   "metadata": {},
   "outputs": [
    {
     "name": "stderr",
     "output_type": "stream",
     "text": [
      "C:\\Users\\tharaka_50498.DIALOG\\AppData\\Local\\Temp\\1\\ipykernel_11692\\2241679562.py:4: SettingWithCopyWarning: \n",
      "A value is trying to be set on a copy of a slice from a DataFrame.\n",
      "Try using .loc[row_indexer,col_indexer] = value instead\n",
      "\n",
      "See the caveats in the documentation: https://pandas.pydata.org/pandas-docs/stable/user_guide/indexing.html#returning-a-view-versus-a-copy\n",
      "  cleaned_frame['time_delta'] = (date_decision_max - cleaned_frame['datelastunpaid_3546854D']).dt.total_seconds() / 3600\n"
     ]
    }
   ],
   "source": [
    "# add time_delta ----> date_decision_max - datelastunpaid\n",
    "\n",
    "date_decision_max = cleaned_frame['date_decision'].max()\n",
    "cleaned_frame['time_delta'] = (date_decision_max - cleaned_frame['datelastunpaid_3546854D']).dt.total_seconds() / 3600\n"
   ]
  },
  {
   "cell_type": "code",
   "execution_count": 17,
   "metadata": {},
   "outputs": [
    {
     "data": {
      "text/plain": [
       "target\n",
       "0    2049\n",
       "1      51\n",
       "Name: count, dtype: int64"
      ]
     },
     "execution_count": 17,
     "metadata": {},
     "output_type": "execute_result"
    }
   ],
   "source": [
    "cleaned_frame[cleaned_frame['time_delta']==15384.0]['target'].value_counts()"
   ]
  },
  {
   "cell_type": "code",
   "execution_count": 18,
   "metadata": {},
   "outputs": [
    {
     "data": {
      "text/plain": [
       "(1526659, 125)"
      ]
     },
     "execution_count": 18,
     "metadata": {},
     "output_type": "execute_result"
    }
   ],
   "source": [
    "cleaned_frame.shape"
   ]
  },
  {
   "cell_type": "code",
   "execution_count": 19,
   "metadata": {},
   "outputs": [
    {
     "data": {
      "text/html": [
       "<div>\n",
       "<style scoped>\n",
       "    .dataframe tbody tr th:only-of-type {\n",
       "        vertical-align: middle;\n",
       "    }\n",
       "\n",
       "    .dataframe tbody tr th {\n",
       "        vertical-align: top;\n",
       "    }\n",
       "\n",
       "    .dataframe thead th {\n",
       "        text-align: right;\n",
       "    }\n",
       "</style>\n",
       "<table border=\"1\" class=\"dataframe\">\n",
       "  <thead>\n",
       "    <tr style=\"text-align: right;\">\n",
       "      <th></th>\n",
       "      <th>case_id</th>\n",
       "      <th>date_decision</th>\n",
       "      <th>MONTH</th>\n",
       "      <th>WEEK_NUM</th>\n",
       "      <th>target</th>\n",
       "      <th>datelastunpaid_3546854D</th>\n",
       "      <th>bankacctype_710L</th>\n",
       "      <th>cardtype_51L</th>\n",
       "      <th>cntincpaycont9m_3716944L</th>\n",
       "      <th>cntpmts24_3658933L</th>\n",
       "      <th>...</th>\n",
       "      <th>numinstregularpaid_973L</th>\n",
       "      <th>numinsttopaygr_769L</th>\n",
       "      <th>numinstunpaidmax_3546851L</th>\n",
       "      <th>pmtnum_254L</th>\n",
       "      <th>posfpd30lastmonth_3976960P</th>\n",
       "      <th>price_1097A</th>\n",
       "      <th>sumoutstandtotal_3546847A</th>\n",
       "      <th>totaldebt_9A</th>\n",
       "      <th>totalsettled_863A</th>\n",
       "      <th>time_delta</th>\n",
       "    </tr>\n",
       "  </thead>\n",
       "  <tbody>\n",
       "    <tr>\n",
       "      <th>0</th>\n",
       "      <td>0</td>\n",
       "      <td>2019-01-03</td>\n",
       "      <td>201901</td>\n",
       "      <td>0</td>\n",
       "      <td>0</td>\n",
       "      <td>2019-01-03</td>\n",
       "      <td>NA</td>\n",
       "      <td>NOCARD</td>\n",
       "      <td>0.0</td>\n",
       "      <td>0.0</td>\n",
       "      <td>...</td>\n",
       "      <td>0.0</td>\n",
       "      <td>0.0</td>\n",
       "      <td>0.0</td>\n",
       "      <td>24.0</td>\n",
       "      <td>0.0</td>\n",
       "      <td>0.0</td>\n",
       "      <td>0.0</td>\n",
       "      <td>0.0</td>\n",
       "      <td>0.0</td>\n",
       "      <td>15384.0</td>\n",
       "    </tr>\n",
       "    <tr>\n",
       "      <th>1</th>\n",
       "      <td>1</td>\n",
       "      <td>2019-01-03</td>\n",
       "      <td>201901</td>\n",
       "      <td>0</td>\n",
       "      <td>0</td>\n",
       "      <td>2019-01-03</td>\n",
       "      <td>NA</td>\n",
       "      <td>NOCARD</td>\n",
       "      <td>0.0</td>\n",
       "      <td>0.0</td>\n",
       "      <td>...</td>\n",
       "      <td>0.0</td>\n",
       "      <td>0.0</td>\n",
       "      <td>0.0</td>\n",
       "      <td>18.0</td>\n",
       "      <td>0.0</td>\n",
       "      <td>0.0</td>\n",
       "      <td>0.0</td>\n",
       "      <td>0.0</td>\n",
       "      <td>0.0</td>\n",
       "      <td>15384.0</td>\n",
       "    </tr>\n",
       "    <tr>\n",
       "      <th>2</th>\n",
       "      <td>2</td>\n",
       "      <td>2019-01-04</td>\n",
       "      <td>201901</td>\n",
       "      <td>0</td>\n",
       "      <td>0</td>\n",
       "      <td>2019-01-04</td>\n",
       "      <td>NA</td>\n",
       "      <td>NOCARD</td>\n",
       "      <td>0.0</td>\n",
       "      <td>0.0</td>\n",
       "      <td>...</td>\n",
       "      <td>0.0</td>\n",
       "      <td>0.0</td>\n",
       "      <td>0.0</td>\n",
       "      <td>36.0</td>\n",
       "      <td>0.0</td>\n",
       "      <td>0.0</td>\n",
       "      <td>0.0</td>\n",
       "      <td>0.0</td>\n",
       "      <td>0.0</td>\n",
       "      <td>15360.0</td>\n",
       "    </tr>\n",
       "    <tr>\n",
       "      <th>3</th>\n",
       "      <td>3</td>\n",
       "      <td>2019-01-03</td>\n",
       "      <td>201901</td>\n",
       "      <td>0</td>\n",
       "      <td>0</td>\n",
       "      <td>2019-01-03</td>\n",
       "      <td>NA</td>\n",
       "      <td>NOCARD</td>\n",
       "      <td>0.0</td>\n",
       "      <td>0.0</td>\n",
       "      <td>...</td>\n",
       "      <td>0.0</td>\n",
       "      <td>0.0</td>\n",
       "      <td>0.0</td>\n",
       "      <td>12.0</td>\n",
       "      <td>0.0</td>\n",
       "      <td>0.0</td>\n",
       "      <td>0.0</td>\n",
       "      <td>0.0</td>\n",
       "      <td>0.0</td>\n",
       "      <td>15384.0</td>\n",
       "    </tr>\n",
       "    <tr>\n",
       "      <th>4</th>\n",
       "      <td>4</td>\n",
       "      <td>2019-01-04</td>\n",
       "      <td>201901</td>\n",
       "      <td>0</td>\n",
       "      <td>1</td>\n",
       "      <td>2019-01-04</td>\n",
       "      <td>NA</td>\n",
       "      <td>NOCARD</td>\n",
       "      <td>0.0</td>\n",
       "      <td>0.0</td>\n",
       "      <td>...</td>\n",
       "      <td>0.0</td>\n",
       "      <td>0.0</td>\n",
       "      <td>0.0</td>\n",
       "      <td>24.0</td>\n",
       "      <td>0.0</td>\n",
       "      <td>0.0</td>\n",
       "      <td>0.0</td>\n",
       "      <td>0.0</td>\n",
       "      <td>0.0</td>\n",
       "      <td>15360.0</td>\n",
       "    </tr>\n",
       "  </tbody>\n",
       "</table>\n",
       "<p>5 rows × 125 columns</p>\n",
       "</div>"
      ],
      "text/plain": [
       "   case_id date_decision   MONTH  WEEK_NUM  target datelastunpaid_3546854D  \\\n",
       "0        0    2019-01-03  201901         0       0              2019-01-03   \n",
       "1        1    2019-01-03  201901         0       0              2019-01-03   \n",
       "2        2    2019-01-04  201901         0       0              2019-01-04   \n",
       "3        3    2019-01-03  201901         0       0              2019-01-03   \n",
       "4        4    2019-01-04  201901         0       1              2019-01-04   \n",
       "\n",
       "  bankacctype_710L cardtype_51L  cntincpaycont9m_3716944L  cntpmts24_3658933L  \\\n",
       "0               NA       NOCARD                       0.0                 0.0   \n",
       "1               NA       NOCARD                       0.0                 0.0   \n",
       "2               NA       NOCARD                       0.0                 0.0   \n",
       "3               NA       NOCARD                       0.0                 0.0   \n",
       "4               NA       NOCARD                       0.0                 0.0   \n",
       "\n",
       "   ...  numinstregularpaid_973L  numinsttopaygr_769L  \\\n",
       "0  ...                      0.0                  0.0   \n",
       "1  ...                      0.0                  0.0   \n",
       "2  ...                      0.0                  0.0   \n",
       "3  ...                      0.0                  0.0   \n",
       "4  ...                      0.0                  0.0   \n",
       "\n",
       "  numinstunpaidmax_3546851L  pmtnum_254L  posfpd30lastmonth_3976960P  \\\n",
       "0                       0.0         24.0                         0.0   \n",
       "1                       0.0         18.0                         0.0   \n",
       "2                       0.0         36.0                         0.0   \n",
       "3                       0.0         12.0                         0.0   \n",
       "4                       0.0         24.0                         0.0   \n",
       "\n",
       "   price_1097A sumoutstandtotal_3546847A  totaldebt_9A  totalsettled_863A  \\\n",
       "0          0.0                       0.0           0.0                0.0   \n",
       "1          0.0                       0.0           0.0                0.0   \n",
       "2          0.0                       0.0           0.0                0.0   \n",
       "3          0.0                       0.0           0.0                0.0   \n",
       "4          0.0                       0.0           0.0                0.0   \n",
       "\n",
       "   time_delta  \n",
       "0     15384.0  \n",
       "1     15384.0  \n",
       "2     15360.0  \n",
       "3     15384.0  \n",
       "4     15360.0  \n",
       "\n",
       "[5 rows x 125 columns]"
      ]
     },
     "execution_count": 19,
     "metadata": {},
     "output_type": "execute_result"
    }
   ],
   "source": [
    "cleaned_frame.head()"
   ]
  },
  {
   "cell_type": "code",
   "execution_count": 20,
   "metadata": {},
   "outputs": [],
   "source": [
    "cleaned_frame.to_csv('../data/processed/preprocessed.csv.gz', compression='gzip', index=False)"
   ]
  },
  {
   "cell_type": "code",
   "execution_count": null,
   "metadata": {},
   "outputs": [],
   "source": []
  }
 ],
 "metadata": {
  "kernelspec": {
   "display_name": "base",
   "language": "python",
   "name": "python3"
  },
  "language_info": {
   "codemirror_mode": {
    "name": "ipython",
    "version": 3
   },
   "file_extension": ".py",
   "mimetype": "text/x-python",
   "name": "python",
   "nbconvert_exporter": "python",
   "pygments_lexer": "ipython3",
   "version": "3.11.6"
  }
 },
 "nbformat": 4,
 "nbformat_minor": 2
}
