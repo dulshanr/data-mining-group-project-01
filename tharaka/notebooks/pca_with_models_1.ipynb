{
 "cells": [
  {
   "cell_type": "markdown",
   "metadata": {},
   "source": [
    "#### Model testing - Tharaka\n",
    "Plan to do the following in this notebook\n",
    "- Load the data\n",
    "    - Separate labels and features\n",
    "    - Drop the unwanted columns like date and week\n",
    "    - Null fill the remaining columns with a suitable method\n",
    "- Do PCA on the dataset\n",
    "- Split the data into Test and Train\n",
    "- Deal with the class imbalance in the training set\n",
    "- Apply the following models\n",
    "    - Random Forest\n",
    "    - XGBoost"
   ]
  },
  {
   "cell_type": "code",
   "execution_count": 11,
   "metadata": {},
   "outputs": [],
   "source": [
    "import pandas as pd\n",
    "import numpy as np\n",
    "from collections import Counter\n",
    "from sklearn.model_selection import train_test_split \n",
    "\n",
    "from sklearn.decomposition import PCA\n",
    "from sklearn.preprocessing import StandardScaler\n",
    "\n",
    "from imblearn.over_sampling import SMOTE"
   ]
  },
  {
   "cell_type": "markdown",
   "metadata": {},
   "source": [
    "Loading the data\n",
    "\n",
    "> Todo: Use Isuru's post-processed data here. Until then, just use numerics"
   ]
  },
  {
   "cell_type": "code",
   "execution_count": 3,
   "metadata": {},
   "outputs": [
    {
     "name": "stderr",
     "output_type": "stream",
     "text": [
      "C:\\Users\\tharaka_50498.DIALOG\\AppData\\Local\\Temp\\1\\ipykernel_17200\\318835666.py:1: DtypeWarning: Columns (24,49,50,57,60,61,88,150,171,172,173,174,175,177,178,184,185,186,205,206,216,217,218,219,220) have mixed types. Specify dtype option on import or set low_memory=False.\n",
      "  dataset = pd.read_csv(\"../data/raw/cleaned_joined_static_x.csv.gz\", compression='gzip')\n"
     ]
    },
    {
     "data": {
      "text/html": [
       "<div>\n",
       "<style scoped>\n",
       "    .dataframe tbody tr th:only-of-type {\n",
       "        vertical-align: middle;\n",
       "    }\n",
       "\n",
       "    .dataframe tbody tr th {\n",
       "        vertical-align: top;\n",
       "    }\n",
       "\n",
       "    .dataframe thead th {\n",
       "        text-align: right;\n",
       "    }\n",
       "</style>\n",
       "<table border=\"1\" class=\"dataframe\">\n",
       "  <thead>\n",
       "    <tr style=\"text-align: right;\">\n",
       "      <th></th>\n",
       "      <th>case_id</th>\n",
       "      <th>date_decision</th>\n",
       "      <th>MONTH</th>\n",
       "      <th>WEEK_NUM</th>\n",
       "      <th>target</th>\n",
       "      <th>actualdpdtolerance_344P</th>\n",
       "      <th>amtinstpaidbefduel24m_4187115A</th>\n",
       "      <th>annuity_780A</th>\n",
       "      <th>annuitynextmonth_57A</th>\n",
       "      <th>applicationcnt_361L</th>\n",
       "      <th>...</th>\n",
       "      <th>pmtscount_423L</th>\n",
       "      <th>pmtssum_45A</th>\n",
       "      <th>requesttype_4525192L</th>\n",
       "      <th>responsedate_1012D</th>\n",
       "      <th>responsedate_4527233D</th>\n",
       "      <th>responsedate_4917613D</th>\n",
       "      <th>riskassesment_302T</th>\n",
       "      <th>riskassesment_940T</th>\n",
       "      <th>secondquarter_766L</th>\n",
       "      <th>thirdquarter_1082L</th>\n",
       "    </tr>\n",
       "  </thead>\n",
       "  <tbody>\n",
       "    <tr>\n",
       "      <th>0</th>\n",
       "      <td>0</td>\n",
       "      <td>2019-01-03</td>\n",
       "      <td>201901</td>\n",
       "      <td>0</td>\n",
       "      <td>0</td>\n",
       "      <td>NaN</td>\n",
       "      <td>NaN</td>\n",
       "      <td>1917.6</td>\n",
       "      <td>0.0</td>\n",
       "      <td>0.0</td>\n",
       "      <td>...</td>\n",
       "      <td>NaN</td>\n",
       "      <td>NaN</td>\n",
       "      <td>NaN</td>\n",
       "      <td>NaN</td>\n",
       "      <td>NaN</td>\n",
       "      <td>NaN</td>\n",
       "      <td>NaN</td>\n",
       "      <td>NaN</td>\n",
       "      <td>NaN</td>\n",
       "      <td>NaN</td>\n",
       "    </tr>\n",
       "    <tr>\n",
       "      <th>1</th>\n",
       "      <td>1</td>\n",
       "      <td>2019-01-03</td>\n",
       "      <td>201901</td>\n",
       "      <td>0</td>\n",
       "      <td>0</td>\n",
       "      <td>NaN</td>\n",
       "      <td>NaN</td>\n",
       "      <td>3134.0</td>\n",
       "      <td>0.0</td>\n",
       "      <td>0.0</td>\n",
       "      <td>...</td>\n",
       "      <td>NaN</td>\n",
       "      <td>NaN</td>\n",
       "      <td>NaN</td>\n",
       "      <td>NaN</td>\n",
       "      <td>NaN</td>\n",
       "      <td>NaN</td>\n",
       "      <td>NaN</td>\n",
       "      <td>NaN</td>\n",
       "      <td>NaN</td>\n",
       "      <td>NaN</td>\n",
       "    </tr>\n",
       "  </tbody>\n",
       "</table>\n",
       "<p>2 rows × 224 columns</p>\n",
       "</div>"
      ],
      "text/plain": [
       "   case_id date_decision   MONTH  WEEK_NUM  target  actualdpdtolerance_344P  \\\n",
       "0        0    2019-01-03  201901         0       0                      NaN   \n",
       "1        1    2019-01-03  201901         0       0                      NaN   \n",
       "\n",
       "   amtinstpaidbefduel24m_4187115A  annuity_780A  annuitynextmonth_57A  \\\n",
       "0                             NaN        1917.6                   0.0   \n",
       "1                             NaN        3134.0                   0.0   \n",
       "\n",
       "   applicationcnt_361L  ...  pmtscount_423L  pmtssum_45A  \\\n",
       "0                  0.0  ...             NaN          NaN   \n",
       "1                  0.0  ...             NaN          NaN   \n",
       "\n",
       "   requesttype_4525192L  responsedate_1012D  responsedate_4527233D  \\\n",
       "0                   NaN                 NaN                    NaN   \n",
       "1                   NaN                 NaN                    NaN   \n",
       "\n",
       "   responsedate_4917613D  riskassesment_302T  riskassesment_940T  \\\n",
       "0                    NaN                 NaN                 NaN   \n",
       "1                    NaN                 NaN                 NaN   \n",
       "\n",
       "   secondquarter_766L  thirdquarter_1082L  \n",
       "0                 NaN                 NaN  \n",
       "1                 NaN                 NaN  \n",
       "\n",
       "[2 rows x 224 columns]"
      ]
     },
     "execution_count": 3,
     "metadata": {},
     "output_type": "execute_result"
    }
   ],
   "source": [
    "dataset = pd.read_csv(\"../data/raw/cleaned_joined_static_x.csv.gz\", compression='gzip')\n",
    "dataset.head(2)"
   ]
  },
  {
   "cell_type": "code",
   "execution_count": 4,
   "metadata": {},
   "outputs": [
    {
     "data": {
      "text/html": [
       "<div>\n",
       "<style scoped>\n",
       "    .dataframe tbody tr th:only-of-type {\n",
       "        vertical-align: middle;\n",
       "    }\n",
       "\n",
       "    .dataframe tbody tr th {\n",
       "        vertical-align: top;\n",
       "    }\n",
       "\n",
       "    .dataframe thead th {\n",
       "        text-align: right;\n",
       "    }\n",
       "</style>\n",
       "<table border=\"1\" class=\"dataframe\">\n",
       "  <thead>\n",
       "    <tr style=\"text-align: right;\">\n",
       "      <th></th>\n",
       "      <th>case_id</th>\n",
       "      <th>MONTH</th>\n",
       "      <th>WEEK_NUM</th>\n",
       "      <th>target</th>\n",
       "      <th>actualdpdtolerance_344P</th>\n",
       "      <th>amtinstpaidbefduel24m_4187115A</th>\n",
       "      <th>annuity_780A</th>\n",
       "      <th>annuitynextmonth_57A</th>\n",
       "      <th>applicationcnt_361L</th>\n",
       "      <th>applications30d_658L</th>\n",
       "      <th>...</th>\n",
       "      <th>pmtaverage_4527227A</th>\n",
       "      <th>pmtaverage_4955615A</th>\n",
       "      <th>pmtcount_4527229L</th>\n",
       "      <th>pmtcount_4955617L</th>\n",
       "      <th>pmtcount_693L</th>\n",
       "      <th>pmtscount_423L</th>\n",
       "      <th>pmtssum_45A</th>\n",
       "      <th>riskassesment_940T</th>\n",
       "      <th>secondquarter_766L</th>\n",
       "      <th>thirdquarter_1082L</th>\n",
       "    </tr>\n",
       "  </thead>\n",
       "  <tbody>\n",
       "    <tr>\n",
       "      <th>0</th>\n",
       "      <td>0</td>\n",
       "      <td>201901</td>\n",
       "      <td>0</td>\n",
       "      <td>0</td>\n",
       "      <td>0.0</td>\n",
       "      <td>0.0</td>\n",
       "      <td>1917.6</td>\n",
       "      <td>0.0</td>\n",
       "      <td>0.0</td>\n",
       "      <td>0.0</td>\n",
       "      <td>...</td>\n",
       "      <td>0.0</td>\n",
       "      <td>0.0</td>\n",
       "      <td>0.0</td>\n",
       "      <td>0.0</td>\n",
       "      <td>0.0</td>\n",
       "      <td>0.0</td>\n",
       "      <td>0.0</td>\n",
       "      <td>0.0</td>\n",
       "      <td>0.0</td>\n",
       "      <td>0.0</td>\n",
       "    </tr>\n",
       "    <tr>\n",
       "      <th>1</th>\n",
       "      <td>1</td>\n",
       "      <td>201901</td>\n",
       "      <td>0</td>\n",
       "      <td>0</td>\n",
       "      <td>0.0</td>\n",
       "      <td>0.0</td>\n",
       "      <td>3134.0</td>\n",
       "      <td>0.0</td>\n",
       "      <td>0.0</td>\n",
       "      <td>0.0</td>\n",
       "      <td>...</td>\n",
       "      <td>0.0</td>\n",
       "      <td>0.0</td>\n",
       "      <td>0.0</td>\n",
       "      <td>0.0</td>\n",
       "      <td>0.0</td>\n",
       "      <td>0.0</td>\n",
       "      <td>0.0</td>\n",
       "      <td>0.0</td>\n",
       "      <td>0.0</td>\n",
       "      <td>0.0</td>\n",
       "    </tr>\n",
       "  </tbody>\n",
       "</table>\n",
       "<p>2 rows × 168 columns</p>\n",
       "</div>"
      ],
      "text/plain": [
       "   case_id   MONTH  WEEK_NUM  target  actualdpdtolerance_344P  \\\n",
       "0        0  201901         0       0                      0.0   \n",
       "1        1  201901         0       0                      0.0   \n",
       "\n",
       "   amtinstpaidbefduel24m_4187115A  annuity_780A  annuitynextmonth_57A  \\\n",
       "0                             0.0        1917.6                   0.0   \n",
       "1                             0.0        3134.0                   0.0   \n",
       "\n",
       "   applicationcnt_361L  applications30d_658L  ...  pmtaverage_4527227A  \\\n",
       "0                  0.0                   0.0  ...                  0.0   \n",
       "1                  0.0                   0.0  ...                  0.0   \n",
       "\n",
       "   pmtaverage_4955615A  pmtcount_4527229L  pmtcount_4955617L  pmtcount_693L  \\\n",
       "0                  0.0                0.0                0.0            0.0   \n",
       "1                  0.0                0.0                0.0            0.0   \n",
       "\n",
       "   pmtscount_423L  pmtssum_45A  riskassesment_940T  secondquarter_766L  \\\n",
       "0             0.0          0.0                 0.0                 0.0   \n",
       "1             0.0          0.0                 0.0                 0.0   \n",
       "\n",
       "   thirdquarter_1082L  \n",
       "0                 0.0  \n",
       "1                 0.0  \n",
       "\n",
       "[2 rows x 168 columns]"
      ]
     },
     "execution_count": 4,
     "metadata": {},
     "output_type": "execute_result"
    }
   ],
   "source": [
    "dataset_num = dataset.select_dtypes(include='number').fillna(0)\n",
    "dataset_num.head(2)"
   ]
  },
  {
   "cell_type": "markdown",
   "metadata": {},
   "source": [
    "Label separation"
   ]
  },
  {
   "cell_type": "code",
   "execution_count": 5,
   "metadata": {},
   "outputs": [],
   "source": [
    "labels = dataset_num['target'].values\n",
    "samples = dataset_num.drop(columns=['target', 'case_id', 'MONTH', 'WEEK_NUM'])"
   ]
  },
  {
   "cell_type": "markdown",
   "metadata": {},
   "source": [
    "Apply PCA"
   ]
  },
  {
   "cell_type": "code",
   "execution_count": 6,
   "metadata": {},
   "outputs": [
    {
     "data": {
      "text/plain": [
       "array([[-6.02461529e-03, -5.61584324e-01, -7.05648435e-01,\n",
       "        -5.11493499e-01, -2.65756420e-03, -2.82714276e-01,\n",
       "        -1.35708149e-01, -1.10498411e-01, -1.09046784e-01,\n",
       "        -6.62689471e-01, -7.31555489e-02, -4.93321085e-02,\n",
       "        -5.72868138e-02, -1.19424987e-01, -5.61811387e-01,\n",
       "        -2.36743065e-01, -1.09831481e-01, -4.24847336e-01,\n",
       "        -3.44463344e-01, -4.70643880e-02, -3.37861010e-02,\n",
       "        -3.49405411e-02, -1.14100235e-01, -8.76171050e-02,\n",
       "        -1.77621676e-01, -1.24431979e-01, -2.59565920e-03,\n",
       "        -1.02258895e-01, -4.91697755e-02, -6.10140207e-02,\n",
       "        -5.04054214e-02, -1.21969740e-02, -2.67601372e-01,\n",
       "        -6.03071829e-02, -1.07565695e-01, -7.35748250e-01,\n",
       "        -9.04954305e-01,  0.00000000e+00, -4.49717182e-01,\n",
       "        -3.87179880e-01, -2.98892458e-01, -1.66936173e-01,\n",
       "         0.00000000e+00, -3.78181154e-01, -1.34700035e-01,\n",
       "         9.78540379e-01, -7.48968839e-01, -2.56799969e-01,\n",
       "         9.35649629e-01,  0.00000000e+00, -7.40465761e-01,\n",
       "        -6.77409786e-02, -9.83408771e-03, -1.95073129e-02,\n",
       "        -5.58906508e-01, -9.35510680e-01,  0.00000000e+00,\n",
       "         0.00000000e+00, -3.21489088e-01, -9.77500357e-02,\n",
       "        -5.88254823e-02, -9.08138130e-02, -7.25979259e-02,\n",
       "        -7.50956766e-01, -1.15283464e-01, -6.52646490e-01,\n",
       "        -7.70043683e-02, -1.01936857e-01, -4.32191905e-02,\n",
       "        -5.66557723e-02, -6.77822501e-02, -1.67205141e-01,\n",
       "        -4.33826102e-01, -4.81482068e-01, -5.23122702e-01,\n",
       "        -2.46497191e-01,  8.78444788e-04,  2.72098848e-03,\n",
       "        -6.81915389e-01, -8.05036463e-01, -6.64352714e-01,\n",
       "        -3.12970596e-01, -5.15930030e-01, -3.42927922e-01,\n",
       "        -7.26225276e-01, -6.19767809e-01, -4.94008404e-01,\n",
       "        -6.91097502e-01, -2.65557277e-01, -3.57261204e-01,\n",
       "        -7.14381968e-01, -4.71771836e-01, -5.30660187e-01,\n",
       "        -6.19961747e-01, -4.64914110e-01, -4.19163747e-01,\n",
       "        -4.31387011e-01, -4.31640167e-01, -5.73915530e-01,\n",
       "        -4.34198810e-01, -7.26778029e-01, -5.02594420e-01,\n",
       "        -6.94361037e-01, -5.33986976e-01, -4.67222944e-01,\n",
       "        -3.53456278e-01, -4.83065355e-01, -3.65407402e-01,\n",
       "        -1.38028636e-01, -1.50746429e-01, -2.95418073e-01,\n",
       "        -1.04543385e+00, -3.98374982e-01, -5.99694357e-01,\n",
       "        -4.75336878e-01, -4.39788911e-01,  7.38113127e-01,\n",
       "        -1.24666995e-01, -8.60723449e-02, -1.66273822e-01,\n",
       "        -8.62652270e-01, -3.61677047e-01, -7.83808027e-01,\n",
       "        -3.86431819e-01, -2.96316720e-01, -3.87187939e-01,\n",
       "        -5.68192913e-01, -2.68719466e-01, -1.78579263e-01,\n",
       "        -7.15902345e-01, -7.63444723e-01, -5.40289226e-01,\n",
       "        -8.47704708e-01, -6.80362811e-01, -7.33773939e-01,\n",
       "        -1.40181284e-03, -9.34797349e-02, -1.30233348e-02,\n",
       "         0.00000000e+00, -2.91811568e-03, -6.26606330e-02,\n",
       "        -4.42394119e-03,  0.00000000e+00, -7.30276044e-02,\n",
       "        -2.96511700e-02, -1.14457501e-03, -4.57605472e-02,\n",
       "         0.00000000e+00, -1.14457501e-03, -6.55708134e-03,\n",
       "        -8.74199659e-02, -7.67486020e-01, -8.47704708e-01,\n",
       "        -2.72843708e-01, -2.48423471e-01, -2.06417960e-01,\n",
       "        -2.69785088e-01, -2.19910082e-01, -3.09872282e-01,\n",
       "        -5.76248833e-01, -3.86671878e-01, -4.22793100e-02,\n",
       "        -7.48178713e-01, -7.86109245e-01],\n",
       "       [-6.02461529e-03, -5.61584324e-01, -3.01072731e-01,\n",
       "        -5.11493499e-01, -2.65756420e-03, -2.82714276e-01,\n",
       "        -1.35708149e-01, -1.10498411e-01, -1.09046784e-01,\n",
       "        -6.62689471e-01, -7.31555489e-02, -4.93321085e-02,\n",
       "        -5.72868138e-02, -1.19424987e-01, -5.61811387e-01,\n",
       "        -2.36743065e-01, -1.09831481e-01, -4.24847336e-01,\n",
       "        -3.44463344e-01, -4.70643880e-02, -3.37861010e-02,\n",
       "        -3.49405411e-02, -1.14100235e-01, -8.76171050e-02,\n",
       "        -1.77621676e-01, -1.24431979e-01, -2.59565920e-03,\n",
       "         3.79342810e+00, -4.91697755e-02, -6.10140207e-02,\n",
       "        -5.04054214e-02, -1.21969740e-02, -2.67601372e-01,\n",
       "        -6.03071829e-02, -1.07565695e-01, -7.35748250e-01,\n",
       "        -9.04954305e-01,  0.00000000e+00, -6.76049622e-01,\n",
       "        -3.87179880e-01, -2.98892458e-01, -1.66936173e-01,\n",
       "         0.00000000e+00, -6.13449922e-01, -1.34700035e-01,\n",
       "         1.73835555e-01, -7.48968839e-01, -2.56799969e-01,\n",
       "         1.23316167e-01,  0.00000000e+00, -7.40465761e-01,\n",
       "        -6.77409786e-02, -9.83408771e-03, -1.95073129e-02,\n",
       "        -5.58906508e-01, -9.35510680e-01,  0.00000000e+00,\n",
       "         0.00000000e+00, -3.21489088e-01, -9.77500357e-02,\n",
       "        -5.88254823e-02, -9.08138130e-02, -7.25979259e-02,\n",
       "        -7.50956766e-01, -1.15283464e-01, -6.52646490e-01,\n",
       "        -7.70043683e-02, -1.01936857e-01, -4.32191905e-02,\n",
       "        -5.66557723e-02, -6.77822501e-02, -1.67205141e-01,\n",
       "        -4.33826102e-01, -4.81482068e-01, -5.23122702e-01,\n",
       "        -2.46497191e-01,  8.78444788e-04,  2.72098848e-03,\n",
       "        -6.81915389e-01, -8.05036463e-01, -6.64352714e-01,\n",
       "        -3.12970596e-01, -5.15930030e-01, -3.42927922e-01,\n",
       "        -7.26225276e-01, -6.19767809e-01, -4.94008404e-01,\n",
       "        -6.91097502e-01, -2.65557277e-01, -3.57261204e-01,\n",
       "        -7.14381968e-01, -4.71771836e-01, -5.30660187e-01,\n",
       "        -6.19961747e-01, -4.64914110e-01, -4.19163747e-01,\n",
       "        -4.31387011e-01, -4.31640167e-01, -5.73915530e-01,\n",
       "        -4.34198810e-01, -7.26778029e-01, -5.02594420e-01,\n",
       "        -6.94361037e-01, -5.33986976e-01, -4.67222944e-01,\n",
       "        -3.53456278e-01, -4.83065355e-01, -3.65407402e-01,\n",
       "        -1.38028636e-01, -1.50746429e-01, -2.95418073e-01,\n",
       "        -1.04543385e+00, -3.98374982e-01, -5.99694357e-01,\n",
       "        -4.75336878e-01, -4.39788911e-01,  1.41954692e-01,\n",
       "        -1.24666995e-01, -8.60723449e-02, -1.66273822e-01,\n",
       "        -8.62652270e-01, -3.61677047e-01, -7.83808027e-01,\n",
       "        -3.86431819e-01, -2.96316720e-01, -3.87187939e-01,\n",
       "        -5.68192913e-01, -2.68719466e-01, -1.78579263e-01,\n",
       "        -7.15902345e-01, -7.63444723e-01, -5.40289226e-01,\n",
       "        -8.47704708e-01, -6.80362811e-01, -7.33773939e-01,\n",
       "        -1.40181284e-03, -9.34797349e-02, -1.30233348e-02,\n",
       "         0.00000000e+00, -2.91811568e-03, -6.26606330e-02,\n",
       "        -4.42394119e-03,  0.00000000e+00, -7.30276044e-02,\n",
       "        -2.96511700e-02, -1.14457501e-03, -4.57605472e-02,\n",
       "         0.00000000e+00, -1.14457501e-03, -6.55708134e-03,\n",
       "        -8.74199659e-02, -7.67486020e-01, -8.47704708e-01,\n",
       "        -2.72843708e-01, -2.48423471e-01, -2.06417960e-01,\n",
       "        -2.69785088e-01, -2.19910082e-01, -3.09872282e-01,\n",
       "        -5.76248833e-01, -3.86671878e-01, -4.22793100e-02,\n",
       "        -7.48178713e-01, -7.86109245e-01]])"
      ]
     },
     "execution_count": 6,
     "metadata": {},
     "output_type": "execute_result"
    }
   ],
   "source": [
    "# standardizing for PCA\n",
    "st_scaler = StandardScaler()\n",
    "X = st_scaler.fit_transform(samples.values)\n",
    "X[0:2]"
   ]
  },
  {
   "cell_type": "code",
   "execution_count": 7,
   "metadata": {},
   "outputs": [],
   "source": [
    "REQUIRED_VARIANCE = 0.85"
   ]
  },
  {
   "cell_type": "code",
   "execution_count": 8,
   "metadata": {},
   "outputs": [],
   "source": [
    "pca = PCA(n_components=REQUIRED_VARIANCE, svd_solver='full')\n",
    "X_pca = pca.fit_transform(X)"
   ]
  },
  {
   "cell_type": "code",
   "execution_count": 9,
   "metadata": {},
   "outputs": [
    {
     "data": {
      "text/plain": [
       "((1526659, 55), (1526659,))"
      ]
     },
     "execution_count": 9,
     "metadata": {},
     "output_type": "execute_result"
    }
   ],
   "source": [
    "X_pca.shape, labels.shape"
   ]
  },
  {
   "cell_type": "code",
   "execution_count": 10,
   "metadata": {},
   "outputs": [],
   "source": [
    "X_train, X_test, y_train, y_test = train_test_split(X_pca, labels, test_size=0.2)"
   ]
  },
  {
   "cell_type": "markdown",
   "metadata": {},
   "source": [
    "Fixing class imbalance"
   ]
  },
  {
   "cell_type": "code",
   "execution_count": 12,
   "metadata": {},
   "outputs": [
    {
     "data": {
      "text/plain": [
       "Counter({0: 1182921, 1: 38406})"
      ]
     },
     "execution_count": 12,
     "metadata": {},
     "output_type": "execute_result"
    }
   ],
   "source": [
    "Counter(y_train)"
   ]
  },
  {
   "cell_type": "code",
   "execution_count": 14,
   "metadata": {},
   "outputs": [],
   "source": [
    "smote = SMOTE(sampling_strategy=1.0)\n",
    "X_train_res, y_train_res = smote.fit_resample(X_train, y_train)"
   ]
  },
  {
   "cell_type": "code",
   "execution_count": 15,
   "metadata": {},
   "outputs": [
    {
     "data": {
      "text/plain": [
       "((2365842, 55), (2365842,))"
      ]
     },
     "execution_count": 15,
     "metadata": {},
     "output_type": "execute_result"
    }
   ],
   "source": [
    "X_train_res.shape, y_train_res.shape"
   ]
  },
  {
   "cell_type": "code",
   "execution_count": 16,
   "metadata": {},
   "outputs": [
    {
     "data": {
      "text/plain": [
       "Counter({0: 1182921, 1: 1182921})"
      ]
     },
     "execution_count": 16,
     "metadata": {},
     "output_type": "execute_result"
    }
   ],
   "source": [
    "Counter(y_train_res)"
   ]
  },
  {
   "cell_type": "code",
   "execution_count": null,
   "metadata": {},
   "outputs": [],
   "source": []
  }
 ],
 "metadata": {
  "kernelspec": {
   "display_name": "Python 3",
   "language": "python",
   "name": "python3"
  },
  "language_info": {
   "codemirror_mode": {
    "name": "ipython",
    "version": 3
   },
   "file_extension": ".py",
   "mimetype": "text/x-python",
   "name": "python",
   "nbconvert_exporter": "python",
   "pygments_lexer": "ipython3",
   "version": "3.11.6"
  }
 },
 "nbformat": 4,
 "nbformat_minor": 2
}
