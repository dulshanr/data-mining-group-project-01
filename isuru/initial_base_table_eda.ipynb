{
 "cells": [
  {
   "cell_type": "code",
   "execution_count": 1,
   "metadata": {},
   "outputs": [],
   "source": [
    "import pandas as pd"
   ]
  },
  {
   "cell_type": "code",
   "execution_count": 4,
   "metadata": {},
   "outputs": [
    {
     "name": "stdout",
     "output_type": "stream",
     "text": [
      "head of train \n",
      "     case_id date_decision   MONTH  WEEK_NUM  target\n",
      "0        0    2019-01-03  201901         0       0\n",
      "1        1    2019-01-03  201901         0       0\n",
      "2        2    2019-01-04  201901         0       0\n",
      "3        3    2019-01-03  201901         0       0\n",
      "4        4    2019-01-04  201901         0       1\n",
      "head of test \n",
      "    case_id date_decision   MONTH  WEEK_NUM\n",
      "0    57543    2021-05-14  202201       100\n",
      "1    57549    2022-01-17  202201       100\n",
      "2    57551    2020-11-27  202201       100\n",
      "3    57552    2020-11-27  202201       100\n",
      "4    57569    2021-12-20  202201       100\n"
     ]
    }
   ],
   "source": [
    "train= pd.read_parquet(\"data/raw/train_base.parquet\")\n",
    "print(\"head of train \\n \", train.head())\n",
    "\n",
    "test= pd.read_parquet(\"data/raw/test_base.parquet\")\n",
    "print(\"head of test \\n\",test.head())\n"
   ]
  },
  {
   "cell_type": "code",
   "execution_count": 6,
   "metadata": {},
   "outputs": [
    {
     "name": "stdout",
     "output_type": "stream",
     "text": [
      "Shape of train df: \n",
      " (1526659, 5)\n",
      "Shape of test df: \n",
      " (10, 4)\n"
     ]
    }
   ],
   "source": [
    "print(\"Shape of train df: \\n\", train.shape)\n",
    "print(\"Shape of test df: \\n\", test.shape)"
   ]
  },
  {
   "cell_type": "code",
   "execution_count": 7,
   "metadata": {},
   "outputs": [
    {
     "name": "stdout",
     "output_type": "stream",
     "text": [
      "Null check on train df:\n",
      " case_id          0\n",
      "date_decision    0\n",
      "MONTH            0\n",
      "WEEK_NUM         0\n",
      "target           0\n",
      "dtype: int64\n",
      "Null check on test df:\n",
      " case_id          0\n",
      "date_decision    0\n",
      "MONTH            0\n",
      "WEEK_NUM         0\n",
      "dtype: int64\n"
     ]
    }
   ],
   "source": [
    "print(\"Null check on train df:\\n\", train.isnull().sum())\n",
    "print(\"Null check on test df:\\n\", test.isnull().sum())"
   ]
  },
  {
   "cell_type": "code",
   "execution_count": 8,
   "metadata": {},
   "outputs": [
    {
     "name": "stdout",
     "output_type": "stream",
     "text": [
      "<class 'pandas.core.frame.DataFrame'>\n",
      "RangeIndex: 1526659 entries, 0 to 1526658\n",
      "Data columns (total 5 columns):\n",
      " #   Column         Non-Null Count    Dtype \n",
      "---  ------         --------------    ----- \n",
      " 0   case_id        1526659 non-null  int64 \n",
      " 1   date_decision  1526659 non-null  object\n",
      " 2   MONTH          1526659 non-null  int64 \n",
      " 3   WEEK_NUM       1526659 non-null  int64 \n",
      " 4   target         1526659 non-null  int64 \n",
      "dtypes: int64(4), object(1)\n",
      "memory usage: 58.2+ MB\n",
      "\n",
      " Basic info on train df: \n",
      " None\n",
      "<class 'pandas.core.frame.DataFrame'>\n",
      "RangeIndex: 10 entries, 0 to 9\n",
      "Data columns (total 4 columns):\n",
      " #   Column         Non-Null Count  Dtype \n",
      "---  ------         --------------  ----- \n",
      " 0   case_id        10 non-null     int64 \n",
      " 1   date_decision  10 non-null     object\n",
      " 2   MONTH          10 non-null     int64 \n",
      " 3   WEEK_NUM       10 non-null     int64 \n",
      "dtypes: int64(3), object(1)\n",
      "memory usage: 452.0+ bytes\n",
      " \n",
      " Basic info on test df: \n",
      " None\n"
     ]
    }
   ],
   "source": [
    "print(\"\\n Basic info on train df: \\n\", train.info())\n",
    "\n",
    "print(\" \\n Basic info on test df: \\n\", test.info())\n"
   ]
  }
 ],
 "metadata": {
  "kernelspec": {
   "display_name": "base",
   "language": "python",
   "name": "python3"
  },
  "language_info": {
   "codemirror_mode": {
    "name": "ipython",
    "version": 3
   },
   "file_extension": ".py",
   "mimetype": "text/x-python",
   "name": "python",
   "nbconvert_exporter": "python",
   "pygments_lexer": "ipython3",
   "version": "3.11.5"
  }
 },
 "nbformat": 4,
 "nbformat_minor": 2
}
